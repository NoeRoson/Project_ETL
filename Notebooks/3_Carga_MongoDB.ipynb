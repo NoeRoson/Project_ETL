{
 "cells": [
  {
   "cell_type": "markdown",
   "metadata": {},
   "source": [
    "### **CARGA EN BASE DE DATOS: *MONGODB***\n",
    "\n",
    "MongoDB es un sistema de base de datos NoSQL, orientado a documentos y de código abierto que, en lugar de guardar los datos en tablas, los guarda en estructuras de datos BSON, similar a JSON.\n",
    "\n",
    "Se cargan en este sistema los cuatro archivos csv generados para futuros análisis de los mismos."
   ]
  },
  {
   "cell_type": "code",
   "execution_count": 3,
   "metadata": {},
   "outputs": [],
   "source": [
    "\n",
    "import pandas as pd\n",
    "from pymongo import MongoClient\n"
   ]
  },
  {
   "cell_type": "code",
   "execution_count": 8,
   "metadata": {},
   "outputs": [],
   "source": [
    "llam = pd.read_csv('/Users/noeliarosonmartin/Ironhack/Project_ETL/data/data_clean/llamadas_016.csv')\n",
    "denu = pd.read_csv('/Users/noeliarosonmartin/Ironhack/Project_ETL/data/data_clean/denuncias_vg.csv')\n",
    "vict = pd.read_csv('/Users/noeliarosonmartin/Ironhack/Project_ETL/data/data_clean/victimas_mortales_vg.csv')\n",
    "camp = pd.read_csv('/Users/noeliarosonmartin/Ironhack/Project_ETL/data/data_clean/campañas_vg.csv')\n"
   ]
  },
  {
   "cell_type": "code",
   "execution_count": 4,
   "metadata": {},
   "outputs": [
    {
     "data": {
      "text/plain": [
       "MongoClient(host=['localhost:27017'], document_class=dict, tz_aware=False, connect=True)"
      ]
     },
     "execution_count": 4,
     "metadata": {},
     "output_type": "execute_result"
    }
   ],
   "source": [
    "client = MongoClient(\"mongodb://localhost:27017\")\n",
    "client"
   ]
  },
  {
   "cell_type": "code",
   "execution_count": 5,
   "metadata": {},
   "outputs": [],
   "source": [
    "# Creación de la base de datos:\n",
    "\n",
    "db = client['impacto_vg']    "
   ]
  },
  {
   "cell_type": "code",
   "execution_count": 11,
   "metadata": {},
   "outputs": [
    {
     "data": {
      "text/plain": [
       "InsertManyResult([ObjectId('65494598382a5666bab0542a'), ObjectId('65494598382a5666bab0542b'), ObjectId('65494598382a5666bab0542c'), ObjectId('65494598382a5666bab0542d'), ObjectId('65494598382a5666bab0542e'), ObjectId('65494598382a5666bab0542f'), ObjectId('65494598382a5666bab05430'), ObjectId('65494598382a5666bab05431'), ObjectId('65494598382a5666bab05432'), ObjectId('65494598382a5666bab05433')], acknowledged=True)"
      ]
     },
     "execution_count": 11,
     "metadata": {},
     "output_type": "execute_result"
    }
   ],
   "source": [
    "# Inserción de los datos:\n",
    "\n",
    "db['llamadas'].insert_many(llam.to_dict(orient='records'))\n",
    "db['denuncias'].insert_many(denu.to_dict(orient='records'))\n",
    "db['victimas'].insert_many(vict.to_dict(orient='records'))\n",
    "db['campañas'].insert_many(camp.to_dict(orient='records'))"
   ]
  },
  {
   "cell_type": "code",
   "execution_count": 12,
   "metadata": {},
   "outputs": [
    {
     "data": {
      "text/plain": [
       "['campañas', 'llamadas', 'denuncias', 'victimas']"
      ]
     },
     "execution_count": 12,
     "metadata": {},
     "output_type": "execute_result"
    }
   ],
   "source": [
    "db.list_collection_names()"
   ]
  },
  {
   "cell_type": "markdown",
   "metadata": {},
   "source": [
    "#### **¿EN QUÉ MES DE 2020 HUBO CAMPAÑA DE PREVENCIÓN?**"
   ]
  },
  {
   "cell_type": "code",
   "execution_count": 13,
   "metadata": {},
   "outputs": [
    {
     "data": {
      "text/plain": [
       "\"Hubo campaña en [{'Año': 2020, 'Mes': 11}]\""
      ]
     },
     "execution_count": 13,
     "metadata": {},
     "output_type": "execute_result"
    }
   ],
   "source": [
    "\n",
    "query = { 'Año': 2020}\n",
    "\n",
    "select = {  'Año': 1,\n",
    "            '_id': 0,\n",
    "            'Mes': 1}\n",
    "\n",
    "resultado = list(db['campañas'].find(query, select))\n",
    "\n",
    "f'Hubo campaña en {resultado}'\n"
   ]
  },
  {
   "cell_type": "markdown",
   "metadata": {},
   "source": [
    "\n",
    "#### **¿QUÉ PROVINCIAS RECIBIERON MÁS LLAMADAS AL 016 EN LOS MESES SIGUIENTES A LA CAMPAÑA DE NOVIEMBRE 2020?**"
   ]
  },
  {
   "cell_type": "code",
   "execution_count": 14,
   "metadata": {},
   "outputs": [
    {
     "data": {
      "text/plain": [
       "[{'Provincia': 'Madrid', 'Mes': 12, 'Numero_llamadas': 1115},\n",
       " {'Provincia': 'Madrid', 'Mes': 11, 'Numero_llamadas': 1087},\n",
       " {'Provincia': 'Barcelona', 'Mes': 12, 'Numero_llamadas': 517},\n",
       " {'Provincia': 'Barcelona', 'Mes': 11, 'Numero_llamadas': 469},\n",
       " {'Provincia': 'Valencia/València', 'Mes': 12, 'Numero_llamadas': 323}]"
      ]
     },
     "execution_count": 14,
     "metadata": {},
     "output_type": "execute_result"
    }
   ],
   "source": [
    "query = {'Año': 2020,\n",
    "         'Mes': {'$in': [11, 12]}}     \n",
    "select = {  'Provincia': 1,\n",
    "            '_id': 0,\n",
    "            'Mes': 1,\n",
    "            'Numero_llamadas': 1}\n",
    "\n",
    "resultado = list(db['llamadas'].find(query, select).sort('Numero_llamadas', -1).limit(5))\n",
    "\n",
    "resultado"
   ]
  },
  {
   "cell_type": "markdown",
   "metadata": {},
   "source": [
    "#### **¿Y SI LO COMPARAMOS CON LOS MESES ANTERIORES?**\n",
    "\n",
    "Ejemplo: Sevilla"
   ]
  },
  {
   "cell_type": "code",
   "execution_count": 15,
   "metadata": {},
   "outputs": [
    {
     "data": {
      "text/plain": [
       "[{'Año': 2020, 'Mes': 8, 'Numero_llamadas': 296},\n",
       " {'Año': 2020, 'Mes': 9, 'Numero_llamadas': 278},\n",
       " {'Año': 2020, 'Mes': 10, 'Numero_llamadas': 207},\n",
       " {'Año': 2020, 'Mes': 11, 'Numero_llamadas': 213},\n",
       " {'Año': 2020, 'Mes': 12, 'Numero_llamadas': 232}]"
      ]
     },
     "execution_count": 15,
     "metadata": {},
     "output_type": "execute_result"
    }
   ],
   "source": [
    "query = {'Año': 2020,\n",
    "         'Mes': {'$in': [8, 9, 10, 11, 12]},\n",
    "         'Provincia': 'Sevilla'}     \n",
    "select = { '_id': 0,\n",
    "            'Mes': 1,\n",
    "            'Año': 1,\n",
    "            'Numero_llamadas': 1}\n",
    "\n",
    "resultado = list(db['llamadas'].find(query, select).limit(10))\n",
    "\n",
    "resultado"
   ]
  },
  {
   "cell_type": "markdown",
   "metadata": {},
   "source": [
    "Ejemplo: Barcelona"
   ]
  },
  {
   "cell_type": "code",
   "execution_count": 17,
   "metadata": {},
   "outputs": [
    {
     "data": {
      "text/plain": [
       "[{'Año': 2020, 'Mes': 8, 'Numero_llamadas': 709},\n",
       " {'Año': 2020, 'Mes': 9, 'Numero_llamadas': 606},\n",
       " {'Año': 2020, 'Mes': 10, 'Numero_llamadas': 502},\n",
       " {'Año': 2020, 'Mes': 11, 'Numero_llamadas': 469},\n",
       " {'Año': 2020, 'Mes': 12, 'Numero_llamadas': 517}]"
      ]
     },
     "execution_count": 17,
     "metadata": {},
     "output_type": "execute_result"
    }
   ],
   "source": [
    "query = {'Año': 2020,\n",
    "         'Mes': {'$in': [8, 9, 10, 11, 12]},\n",
    "         'Provincia': 'Barcelona'}     \n",
    "select = { '_id': 0,\n",
    "            'Mes': 1,\n",
    "            'Año': 1,\n",
    "            'Numero_llamadas': 1}\n",
    "\n",
    "resultado = list(db['llamadas'].find(query, select).limit(10))\n",
    "\n",
    "resultado"
   ]
  },
  {
   "cell_type": "markdown",
   "metadata": {},
   "source": [
    "Como observamos, en esas dos ciudades las llamadas bajaron tras la primera campaña. Vamos a observar esos dos ejemplos y vamos a comprobar las llamadas en esos meses del año siguiente. Pero primero comprobaremos cuántas campañas hubo durante el 2021."
   ]
  },
  {
   "cell_type": "code",
   "execution_count": 37,
   "metadata": {},
   "outputs": [
    {
     "data": {
      "text/plain": [
       "\"Hubo 6 campañas en los meses [{'Mes': 11}, {'Mes': 11}, {'Mes': 10}, {'Mes': 5}, {'Mes': 4}, {'Mes': 3}] de 2021\""
      ]
     },
     "execution_count": 37,
     "metadata": {},
     "output_type": "execute_result"
    }
   ],
   "source": [
    "query = { 'Año': 2021}\n",
    "\n",
    "select = {'_id': 0,\n",
    "          'Mes': 1}\n",
    "\n",
    "resultado = list(db['campañas'].find(query, select))\n",
    "Mes = resultado\n",
    "\n",
    "f'Hubo {len(resultado)} campañas en los meses {Mes} de 2021'"
   ]
  },
  {
   "cell_type": "code",
   "execution_count": 12,
   "metadata": {},
   "outputs": [
    {
     "data": {
      "text/plain": [
       "[{'Mes': 8, 'Numero_llamadas': 297},\n",
       " {'Mes': 9, 'Numero_llamadas': 273},\n",
       " {'Mes': 10, 'Numero_llamadas': 304},\n",
       " {'Mes': 11, 'Numero_llamadas': 253},\n",
       " {'Mes': 12, 'Numero_llamadas': 248}]"
      ]
     },
     "execution_count": 12,
     "metadata": {},
     "output_type": "execute_result"
    }
   ],
   "source": [
    "query = {'Año': 2021,\n",
    "         'Mes': {'$in': [8, 9, 10, 11, 12]},\n",
    "         'Provincia': 'Sevilla'}     \n",
    "select = { '_id': 0,\n",
    "            'Mes': 1,\n",
    "            'Numero_llamadas': 1}\n",
    "\n",
    "resultado = list(db['llamadas'].find(query, select).limit(10))\n",
    "\n",
    "resultado"
   ]
  },
  {
   "cell_type": "markdown",
   "metadata": {},
   "source": [
    "Se observa una pequeña subida en las llamadas en los meses de octubre, noviembre y diciembre de 2021, con respecto a 2020, en Sevilla."
   ]
  },
  {
   "cell_type": "code",
   "execution_count": 11,
   "metadata": {},
   "outputs": [
    {
     "data": {
      "text/plain": [
       "[{'Mes': 8, 'Numero_llamadas': 793},\n",
       " {'Mes': 9, 'Numero_llamadas': 729},\n",
       " {'Mes': 10, 'Numero_llamadas': 782},\n",
       " {'Mes': 11, 'Numero_llamadas': 757},\n",
       " {'Mes': 12, 'Numero_llamadas': 671}]"
      ]
     },
     "execution_count": 11,
     "metadata": {},
     "output_type": "execute_result"
    }
   ],
   "source": [
    "query = {'Año': 2021,\n",
    "         'Mes': {'$in': [8, 9, 10, 11, 12]},\n",
    "         'Provincia': 'Barcelona'}     \n",
    "select = { '_id': 0,\n",
    "            'Mes': 1,\n",
    "            'Numero_llamadas': 1}\n",
    "\n",
    "resultado = list(db['llamadas'].find(query, select).limit(10))\n",
    "\n",
    "resultado"
   ]
  },
  {
   "cell_type": "markdown",
   "metadata": {},
   "source": [
    "En Barcelona se observa un incremento generalizado en todos esos meses con respecto al año anterior, si bien es cierto que en los meses de noviembre y diciembre el aumento parece mayor."
   ]
  },
  {
   "cell_type": "markdown",
   "metadata": {},
   "source": [
    "Centrándonos en la ciudad de Sevilla, vamos a observar cuál es el mes con más llamadas en todos los años:"
   ]
  },
  {
   "cell_type": "code",
   "execution_count": 17,
   "metadata": {},
   "outputs": [
    {
     "data": {
      "text/plain": [
       "[{'Año': 2020, 'Mes': 6, 'Numero_llamadas': 405},\n",
       " {'Año': 2021, 'Mes': 6, 'Numero_llamadas': 394},\n",
       " {'Año': 2020, 'Mes': 5, 'Numero_llamadas': 384}]"
      ]
     },
     "execution_count": 17,
     "metadata": {},
     "output_type": "execute_result"
    }
   ],
   "source": [
    "query = {'Provincia': 'Sevilla'}     \n",
    "select = { '_id': 0,\n",
    "            'Mes': 1,\n",
    "            'Año': 1,\n",
    "            'Numero_llamadas': 1}\n",
    "\n",
    "resultado = list(db['llamadas'].find(query, select).sort('Numero_llamadas', -1).limit(3))\n",
    "\n",
    "resultado"
   ]
  },
  {
   "cell_type": "markdown",
   "metadata": {},
   "source": [
    "Y ahora, el mes con menos llamadas en todos los años:"
   ]
  },
  {
   "cell_type": "code",
   "execution_count": 18,
   "metadata": {},
   "outputs": [
    {
     "data": {
      "text/plain": [
       "[{'Año': 2021, 'Mes': 2, 'Numero_llamadas': 163},\n",
       " {'Año': 2020, 'Mes': 10, 'Numero_llamadas': 207},\n",
       " {'Año': 2020, 'Mes': 11, 'Numero_llamadas': 213}]"
      ]
     },
     "execution_count": 18,
     "metadata": {},
     "output_type": "execute_result"
    }
   ],
   "source": [
    "query = {'Provincia': 'Sevilla'}     \n",
    "select = { '_id': 0,\n",
    "            'Mes': 1,\n",
    "            'Año': 1,\n",
    "            'Numero_llamadas': 1}\n",
    "\n",
    "resultado = list(db['llamadas'].find(query, select).sort('Numero_llamadas').limit(3))\n",
    "\n",
    "resultado"
   ]
  },
  {
   "cell_type": "markdown",
   "metadata": {},
   "source": [
    "#### **¿CUÁL FUE EL TRIMESTRE CON MÁS DENUNCIAS EN LA CIUDAD DE SEVILLA?**"
   ]
  },
  {
   "cell_type": "code",
   "execution_count": 36,
   "metadata": {},
   "outputs": [
    {
     "data": {
      "text/plain": [
       "[{'Año': 2022, 'Trimestre': 3, 'Numero_denuncias': 1980}]"
      ]
     },
     "execution_count": 36,
     "metadata": {},
     "output_type": "execute_result"
    }
   ],
   "source": [
    "query = {'Provincia': 'Sevilla'}     \n",
    "select = { '_id': 0,\n",
    "            'Trimestre': 1,\n",
    "            'Año': 1,\n",
    "            'Numero_denuncias': 1}\n",
    "\n",
    "resultado = list(db['denuncias'].find(query, select).sort('Numero_denuncias', -1).limit(1))\n",
    "\n",
    "resultado"
   ]
  }
 ],
 "metadata": {
  "kernelspec": {
   "display_name": "clase",
   "language": "python",
   "name": "clase"
  },
  "language_info": {
   "codemirror_mode": {
    "name": "ipython",
    "version": 3
   },
   "file_extension": ".py",
   "mimetype": "text/x-python",
   "name": "python",
   "nbconvert_exporter": "python",
   "pygments_lexer": "ipython3",
   "version": "3.10.13"
  }
 },
 "nbformat": 4,
 "nbformat_minor": 2
}
