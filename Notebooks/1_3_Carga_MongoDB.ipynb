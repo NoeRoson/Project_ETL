{
 "cells": [
  {
   "cell_type": "markdown",
   "metadata": {},
   "source": [
    "### **CARGA EN BASE DE DATOS: *MONGODB***\n",
    "\n",
    "MongoDB es un sistema de base de datos NoSQL, orientado a documentos y de código abierto que, en lugar de guardar los datos en tablas, los guarda en estructuras de datos BSON, similar a JSON.\n",
    "\n",
    "Se cargan en este sistema los cuatro archivos csv generados para futuros análisis de los mismos."
   ]
  },
  {
   "cell_type": "code",
   "execution_count": 2,
   "metadata": {},
   "outputs": [],
   "source": [
    "\n",
    "import pandas as pd\n",
    "from pymongo import MongoClient\n"
   ]
  },
  {
   "cell_type": "code",
   "execution_count": 3,
   "metadata": {},
   "outputs": [],
   "source": [
    "llam = pd.read_csv('/Users/noeliarosonmartin/Ironhack/Project_ETL/data/data_clean/llamadas_016.csv')\n",
    "denu = pd.read_csv('/Users/noeliarosonmartin/Ironhack/Project_ETL/data/data_clean/denuncias_vg.csv')\n",
    "vict = pd.read_csv('/Users/noeliarosonmartin/Ironhack/Project_ETL/data/data_clean/victimas_mortales_vg.csv')\n",
    "camp = pd.read_csv('/Users/noeliarosonmartin/Ironhack/Project_ETL/data/data_clean/campañas_vg.csv')\n"
   ]
  },
  {
   "cell_type": "code",
   "execution_count": 4,
   "metadata": {},
   "outputs": [
    {
     "data": {
      "text/plain": [
       "MongoClient(host=['localhost:27017'], document_class=dict, tz_aware=False, connect=True)"
      ]
     },
     "execution_count": 4,
     "metadata": {},
     "output_type": "execute_result"
    }
   ],
   "source": [
    "client = MongoClient(\"mongodb://localhost:27017\")\n",
    "client"
   ]
  },
  {
   "cell_type": "code",
   "execution_count": 6,
   "metadata": {},
   "outputs": [],
   "source": [
    "# Creación de la base de datos:\n",
    "\n",
    "db = client['impacto_vg']    "
   ]
  },
  {
   "cell_type": "code",
   "execution_count": 12,
   "metadata": {},
   "outputs": [
    {
     "data": {
      "text/plain": [
       "InsertManyResult([ObjectId('6547df605bc8cadf5234ef3a'), ObjectId('6547df605bc8cadf5234ef3b'), ObjectId('6547df605bc8cadf5234ef3c'), ObjectId('6547df605bc8cadf5234ef3d'), ObjectId('6547df605bc8cadf5234ef3e'), ObjectId('6547df605bc8cadf5234ef3f'), ObjectId('6547df605bc8cadf5234ef40'), ObjectId('6547df605bc8cadf5234ef41'), ObjectId('6547df605bc8cadf5234ef42'), ObjectId('6547df605bc8cadf5234ef43')], acknowledged=True)"
      ]
     },
     "execution_count": 12,
     "metadata": {},
     "output_type": "execute_result"
    }
   ],
   "source": [
    "# Inserción de los datos:\n",
    "\n",
    "db['llamadas'].insert_many(llam.to_dict(orient='records'))\n",
    "db['denuncias'].insert_many(denu.to_dict(orient='records'))\n",
    "db['victimas'].insert_many(vict.to_dict(orient='records'))\n",
    "db['campañas'].insert_many(camp.to_dict(orient='records'))"
   ]
  },
  {
   "cell_type": "code",
   "execution_count": 13,
   "metadata": {},
   "outputs": [
    {
     "data": {
      "text/plain": [
       "['victimas', 'llamadas', 'campañas', 'denuncias']"
      ]
     },
     "execution_count": 13,
     "metadata": {},
     "output_type": "execute_result"
    }
   ],
   "source": [
    "db.list_collection_names()"
   ]
  },
  {
   "cell_type": "markdown",
   "metadata": {},
   "source": [
    "#### **¿EN QUÉ MES DE 2020 HUBO CAMPAÑA DE PREVENCIÓN?**"
   ]
  },
  {
   "cell_type": "code",
   "execution_count": null,
   "metadata": {},
   "outputs": [
    {
     "data": {
      "text/plain": [
       "\"Hubo campaña en [{'Año': 2020, 'Mes': 11}]\""
      ]
     },
     "execution_count": 36,
     "metadata": {},
     "output_type": "execute_result"
    }
   ],
   "source": [
    "\n",
    "query = { 'Año': 2020}\n",
    "\n",
    "select = {  'Año': 1,\n",
    "            '_id': 0,\n",
    "            'Mes': 1}\n",
    "\n",
    "resultado = list(db['campañas'].find(query, select))\n",
    "\n",
    "f'Hubo campaña en {resultado}'\n"
   ]
  },
  {
   "cell_type": "markdown",
   "metadata": {},
   "source": [
    "\n",
    "#### **¿QUÉ PROVINCIAS RECIBIERON MÁS LLAMADAS AL 016 EN LOS MESES SIGUIENTES A LA CAMPAÑA DE NOVIEMBRE 2020?**"
   ]
  },
  {
   "cell_type": "code",
   "execution_count": 37,
   "metadata": {},
   "outputs": [
    {
     "data": {
      "text/plain": [
       "[{'Provincia': 'Madrid', 'Numero_llamadas': 1087},\n",
       " {'Provincia': 'Barcelona', 'Numero_llamadas': 469},\n",
       " {'Provincia': 'Valencia/València', 'Numero_llamadas': 322},\n",
       " {'Provincia': 'No consta', 'Numero_llamadas': 255},\n",
       " {'Provincia': 'Sevilla', 'Numero_llamadas': 213}]"
      ]
     },
     "execution_count": 37,
     "metadata": {},
     "output_type": "execute_result"
    }
   ],
   "source": [
    "query = {'Año': 2020,\n",
    "         'Mes': {'$in': [11, 12]}}     \n",
    "select = {  'Provincia': 1,\n",
    "            '_id': 0,\n",
    "            'Mes': 1,\n",
    "            'Numero_llamadas': 1}\n",
    "\n",
    "resultado = list(db['llamadas'].find(query, select).sort('Numero_llamadas', -1).limit(5))\n",
    "\n",
    "resultado"
   ]
  },
  {
   "cell_type": "markdown",
   "metadata": {},
   "source": [
    "#### **¿Y SI LO COMPARAMOS CON LOS MESES ANTERIORES?**\n",
    "\n",
    "Ejemplo: Sevilla"
   ]
  },
  {
   "cell_type": "code",
   "execution_count": 15,
   "metadata": {},
   "outputs": [
    {
     "data": {
      "text/plain": [
       "[{'Año': 2020, 'Mes': 8, 'Numero_llamadas': 296},\n",
       " {'Año': 2020, 'Mes': 9, 'Numero_llamadas': 278},\n",
       " {'Año': 2020, 'Mes': 10, 'Numero_llamadas': 207},\n",
       " {'Año': 2020, 'Mes': 11, 'Numero_llamadas': 213},\n",
       " {'Año': 2020, 'Mes': 12, 'Numero_llamadas': 232}]"
      ]
     },
     "execution_count": 15,
     "metadata": {},
     "output_type": "execute_result"
    }
   ],
   "source": [
    "query = {'Año': 2020,\n",
    "         'Mes': {'$in': [8, 9, 10, 11, 12]},\n",
    "         'Provincia': 'Sevilla'}     \n",
    "select = { '_id': 0,\n",
    "            'Mes': 1,\n",
    "            'Año': 1,\n",
    "            'Numero_llamadas': 1}\n",
    "\n",
    "resultado = list(db['llamadas'].find(query, select).limit(10))\n",
    "\n",
    "resultado"
   ]
  },
  {
   "cell_type": "code",
   "execution_count": 54,
   "metadata": {},
   "outputs": [
    {
     "data": {
      "text/plain": [
       "[{'Provincia': 'Madrid', 'Mes': 12, 'Numero_llamadas': 1115},\n",
       " {'Provincia': 'Barcelona', 'Mes': 12, 'Numero_llamadas': 517},\n",
       " {'Provincia': 'Valencia/València', 'Mes': 12, 'Numero_llamadas': 323},\n",
       " {'Provincia': 'Sevilla', 'Mes': 12, 'Numero_llamadas': 232}]"
      ]
     },
     "execution_count": 54,
     "metadata": {},
     "output_type": "execute_result"
    }
   ],
   "source": [
    "query = {'Provincia': {'$in': ['Madrid', 'Barcelona', 'Valencia/València', 'Sevilla']},\n",
    "         'Año': 2020,\n",
    "         'Mes': 12}\n",
    "select = {'Provincia': 1,\n",
    "          'Mes': 1,\n",
    "          '_id': 0,\n",
    "          'Numero_llamadas': 1}\n",
    "\n",
    "resultado = list(db['llamadas'].find(query, select).sort('Numero_llamadas', -1).limit(10))\n",
    "\n",
    "resultado\n"
   ]
  },
  {
   "cell_type": "code",
   "execution_count": null,
   "metadata": {},
   "outputs": [],
   "source": []
  }
 ],
 "metadata": {
  "kernelspec": {
   "display_name": "clase",
   "language": "python",
   "name": "clase"
  },
  "language_info": {
   "codemirror_mode": {
    "name": "ipython",
    "version": 3
   },
   "file_extension": ".py",
   "mimetype": "text/x-python",
   "name": "python",
   "nbconvert_exporter": "python",
   "pygments_lexer": "ipython3",
   "version": "3.10.13"
  }
 },
 "nbformat": 4,
 "nbformat_minor": 2
}
