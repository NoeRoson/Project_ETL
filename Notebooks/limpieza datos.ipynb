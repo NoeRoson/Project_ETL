{
 "cells": [
  {
   "cell_type": "code",
   "execution_count": 1,
   "metadata": {},
   "outputs": [],
   "source": [
    "import pandas as pd\n",
    "import warnings\n",
    "warnings.filterwarnings('ignore')\n",
    "pd.set_option('display.max_columns', None)"
   ]
  },
  {
   "cell_type": "code",
   "execution_count": 12,
   "metadata": {},
   "outputs": [
    {
     "data": {
      "text/html": [
       "<div>\n",
       "<style scoped>\n",
       "    .dataframe tbody tr th:only-of-type {\n",
       "        vertical-align: middle;\n",
       "    }\n",
       "\n",
       "    .dataframe tbody tr th {\n",
       "        vertical-align: top;\n",
       "    }\n",
       "\n",
       "    .dataframe thead th {\n",
       "        text-align: right;\n",
       "    }\n",
       "</style>\n",
       "<table border=\"1\" class=\"dataframe\">\n",
       "  <thead>\n",
       "    <tr style=\"text-align: right;\">\n",
       "      <th></th>\n",
       "      <th>Provincia</th>\n",
       "      <th>Año</th>\n",
       "      <th>Mes</th>\n",
       "      <th>Número de llamadas pertinentes</th>\n",
       "    </tr>\n",
       "  </thead>\n",
       "  <tbody>\n",
       "    <tr>\n",
       "      <th>0</th>\n",
       "      <td>Almería</td>\n",
       "      <td>Año 2007</td>\n",
       "      <td>Septiembre</td>\n",
       "      <td>3.0</td>\n",
       "    </tr>\n",
       "    <tr>\n",
       "      <th>1</th>\n",
       "      <td>Almería</td>\n",
       "      <td>Año 2007</td>\n",
       "      <td>Octubre</td>\n",
       "      <td>52.0</td>\n",
       "    </tr>\n",
       "    <tr>\n",
       "      <th>2</th>\n",
       "      <td>Almería</td>\n",
       "      <td>Año 2007</td>\n",
       "      <td>Noviembre</td>\n",
       "      <td>57.0</td>\n",
       "    </tr>\n",
       "    <tr>\n",
       "      <th>3</th>\n",
       "      <td>Almería</td>\n",
       "      <td>Año 2007</td>\n",
       "      <td>Diciembre</td>\n",
       "      <td>69.0</td>\n",
       "    </tr>\n",
       "    <tr>\n",
       "      <th>4</th>\n",
       "      <td>Almería</td>\n",
       "      <td>Año 2008</td>\n",
       "      <td>Enero</td>\n",
       "      <td>91.0</td>\n",
       "    </tr>\n",
       "    <tr>\n",
       "      <th>...</th>\n",
       "      <td>...</td>\n",
       "      <td>...</td>\n",
       "      <td>...</td>\n",
       "      <td>...</td>\n",
       "    </tr>\n",
       "    <tr>\n",
       "      <th>10083</th>\n",
       "      <td>No consta</td>\n",
       "      <td>Año 2023</td>\n",
       "      <td>Abril</td>\n",
       "      <td>548.0</td>\n",
       "    </tr>\n",
       "    <tr>\n",
       "      <th>10084</th>\n",
       "      <td>No consta</td>\n",
       "      <td>Año 2023</td>\n",
       "      <td>Mayo</td>\n",
       "      <td>687.0</td>\n",
       "    </tr>\n",
       "    <tr>\n",
       "      <th>10085</th>\n",
       "      <td>No consta</td>\n",
       "      <td>Año 2023</td>\n",
       "      <td>Junio</td>\n",
       "      <td>671.0</td>\n",
       "    </tr>\n",
       "    <tr>\n",
       "      <th>10086</th>\n",
       "      <td>No consta</td>\n",
       "      <td>Año 2023</td>\n",
       "      <td>Julio</td>\n",
       "      <td>703.0</td>\n",
       "    </tr>\n",
       "    <tr>\n",
       "      <th>10087</th>\n",
       "      <td>No consta</td>\n",
       "      <td>Año 2023</td>\n",
       "      <td>Agosto</td>\n",
       "      <td>746.0</td>\n",
       "    </tr>\n",
       "  </tbody>\n",
       "</table>\n",
       "<p>10088 rows × 4 columns</p>\n",
       "</div>"
      ],
      "text/plain": [
       "       Provincia       Año         Mes  Número de llamadas pertinentes\n",
       "0        Almería  Año 2007  Septiembre                             3.0\n",
       "1        Almería  Año 2007     Octubre                            52.0\n",
       "2        Almería  Año 2007   Noviembre                            57.0\n",
       "3        Almería  Año 2007   Diciembre                            69.0\n",
       "4        Almería  Año 2008       Enero                            91.0\n",
       "...          ...       ...         ...                             ...\n",
       "10083  No consta  Año 2023       Abril                           548.0\n",
       "10084  No consta  Año 2023        Mayo                           687.0\n",
       "10085  No consta  Año 2023       Junio                           671.0\n",
       "10086  No consta  Año 2023       Julio                           703.0\n",
       "10087  No consta  Año 2023      Agosto                           746.0\n",
       "\n",
       "[10088 rows x 4 columns]"
      ]
     },
     "execution_count": 12,
     "metadata": {},
     "output_type": "execute_result"
    }
   ],
   "source": [
    "llamadas = pd.read_csv('/Users/noeliarosonmartin/Desktop/data/llamadas_016.csv')\n",
    "llamadas"
   ]
  },
  {
   "cell_type": "code",
   "execution_count": 3,
   "metadata": {},
   "outputs": [
    {
     "data": {
      "text/plain": [
       "array(['Año 2007', 'Año 2008', 'Año 2009', 'Año 2010', 'Año 2011',\n",
       "       'Año 2012', 'Año 2013', 'Año 2014', 'Año 2015', 'Año 2016',\n",
       "       'Año 2017', 'Año 2018', 'Año 2019', 'Año 2020', 'Año 2021',\n",
       "       'Año 2022', 'Año 2023'], dtype=object)"
      ]
     },
     "execution_count": 3,
     "metadata": {},
     "output_type": "execute_result"
    }
   ],
   "source": [
    "llamadas['Año'].unique()"
   ]
  },
  {
   "cell_type": "code",
   "execution_count": 4,
   "metadata": {},
   "outputs": [],
   "source": [
    "llamadas['Año'] = llamadas['Año'].str.replace(r'\\D', '', regex=True) # Eliminamos lo que no es numérico\n",
    "\n",
    "llamadas['Año'] = pd.to_datetime(llamadas['Año'], format='%Y').dt.year"
   ]
  },
  {
   "cell_type": "code",
   "execution_count": 5,
   "metadata": {},
   "outputs": [
    {
     "data": {
      "text/plain": [
       "array([2020, 2021, 2022, 2023], dtype=int32)"
      ]
     },
     "execution_count": 5,
     "metadata": {},
     "output_type": "execute_result"
    }
   ],
   "source": [
    "llamadas = llamadas.loc[llamadas['Año'] >= 2020]\n",
    "llamadas['Año'].unique()"
   ]
  },
  {
   "cell_type": "code",
   "execution_count": 6,
   "metadata": {},
   "outputs": [
    {
     "data": {
      "text/plain": [
       "array(['Enero', 'Febrero', 'Marzo', 'Abril', 'Mayo', 'Junio', 'Julio',\n",
       "       'Agosto', 'Septiembre', 'Octubre', 'Noviembre', 'Diciembre'],\n",
       "      dtype=object)"
      ]
     },
     "execution_count": 6,
     "metadata": {},
     "output_type": "execute_result"
    }
   ],
   "source": [
    "llamadas['Mes'].unique()"
   ]
  },
  {
   "cell_type": "code",
   "execution_count": 7,
   "metadata": {},
   "outputs": [],
   "source": [
    "meses_año = {\n",
    "    'Enero': '01',\n",
    "    'Febrero': '02',\n",
    "    'Marzo': '03',\n",
    "    'Abril': '04',\n",
    "    'Mayo': '05',\n",
    "    'Junio': '06',\n",
    "    'Julio': '07',\n",
    "    'Agosto': '08',\n",
    "    'Septiembre': '09',\n",
    "    'Octubre': '10',\n",
    "    'Noviembre': '11',\n",
    "    'Diciembre': '12'\n",
    "}\n",
    "\n",
    "llamadas['Mes'] = llamadas['Mes'].map(meses_año)\n",
    "\n",
    "llamadas['Mes'] = llamadas['Mes'].astype(int)"
   ]
  },
  {
   "cell_type": "code",
   "execution_count": 8,
   "metadata": {},
   "outputs": [
    {
     "data": {
      "text/plain": [
       "array([ 1,  2,  3,  4,  5,  6,  7,  8,  9, 10, 11, 12])"
      ]
     },
     "execution_count": 8,
     "metadata": {},
     "output_type": "execute_result"
    }
   ],
   "source": [
    "llamadas['Mes'].unique()"
   ]
  },
  {
   "cell_type": "code",
   "execution_count": 9,
   "metadata": {},
   "outputs": [],
   "source": [
    "llamadas.rename(columns={'Número de llamadas pertinentes': 'Numero_llamadas'}, inplace=True)\n",
    "llamadas['Numero_llamadas'] = llamadas['Numero_llamadas'].astype(int)"
   ]
  },
  {
   "cell_type": "code",
   "execution_count": 10,
   "metadata": {},
   "outputs": [
    {
     "name": "stdout",
     "output_type": "stream",
     "text": [
      "<class 'pandas.core.frame.DataFrame'>\n",
      "Index: 2331 entries, 148 to 10087\n",
      "Data columns (total 4 columns):\n",
      " #   Column           Non-Null Count  Dtype \n",
      "---  ------           --------------  ----- \n",
      " 0   Provincia        2331 non-null   object\n",
      " 1   Año              2331 non-null   int32 \n",
      " 2   Mes              2331 non-null   int64 \n",
      " 3   Numero_llamadas  2331 non-null   int64 \n",
      "dtypes: int32(1), int64(2), object(1)\n",
      "memory usage: 224.4 KB\n"
     ]
    }
   ],
   "source": [
    "llamadas.info(memory_usage = 'deep')"
   ]
  },
  {
   "cell_type": "code",
   "execution_count": 11,
   "metadata": {},
   "outputs": [
    {
     "data": {
      "text/html": [
       "<div>\n",
       "<style scoped>\n",
       "    .dataframe tbody tr th:only-of-type {\n",
       "        vertical-align: middle;\n",
       "    }\n",
       "\n",
       "    .dataframe tbody tr th {\n",
       "        vertical-align: top;\n",
       "    }\n",
       "\n",
       "    .dataframe thead th {\n",
       "        text-align: right;\n",
       "    }\n",
       "</style>\n",
       "<table border=\"1\" class=\"dataframe\">\n",
       "  <thead>\n",
       "    <tr style=\"text-align: right;\">\n",
       "      <th></th>\n",
       "      <th>Provincia</th>\n",
       "      <th>Año</th>\n",
       "      <th>Mes</th>\n",
       "      <th>Numero_llamadas</th>\n",
       "    </tr>\n",
       "  </thead>\n",
       "  <tbody>\n",
       "    <tr>\n",
       "      <th>148</th>\n",
       "      <td>Almería</td>\n",
       "      <td>2020</td>\n",
       "      <td>1</td>\n",
       "      <td>68</td>\n",
       "    </tr>\n",
       "    <tr>\n",
       "      <th>149</th>\n",
       "      <td>Almería</td>\n",
       "      <td>2020</td>\n",
       "      <td>2</td>\n",
       "      <td>66</td>\n",
       "    </tr>\n",
       "    <tr>\n",
       "      <th>150</th>\n",
       "      <td>Almería</td>\n",
       "      <td>2020</td>\n",
       "      <td>3</td>\n",
       "      <td>75</td>\n",
       "    </tr>\n",
       "    <tr>\n",
       "      <th>151</th>\n",
       "      <td>Almería</td>\n",
       "      <td>2020</td>\n",
       "      <td>4</td>\n",
       "      <td>100</td>\n",
       "    </tr>\n",
       "    <tr>\n",
       "      <th>152</th>\n",
       "      <td>Almería</td>\n",
       "      <td>2020</td>\n",
       "      <td>5</td>\n",
       "      <td>79</td>\n",
       "    </tr>\n",
       "    <tr>\n",
       "      <th>...</th>\n",
       "      <td>...</td>\n",
       "      <td>...</td>\n",
       "      <td>...</td>\n",
       "      <td>...</td>\n",
       "    </tr>\n",
       "    <tr>\n",
       "      <th>10083</th>\n",
       "      <td>No consta</td>\n",
       "      <td>2023</td>\n",
       "      <td>4</td>\n",
       "      <td>548</td>\n",
       "    </tr>\n",
       "    <tr>\n",
       "      <th>10084</th>\n",
       "      <td>No consta</td>\n",
       "      <td>2023</td>\n",
       "      <td>5</td>\n",
       "      <td>687</td>\n",
       "    </tr>\n",
       "    <tr>\n",
       "      <th>10085</th>\n",
       "      <td>No consta</td>\n",
       "      <td>2023</td>\n",
       "      <td>6</td>\n",
       "      <td>671</td>\n",
       "    </tr>\n",
       "    <tr>\n",
       "      <th>10086</th>\n",
       "      <td>No consta</td>\n",
       "      <td>2023</td>\n",
       "      <td>7</td>\n",
       "      <td>703</td>\n",
       "    </tr>\n",
       "    <tr>\n",
       "      <th>10087</th>\n",
       "      <td>No consta</td>\n",
       "      <td>2023</td>\n",
       "      <td>8</td>\n",
       "      <td>746</td>\n",
       "    </tr>\n",
       "  </tbody>\n",
       "</table>\n",
       "<p>2331 rows × 4 columns</p>\n",
       "</div>"
      ],
      "text/plain": [
       "       Provincia   Año  Mes  Numero_llamadas\n",
       "148      Almería  2020    1               68\n",
       "149      Almería  2020    2               66\n",
       "150      Almería  2020    3               75\n",
       "151      Almería  2020    4              100\n",
       "152      Almería  2020    5               79\n",
       "...          ...   ...  ...              ...\n",
       "10083  No consta  2023    4              548\n",
       "10084  No consta  2023    5              687\n",
       "10085  No consta  2023    6              671\n",
       "10086  No consta  2023    7              703\n",
       "10087  No consta  2023    8              746\n",
       "\n",
       "[2331 rows x 4 columns]"
      ]
     },
     "execution_count": 11,
     "metadata": {},
     "output_type": "execute_result"
    }
   ],
   "source": [
    "llamadas"
   ]
  },
  {
   "cell_type": "code",
   "execution_count": null,
   "metadata": {},
   "outputs": [],
   "source": [
    "llamadas['Trimestre'] = "
   ]
  },
  {
   "cell_type": "code",
   "execution_count": 15,
   "metadata": {},
   "outputs": [
    {
     "data": {
      "text/html": [
       "<div>\n",
       "<style scoped>\n",
       "    .dataframe tbody tr th:only-of-type {\n",
       "        vertical-align: middle;\n",
       "    }\n",
       "\n",
       "    .dataframe tbody tr th {\n",
       "        vertical-align: top;\n",
       "    }\n",
       "\n",
       "    .dataframe thead th {\n",
       "        text-align: right;\n",
       "    }\n",
       "</style>\n",
       "<table border=\"1\" class=\"dataframe\">\n",
       "  <thead>\n",
       "    <tr style=\"text-align: right;\">\n",
       "      <th></th>\n",
       "      <th>Provincia</th>\n",
       "      <th>Año</th>\n",
       "      <th>Trimestre</th>\n",
       "      <th>Número de denuncias por violencia de género</th>\n",
       "    </tr>\n",
       "  </thead>\n",
       "  <tbody>\n",
       "    <tr>\n",
       "      <th>0</th>\n",
       "      <td>Almería</td>\n",
       "      <td>Año 2009</td>\n",
       "      <td>Primero</td>\n",
       "      <td>679.0</td>\n",
       "    </tr>\n",
       "    <tr>\n",
       "      <th>1</th>\n",
       "      <td>Almería</td>\n",
       "      <td>Año 2009</td>\n",
       "      <td>Segundo</td>\n",
       "      <td>715.0</td>\n",
       "    </tr>\n",
       "    <tr>\n",
       "      <th>2</th>\n",
       "      <td>Almería</td>\n",
       "      <td>Año 2009</td>\n",
       "      <td>Tercero</td>\n",
       "      <td>665.0</td>\n",
       "    </tr>\n",
       "    <tr>\n",
       "      <th>3</th>\n",
       "      <td>Almería</td>\n",
       "      <td>Año 2009</td>\n",
       "      <td>Cuarto</td>\n",
       "      <td>545.0</td>\n",
       "    </tr>\n",
       "    <tr>\n",
       "      <th>4</th>\n",
       "      <td>Almería</td>\n",
       "      <td>Año 2010</td>\n",
       "      <td>Primero</td>\n",
       "      <td>638.0</td>\n",
       "    </tr>\n",
       "    <tr>\n",
       "      <th>...</th>\n",
       "      <td>...</td>\n",
       "      <td>...</td>\n",
       "      <td>...</td>\n",
       "      <td>...</td>\n",
       "    </tr>\n",
       "    <tr>\n",
       "      <th>2959</th>\n",
       "      <td>Melilla</td>\n",
       "      <td>Año 2022</td>\n",
       "      <td>Primero</td>\n",
       "      <td>73.0</td>\n",
       "    </tr>\n",
       "    <tr>\n",
       "      <th>2960</th>\n",
       "      <td>Melilla</td>\n",
       "      <td>Año 2022</td>\n",
       "      <td>Segundo</td>\n",
       "      <td>94.0</td>\n",
       "    </tr>\n",
       "    <tr>\n",
       "      <th>2961</th>\n",
       "      <td>Melilla</td>\n",
       "      <td>Año 2022</td>\n",
       "      <td>Tercero</td>\n",
       "      <td>107.0</td>\n",
       "    </tr>\n",
       "    <tr>\n",
       "      <th>2962</th>\n",
       "      <td>Melilla</td>\n",
       "      <td>Año 2022</td>\n",
       "      <td>Cuarto</td>\n",
       "      <td>84.0</td>\n",
       "    </tr>\n",
       "    <tr>\n",
       "      <th>2963</th>\n",
       "      <td>Melilla</td>\n",
       "      <td>Año 2023</td>\n",
       "      <td>Primero</td>\n",
       "      <td>103.0</td>\n",
       "    </tr>\n",
       "  </tbody>\n",
       "</table>\n",
       "<p>2964 rows × 4 columns</p>\n",
       "</div>"
      ],
      "text/plain": [
       "     Provincia       Año Trimestre  \\\n",
       "0      Almería  Año 2009   Primero   \n",
       "1      Almería  Año 2009   Segundo   \n",
       "2      Almería  Año 2009   Tercero   \n",
       "3      Almería  Año 2009    Cuarto   \n",
       "4      Almería  Año 2010   Primero   \n",
       "...        ...       ...       ...   \n",
       "2959   Melilla  Año 2022   Primero   \n",
       "2960   Melilla  Año 2022   Segundo   \n",
       "2961   Melilla  Año 2022   Tercero   \n",
       "2962   Melilla  Año 2022    Cuarto   \n",
       "2963   Melilla  Año 2023   Primero   \n",
       "\n",
       "      Número de denuncias por violencia de género  \n",
       "0                                           679.0  \n",
       "1                                           715.0  \n",
       "2                                           665.0  \n",
       "3                                           545.0  \n",
       "4                                           638.0  \n",
       "...                                           ...  \n",
       "2959                                         73.0  \n",
       "2960                                         94.0  \n",
       "2961                                        107.0  \n",
       "2962                                         84.0  \n",
       "2963                                        103.0  \n",
       "\n",
       "[2964 rows x 4 columns]"
      ]
     },
     "execution_count": 15,
     "metadata": {},
     "output_type": "execute_result"
    }
   ],
   "source": [
    "denuncias = pd.read_csv('/Users/noeliarosonmartin/Desktop/data/denuncias.csv')\n",
    "denuncias"
   ]
  },
  {
   "cell_type": "code",
   "execution_count": 16,
   "metadata": {},
   "outputs": [
    {
     "name": "stdout",
     "output_type": "stream",
     "text": [
      "<class 'pandas.core.frame.DataFrame'>\n",
      "RangeIndex: 2964 entries, 0 to 2963\n",
      "Data columns (total 4 columns):\n",
      " #   Column                                       Non-Null Count  Dtype  \n",
      "---  ------                                       --------------  -----  \n",
      " 0   Provincia                                    2964 non-null   object \n",
      " 1   Año                                          2964 non-null   object \n",
      " 2   Trimestre                                    2964 non-null   object \n",
      " 3   Número de denuncias por violencia de género  2964 non-null   float64\n",
      "dtypes: float64(1), object(3)\n",
      "memory usage: 669.9 KB\n"
     ]
    }
   ],
   "source": [
    "denuncias.info(memory_usage='deep')"
   ]
  },
  {
   "cell_type": "code",
   "execution_count": null,
   "metadata": {},
   "outputs": [],
   "source": []
  }
 ],
 "metadata": {
  "kernelspec": {
   "display_name": "clase",
   "language": "python",
   "name": "clase"
  },
  "language_info": {
   "codemirror_mode": {
    "name": "ipython",
    "version": 3
   },
   "file_extension": ".py",
   "mimetype": "text/x-python",
   "name": "python",
   "nbconvert_exporter": "python",
   "pygments_lexer": "ipython3",
   "version": "3.10.13"
  }
 },
 "nbformat": 4,
 "nbformat_minor": 2
}
