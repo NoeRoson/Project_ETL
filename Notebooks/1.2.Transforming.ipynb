{
 "cells": [
  {
   "cell_type": "code",
   "execution_count": 1,
   "metadata": {},
   "outputs": [],
   "source": [
    "import pandas as pd\n",
    "import warnings\n",
    "warnings.filterwarnings('ignore')\n",
    "pd.set_option('display.max_columns', None)"
   ]
  },
  {
   "cell_type": "code",
   "execution_count": 2,
   "metadata": {},
   "outputs": [
    {
     "data": {
      "text/html": [
       "<div>\n",
       "<style scoped>\n",
       "    .dataframe tbody tr th:only-of-type {\n",
       "        vertical-align: middle;\n",
       "    }\n",
       "\n",
       "    .dataframe tbody tr th {\n",
       "        vertical-align: top;\n",
       "    }\n",
       "\n",
       "    .dataframe thead th {\n",
       "        text-align: right;\n",
       "    }\n",
       "</style>\n",
       "<table border=\"1\" class=\"dataframe\">\n",
       "  <thead>\n",
       "    <tr style=\"text-align: right;\">\n",
       "      <th></th>\n",
       "      <th>Provincia</th>\n",
       "      <th>Año</th>\n",
       "      <th>Mes</th>\n",
       "      <th>Número de llamadas pertinentes</th>\n",
       "    </tr>\n",
       "  </thead>\n",
       "  <tbody>\n",
       "    <tr>\n",
       "      <th>0</th>\n",
       "      <td>Almería</td>\n",
       "      <td>Año 2007</td>\n",
       "      <td>Septiembre</td>\n",
       "      <td>3.0</td>\n",
       "    </tr>\n",
       "    <tr>\n",
       "      <th>1</th>\n",
       "      <td>Almería</td>\n",
       "      <td>Año 2007</td>\n",
       "      <td>Octubre</td>\n",
       "      <td>52.0</td>\n",
       "    </tr>\n",
       "    <tr>\n",
       "      <th>2</th>\n",
       "      <td>Almería</td>\n",
       "      <td>Año 2007</td>\n",
       "      <td>Noviembre</td>\n",
       "      <td>57.0</td>\n",
       "    </tr>\n",
       "    <tr>\n",
       "      <th>3</th>\n",
       "      <td>Almería</td>\n",
       "      <td>Año 2007</td>\n",
       "      <td>Diciembre</td>\n",
       "      <td>69.0</td>\n",
       "    </tr>\n",
       "    <tr>\n",
       "      <th>4</th>\n",
       "      <td>Almería</td>\n",
       "      <td>Año 2008</td>\n",
       "      <td>Enero</td>\n",
       "      <td>91.0</td>\n",
       "    </tr>\n",
       "  </tbody>\n",
       "</table>\n",
       "</div>"
      ],
      "text/plain": [
       "  Provincia       Año         Mes  Número de llamadas pertinentes\n",
       "0   Almería  Año 2007  Septiembre                             3.0\n",
       "1   Almería  Año 2007     Octubre                            52.0\n",
       "2   Almería  Año 2007   Noviembre                            57.0\n",
       "3   Almería  Año 2007   Diciembre                            69.0\n",
       "4   Almería  Año 2008       Enero                            91.0"
      ]
     },
     "execution_count": 2,
     "metadata": {},
     "output_type": "execute_result"
    }
   ],
   "source": [
    "llamadas = pd.read_csv('/Users/noeliarosonmartin/Ironhack/Project_ETL/data/data_original/llamadas.csv')\n",
    "llamadas.head()"
   ]
  },
  {
   "cell_type": "code",
   "execution_count": 3,
   "metadata": {},
   "outputs": [],
   "source": [
    "llamadas['Año'] = llamadas['Año'].str.replace(r'\\D', '', regex=True) # Eliminamos lo que no es numérico\n",
    "\n",
    "llamadas['Año'] = pd.to_datetime(llamadas['Año'], format='%Y').dt.year"
   ]
  },
  {
   "cell_type": "code",
   "execution_count": 4,
   "metadata": {},
   "outputs": [
    {
     "data": {
      "text/plain": [
       "array([2020, 2021, 2022, 2023], dtype=int32)"
      ]
     },
     "execution_count": 4,
     "metadata": {},
     "output_type": "execute_result"
    }
   ],
   "source": [
    "llamadas = llamadas.loc[llamadas['Año'] >= 2020]\n",
    "llamadas['Año'].unique()"
   ]
  },
  {
   "cell_type": "code",
   "execution_count": 5,
   "metadata": {},
   "outputs": [
    {
     "data": {
      "text/plain": [
       "array(['Enero', 'Febrero', 'Marzo', 'Abril', 'Mayo', 'Junio', 'Julio',\n",
       "       'Agosto', 'Septiembre', 'Octubre', 'Noviembre', 'Diciembre'],\n",
       "      dtype=object)"
      ]
     },
     "execution_count": 5,
     "metadata": {},
     "output_type": "execute_result"
    }
   ],
   "source": [
    "llamadas['Mes'].unique()"
   ]
  },
  {
   "cell_type": "code",
   "execution_count": 6,
   "metadata": {},
   "outputs": [],
   "source": [
    "meses_año = {\n",
    "    'Enero': '01',\n",
    "    'Febrero': '02',\n",
    "    'Marzo': '03',\n",
    "    'Abril': '04',\n",
    "    'Mayo': '05',\n",
    "    'Junio': '06',\n",
    "    'Julio': '07',\n",
    "    'Agosto': '08',\n",
    "    'Septiembre': '09',\n",
    "    'Octubre': '10',\n",
    "    'Noviembre': '11',\n",
    "    'Diciembre': '12'\n",
    "}\n",
    "\n",
    "llamadas['Mes'] = llamadas['Mes'].map(meses_año)\n",
    "\n",
    "llamadas['Mes'] = llamadas['Mes'].astype(int)"
   ]
  },
  {
   "cell_type": "code",
   "execution_count": 7,
   "metadata": {},
   "outputs": [],
   "source": [
    "llamadas.rename(columns={'Número de llamadas pertinentes': 'Numero_llamadas'}, inplace=True)\n",
    "llamadas['Numero_llamadas'] = llamadas['Numero_llamadas'].astype(int)"
   ]
  },
  {
   "cell_type": "code",
   "execution_count": 8,
   "metadata": {},
   "outputs": [],
   "source": [
    "def trimestre(mes):\n",
    "    if mes in [1, 2, 3]:\n",
    "        return 1\n",
    "    elif mes in [4, 5, 6]:\n",
    "        return 2\n",
    "    elif mes in [7, 8, 9]:\n",
    "        return 3\n",
    "    else:\n",
    "        return 4\n",
    "\n",
    "llamadas['Trimestre'] = llamadas['Mes'].apply(trimestre)"
   ]
  },
  {
   "cell_type": "code",
   "execution_count": 9,
   "metadata": {},
   "outputs": [],
   "source": [
    "llamadas = llamadas [['Provincia', 'Año', 'Trimestre', 'Mes', 'Numero_llamadas']]"
   ]
  },
  {
   "cell_type": "code",
   "execution_count": 10,
   "metadata": {},
   "outputs": [
    {
     "data": {
      "text/plain": [
       "0"
      ]
     },
     "execution_count": 10,
     "metadata": {},
     "output_type": "execute_result"
    }
   ],
   "source": [
    "llamadas.duplicated().sum()"
   ]
  },
  {
   "cell_type": "code",
   "execution_count": 11,
   "metadata": {},
   "outputs": [
    {
     "data": {
      "text/plain": [
       "Provincia          0\n",
       "Año                0\n",
       "Trimestre          0\n",
       "Mes                0\n",
       "Numero_llamadas    0\n",
       "dtype: int64"
      ]
     },
     "execution_count": 11,
     "metadata": {},
     "output_type": "execute_result"
    }
   ],
   "source": [
    "llamadas.isna().sum()"
   ]
  },
  {
   "cell_type": "code",
   "execution_count": 12,
   "metadata": {},
   "outputs": [
    {
     "name": "stdout",
     "output_type": "stream",
     "text": [
      "<class 'pandas.core.frame.DataFrame'>\n",
      "Index: 2331 entries, 148 to 10087\n",
      "Data columns (total 5 columns):\n",
      " #   Column           Non-Null Count  Dtype \n",
      "---  ------           --------------  ----- \n",
      " 0   Provincia        2331 non-null   object\n",
      " 1   Año              2331 non-null   int32 \n",
      " 2   Trimestre        2331 non-null   int64 \n",
      " 3   Mes              2331 non-null   int64 \n",
      " 4   Numero_llamadas  2331 non-null   int64 \n",
      "dtypes: int32(1), int64(3), object(1)\n",
      "memory usage: 247.9 KB\n"
     ]
    }
   ],
   "source": [
    "llamadas.info(memory_usage = 'deep')"
   ]
  },
  {
   "cell_type": "code",
   "execution_count": 13,
   "metadata": {},
   "outputs": [
    {
     "data": {
      "text/html": [
       "<div>\n",
       "<style scoped>\n",
       "    .dataframe tbody tr th:only-of-type {\n",
       "        vertical-align: middle;\n",
       "    }\n",
       "\n",
       "    .dataframe tbody tr th {\n",
       "        vertical-align: top;\n",
       "    }\n",
       "\n",
       "    .dataframe thead th {\n",
       "        text-align: right;\n",
       "    }\n",
       "</style>\n",
       "<table border=\"1\" class=\"dataframe\">\n",
       "  <thead>\n",
       "    <tr style=\"text-align: right;\">\n",
       "      <th></th>\n",
       "      <th>Provincia</th>\n",
       "      <th>Año</th>\n",
       "      <th>Trimestre</th>\n",
       "      <th>Mes</th>\n",
       "      <th>Numero_llamadas</th>\n",
       "    </tr>\n",
       "  </thead>\n",
       "  <tbody>\n",
       "    <tr>\n",
       "      <th>0</th>\n",
       "      <td>Almería</td>\n",
       "      <td>2020</td>\n",
       "      <td>1</td>\n",
       "      <td>1</td>\n",
       "      <td>68</td>\n",
       "    </tr>\n",
       "    <tr>\n",
       "      <th>1</th>\n",
       "      <td>Almería</td>\n",
       "      <td>2020</td>\n",
       "      <td>1</td>\n",
       "      <td>2</td>\n",
       "      <td>66</td>\n",
       "    </tr>\n",
       "    <tr>\n",
       "      <th>2</th>\n",
       "      <td>Almería</td>\n",
       "      <td>2020</td>\n",
       "      <td>1</td>\n",
       "      <td>3</td>\n",
       "      <td>75</td>\n",
       "    </tr>\n",
       "    <tr>\n",
       "      <th>3</th>\n",
       "      <td>Almería</td>\n",
       "      <td>2020</td>\n",
       "      <td>2</td>\n",
       "      <td>4</td>\n",
       "      <td>100</td>\n",
       "    </tr>\n",
       "    <tr>\n",
       "      <th>4</th>\n",
       "      <td>Almería</td>\n",
       "      <td>2020</td>\n",
       "      <td>2</td>\n",
       "      <td>5</td>\n",
       "      <td>79</td>\n",
       "    </tr>\n",
       "  </tbody>\n",
       "</table>\n",
       "</div>"
      ],
      "text/plain": [
       "  Provincia   Año  Trimestre  Mes  Numero_llamadas\n",
       "0   Almería  2020          1    1               68\n",
       "1   Almería  2020          1    2               66\n",
       "2   Almería  2020          1    3               75\n",
       "3   Almería  2020          2    4              100\n",
       "4   Almería  2020          2    5               79"
      ]
     },
     "execution_count": 13,
     "metadata": {},
     "output_type": "execute_result"
    }
   ],
   "source": [
    "llamadas = llamadas.reset_index(drop=True)\n",
    "llamadas.head()"
   ]
  },
  {
   "cell_type": "code",
   "execution_count": 14,
   "metadata": {},
   "outputs": [],
   "source": [
    "# EXPORTAR CSV\n",
    "\n",
    "llamadas.to_csv('../data/data_clean/llamadas_016.csv', index=False)"
   ]
  },
  {
   "cell_type": "code",
   "execution_count": 15,
   "metadata": {},
   "outputs": [
    {
     "data": {
      "text/html": [
       "<div>\n",
       "<style scoped>\n",
       "    .dataframe tbody tr th:only-of-type {\n",
       "        vertical-align: middle;\n",
       "    }\n",
       "\n",
       "    .dataframe tbody tr th {\n",
       "        vertical-align: top;\n",
       "    }\n",
       "\n",
       "    .dataframe thead th {\n",
       "        text-align: right;\n",
       "    }\n",
       "</style>\n",
       "<table border=\"1\" class=\"dataframe\">\n",
       "  <thead>\n",
       "    <tr style=\"text-align: right;\">\n",
       "      <th></th>\n",
       "      <th>Provincia</th>\n",
       "      <th>Año</th>\n",
       "      <th>Trimestre</th>\n",
       "      <th>Número de denuncias por violencia de género</th>\n",
       "    </tr>\n",
       "  </thead>\n",
       "  <tbody>\n",
       "    <tr>\n",
       "      <th>0</th>\n",
       "      <td>Almería</td>\n",
       "      <td>Año 2009</td>\n",
       "      <td>Primero</td>\n",
       "      <td>679.0</td>\n",
       "    </tr>\n",
       "    <tr>\n",
       "      <th>1</th>\n",
       "      <td>Almería</td>\n",
       "      <td>Año 2009</td>\n",
       "      <td>Segundo</td>\n",
       "      <td>715.0</td>\n",
       "    </tr>\n",
       "    <tr>\n",
       "      <th>2</th>\n",
       "      <td>Almería</td>\n",
       "      <td>Año 2009</td>\n",
       "      <td>Tercero</td>\n",
       "      <td>665.0</td>\n",
       "    </tr>\n",
       "    <tr>\n",
       "      <th>3</th>\n",
       "      <td>Almería</td>\n",
       "      <td>Año 2009</td>\n",
       "      <td>Cuarto</td>\n",
       "      <td>545.0</td>\n",
       "    </tr>\n",
       "    <tr>\n",
       "      <th>4</th>\n",
       "      <td>Almería</td>\n",
       "      <td>Año 2010</td>\n",
       "      <td>Primero</td>\n",
       "      <td>638.0</td>\n",
       "    </tr>\n",
       "    <tr>\n",
       "      <th>...</th>\n",
       "      <td>...</td>\n",
       "      <td>...</td>\n",
       "      <td>...</td>\n",
       "      <td>...</td>\n",
       "    </tr>\n",
       "    <tr>\n",
       "      <th>2959</th>\n",
       "      <td>Melilla</td>\n",
       "      <td>Año 2022</td>\n",
       "      <td>Primero</td>\n",
       "      <td>73.0</td>\n",
       "    </tr>\n",
       "    <tr>\n",
       "      <th>2960</th>\n",
       "      <td>Melilla</td>\n",
       "      <td>Año 2022</td>\n",
       "      <td>Segundo</td>\n",
       "      <td>94.0</td>\n",
       "    </tr>\n",
       "    <tr>\n",
       "      <th>2961</th>\n",
       "      <td>Melilla</td>\n",
       "      <td>Año 2022</td>\n",
       "      <td>Tercero</td>\n",
       "      <td>107.0</td>\n",
       "    </tr>\n",
       "    <tr>\n",
       "      <th>2962</th>\n",
       "      <td>Melilla</td>\n",
       "      <td>Año 2022</td>\n",
       "      <td>Cuarto</td>\n",
       "      <td>84.0</td>\n",
       "    </tr>\n",
       "    <tr>\n",
       "      <th>2963</th>\n",
       "      <td>Melilla</td>\n",
       "      <td>Año 2023</td>\n",
       "      <td>Primero</td>\n",
       "      <td>103.0</td>\n",
       "    </tr>\n",
       "  </tbody>\n",
       "</table>\n",
       "<p>2964 rows × 4 columns</p>\n",
       "</div>"
      ],
      "text/plain": [
       "     Provincia       Año Trimestre  \\\n",
       "0      Almería  Año 2009   Primero   \n",
       "1      Almería  Año 2009   Segundo   \n",
       "2      Almería  Año 2009   Tercero   \n",
       "3      Almería  Año 2009    Cuarto   \n",
       "4      Almería  Año 2010   Primero   \n",
       "...        ...       ...       ...   \n",
       "2959   Melilla  Año 2022   Primero   \n",
       "2960   Melilla  Año 2022   Segundo   \n",
       "2961   Melilla  Año 2022   Tercero   \n",
       "2962   Melilla  Año 2022    Cuarto   \n",
       "2963   Melilla  Año 2023   Primero   \n",
       "\n",
       "      Número de denuncias por violencia de género  \n",
       "0                                           679.0  \n",
       "1                                           715.0  \n",
       "2                                           665.0  \n",
       "3                                           545.0  \n",
       "4                                           638.0  \n",
       "...                                           ...  \n",
       "2959                                         73.0  \n",
       "2960                                         94.0  \n",
       "2961                                        107.0  \n",
       "2962                                         84.0  \n",
       "2963                                        103.0  \n",
       "\n",
       "[2964 rows x 4 columns]"
      ]
     },
     "execution_count": 15,
     "metadata": {},
     "output_type": "execute_result"
    }
   ],
   "source": [
    "denuncias = pd.read_csv('/Users/noeliarosonmartin/Ironhack/Project_ETL/data/data_original/denunc.csv')\n",
    "denuncias"
   ]
  },
  {
   "cell_type": "code",
   "execution_count": 16,
   "metadata": {},
   "outputs": [
    {
     "name": "stdout",
     "output_type": "stream",
     "text": [
      "<class 'pandas.core.frame.DataFrame'>\n",
      "RangeIndex: 2964 entries, 0 to 2963\n",
      "Data columns (total 4 columns):\n",
      " #   Column                                       Non-Null Count  Dtype  \n",
      "---  ------                                       --------------  -----  \n",
      " 0   Provincia                                    2964 non-null   object \n",
      " 1   Año                                          2964 non-null   object \n",
      " 2   Trimestre                                    2964 non-null   object \n",
      " 3   Número de denuncias por violencia de género  2964 non-null   float64\n",
      "dtypes: float64(1), object(3)\n",
      "memory usage: 669.9 KB\n"
     ]
    }
   ],
   "source": [
    "denuncias.info(memory_usage='deep')"
   ]
  },
  {
   "cell_type": "code",
   "execution_count": 17,
   "metadata": {},
   "outputs": [],
   "source": [
    "denuncias['Año'] = denuncias['Año'].str.replace(r'\\D', '', regex=True) # Eliminamos lo que no es numérico\n",
    "\n",
    "denuncias['Año'] = pd.to_datetime(denuncias['Año'], format='%Y').dt.year"
   ]
  },
  {
   "cell_type": "code",
   "execution_count": 18,
   "metadata": {},
   "outputs": [],
   "source": [
    "denuncias = denuncias.loc[denuncias['Año'] >= 2020]"
   ]
  },
  {
   "cell_type": "code",
   "execution_count": 19,
   "metadata": {},
   "outputs": [],
   "source": [
    "trimestr = {\n",
    "    'Primero': 1,\n",
    "    'Segundo': 2,\n",
    "    'Tercero': 3,\n",
    "    'Cuarto': 4}\n",
    "\n",
    "denuncias['Trimestre'] = denuncias['Trimestre'].map(trimestr)\n"
   ]
  },
  {
   "cell_type": "code",
   "execution_count": 20,
   "metadata": {},
   "outputs": [],
   "source": [
    "denuncias.rename(columns={'Número de denuncias por violencia de género': 'Numero_denuncias'}, inplace=True)\n",
    "denuncias['Numero_denuncias'] = denuncias['Numero_denuncias'].astype(int)\n"
   ]
  },
  {
   "cell_type": "code",
   "execution_count": 21,
   "metadata": {},
   "outputs": [
    {
     "data": {
      "text/plain": [
       "0"
      ]
     },
     "execution_count": 21,
     "metadata": {},
     "output_type": "execute_result"
    }
   ],
   "source": [
    "denuncias.duplicated().sum()"
   ]
  },
  {
   "cell_type": "code",
   "execution_count": 22,
   "metadata": {},
   "outputs": [
    {
     "data": {
      "text/plain": [
       "Provincia           0\n",
       "Año                 0\n",
       "Trimestre           0\n",
       "Numero_denuncias    0\n",
       "dtype: int64"
      ]
     },
     "execution_count": 22,
     "metadata": {},
     "output_type": "execute_result"
    }
   ],
   "source": [
    "denuncias.isna().sum()"
   ]
  },
  {
   "cell_type": "code",
   "execution_count": 23,
   "metadata": {},
   "outputs": [
    {
     "name": "stdout",
     "output_type": "stream",
     "text": [
      "<class 'pandas.core.frame.DataFrame'>\n",
      "Index: 676 entries, 44 to 2963\n",
      "Data columns (total 4 columns):\n",
      " #   Column            Non-Null Count  Dtype \n",
      "---  ------            --------------  ----- \n",
      " 0   Provincia         676 non-null    object\n",
      " 1   Año               676 non-null    int32 \n",
      " 2   Trimestre         676 non-null    int64 \n",
      " 3   Numero_denuncias  676 non-null    int64 \n",
      "dtypes: int32(1), int64(2), object(1)\n",
      "memory usage: 66.7 KB\n"
     ]
    }
   ],
   "source": [
    "denuncias.info(memory_usage='deep')"
   ]
  },
  {
   "cell_type": "code",
   "execution_count": 24,
   "metadata": {},
   "outputs": [
    {
     "data": {
      "text/html": [
       "<div>\n",
       "<style scoped>\n",
       "    .dataframe tbody tr th:only-of-type {\n",
       "        vertical-align: middle;\n",
       "    }\n",
       "\n",
       "    .dataframe tbody tr th {\n",
       "        vertical-align: top;\n",
       "    }\n",
       "\n",
       "    .dataframe thead th {\n",
       "        text-align: right;\n",
       "    }\n",
       "</style>\n",
       "<table border=\"1\" class=\"dataframe\">\n",
       "  <thead>\n",
       "    <tr style=\"text-align: right;\">\n",
       "      <th></th>\n",
       "      <th>Provincia</th>\n",
       "      <th>Año</th>\n",
       "      <th>Trimestre</th>\n",
       "      <th>Numero_denuncias</th>\n",
       "    </tr>\n",
       "  </thead>\n",
       "  <tbody>\n",
       "    <tr>\n",
       "      <th>0</th>\n",
       "      <td>Almería</td>\n",
       "      <td>2020</td>\n",
       "      <td>1</td>\n",
       "      <td>792</td>\n",
       "    </tr>\n",
       "    <tr>\n",
       "      <th>1</th>\n",
       "      <td>Almería</td>\n",
       "      <td>2020</td>\n",
       "      <td>2</td>\n",
       "      <td>678</td>\n",
       "    </tr>\n",
       "    <tr>\n",
       "      <th>2</th>\n",
       "      <td>Almería</td>\n",
       "      <td>2020</td>\n",
       "      <td>3</td>\n",
       "      <td>1109</td>\n",
       "    </tr>\n",
       "    <tr>\n",
       "      <th>3</th>\n",
       "      <td>Almería</td>\n",
       "      <td>2020</td>\n",
       "      <td>4</td>\n",
       "      <td>786</td>\n",
       "    </tr>\n",
       "    <tr>\n",
       "      <th>4</th>\n",
       "      <td>Almería</td>\n",
       "      <td>2021</td>\n",
       "      <td>1</td>\n",
       "      <td>630</td>\n",
       "    </tr>\n",
       "  </tbody>\n",
       "</table>\n",
       "</div>"
      ],
      "text/plain": [
       "  Provincia   Año  Trimestre  Numero_denuncias\n",
       "0   Almería  2020          1               792\n",
       "1   Almería  2020          2               678\n",
       "2   Almería  2020          3              1109\n",
       "3   Almería  2020          4               786\n",
       "4   Almería  2021          1               630"
      ]
     },
     "execution_count": 24,
     "metadata": {},
     "output_type": "execute_result"
    }
   ],
   "source": [
    "denuncias = denuncias.reset_index(drop=True)\n",
    "denuncias.head()"
   ]
  },
  {
   "cell_type": "code",
   "execution_count": 25,
   "metadata": {},
   "outputs": [],
   "source": [
    "# EXPORTAR CSV\n",
    "denuncias.to_csv('../data/data_clean/denuncias_vg.csv', index=False)"
   ]
  },
  {
   "cell_type": "code",
   "execution_count": 26,
   "metadata": {},
   "outputs": [
    {
     "data": {
      "text/html": [
       "<div>\n",
       "<style scoped>\n",
       "    .dataframe tbody tr th:only-of-type {\n",
       "        vertical-align: middle;\n",
       "    }\n",
       "\n",
       "    .dataframe tbody tr th {\n",
       "        vertical-align: top;\n",
       "    }\n",
       "\n",
       "    .dataframe thead th {\n",
       "        text-align: right;\n",
       "    }\n",
       "</style>\n",
       "<table border=\"1\" class=\"dataframe\">\n",
       "  <thead>\n",
       "    <tr style=\"text-align: right;\">\n",
       "      <th></th>\n",
       "      <th>Año</th>\n",
       "      <th>Mes</th>\n",
       "      <th>Provincia</th>\n",
       "      <th>Número de mujeres víctimas mortales</th>\n",
       "    </tr>\n",
       "  </thead>\n",
       "  <tbody>\n",
       "    <tr>\n",
       "      <th>0</th>\n",
       "      <td>Año 2003</td>\n",
       "      <td>Enero</td>\n",
       "      <td>Almería</td>\n",
       "      <td>1.0</td>\n",
       "    </tr>\n",
       "    <tr>\n",
       "      <th>1</th>\n",
       "      <td>Año 2003</td>\n",
       "      <td>Enero</td>\n",
       "      <td>Granada</td>\n",
       "      <td>1.0</td>\n",
       "    </tr>\n",
       "    <tr>\n",
       "      <th>2</th>\n",
       "      <td>Año 2003</td>\n",
       "      <td>Enero</td>\n",
       "      <td>Málaga</td>\n",
       "      <td>1.0</td>\n",
       "    </tr>\n",
       "    <tr>\n",
       "      <th>3</th>\n",
       "      <td>Año 2003</td>\n",
       "      <td>Enero</td>\n",
       "      <td>Santa Cruz de Tenerife</td>\n",
       "      <td>1.0</td>\n",
       "    </tr>\n",
       "    <tr>\n",
       "      <th>4</th>\n",
       "      <td>Año 2003</td>\n",
       "      <td>Enero</td>\n",
       "      <td>Barcelona</td>\n",
       "      <td>3.0</td>\n",
       "    </tr>\n",
       "    <tr>\n",
       "      <th>...</th>\n",
       "      <td>...</td>\n",
       "      <td>...</td>\n",
       "      <td>...</td>\n",
       "      <td>...</td>\n",
       "    </tr>\n",
       "    <tr>\n",
       "      <th>1127</th>\n",
       "      <td>Año 2023</td>\n",
       "      <td>Septiembre</td>\n",
       "      <td>Alicante/Alacant</td>\n",
       "      <td>1.0</td>\n",
       "    </tr>\n",
       "    <tr>\n",
       "      <th>1128</th>\n",
       "      <td>Año 2023</td>\n",
       "      <td>Septiembre</td>\n",
       "      <td>Castellón/Castelló</td>\n",
       "      <td>1.0</td>\n",
       "    </tr>\n",
       "    <tr>\n",
       "      <th>1129</th>\n",
       "      <td>Año 2023</td>\n",
       "      <td>Septiembre</td>\n",
       "      <td>Madrid</td>\n",
       "      <td>1.0</td>\n",
       "    </tr>\n",
       "    <tr>\n",
       "      <th>1130</th>\n",
       "      <td>Año 2023</td>\n",
       "      <td>Septiembre</td>\n",
       "      <td>Murcia</td>\n",
       "      <td>1.0</td>\n",
       "    </tr>\n",
       "    <tr>\n",
       "      <th>1131</th>\n",
       "      <td>Año 2023</td>\n",
       "      <td>Octubre</td>\n",
       "      <td>Málaga</td>\n",
       "      <td>1.0</td>\n",
       "    </tr>\n",
       "  </tbody>\n",
       "</table>\n",
       "<p>1132 rows × 4 columns</p>\n",
       "</div>"
      ],
      "text/plain": [
       "           Año         Mes               Provincia  \\\n",
       "0     Año 2003       Enero                 Almería   \n",
       "1     Año 2003       Enero                 Granada   \n",
       "2     Año 2003       Enero                  Málaga   \n",
       "3     Año 2003       Enero  Santa Cruz de Tenerife   \n",
       "4     Año 2003       Enero               Barcelona   \n",
       "...        ...         ...                     ...   \n",
       "1127  Año 2023  Septiembre        Alicante/Alacant   \n",
       "1128  Año 2023  Septiembre      Castellón/Castelló   \n",
       "1129  Año 2023  Septiembre                  Madrid   \n",
       "1130  Año 2023  Septiembre                  Murcia   \n",
       "1131  Año 2023     Octubre                  Málaga   \n",
       "\n",
       "      Número de mujeres víctimas mortales  \n",
       "0                                     1.0  \n",
       "1                                     1.0  \n",
       "2                                     1.0  \n",
       "3                                     1.0  \n",
       "4                                     3.0  \n",
       "...                                   ...  \n",
       "1127                                  1.0  \n",
       "1128                                  1.0  \n",
       "1129                                  1.0  \n",
       "1130                                  1.0  \n",
       "1131                                  1.0  \n",
       "\n",
       "[1132 rows x 4 columns]"
      ]
     },
     "execution_count": 26,
     "metadata": {},
     "output_type": "execute_result"
    }
   ],
   "source": [
    "victimas = pd.read_csv('/Users/noeliarosonmartin/Ironhack/Project_ETL/data/data_original/victimas_mort.csv')\n",
    "victimas"
   ]
  },
  {
   "cell_type": "code",
   "execution_count": 27,
   "metadata": {},
   "outputs": [
    {
     "name": "stdout",
     "output_type": "stream",
     "text": [
      "<class 'pandas.core.frame.DataFrame'>\n",
      "RangeIndex: 1132 entries, 0 to 1131\n",
      "Data columns (total 4 columns):\n",
      " #   Column                               Non-Null Count  Dtype  \n",
      "---  ------                               --------------  -----  \n",
      " 0   Año                                  1132 non-null   object \n",
      " 1   Mes                                  1132 non-null   object \n",
      " 2   Provincia                            1132 non-null   object \n",
      " 3   Número de mujeres víctimas mortales  1132 non-null   float64\n",
      "dtypes: float64(1), object(3)\n",
      "memory usage: 257.3 KB\n"
     ]
    }
   ],
   "source": [
    "victimas.info(memory_usage='deep')"
   ]
  },
  {
   "cell_type": "code",
   "execution_count": 28,
   "metadata": {},
   "outputs": [],
   "source": [
    "victimas['Año'] = victimas['Año'].str.replace(r'\\D', '', regex=True) # Eliminamos lo que no es numérico\n",
    "\n",
    "victimas['Año'] = pd.to_datetime(victimas['Año'], format='%Y').dt.year"
   ]
  },
  {
   "cell_type": "code",
   "execution_count": 29,
   "metadata": {},
   "outputs": [],
   "source": [
    "victimas = victimas.loc[victimas['Año'] >= 2020]"
   ]
  },
  {
   "cell_type": "code",
   "execution_count": 30,
   "metadata": {},
   "outputs": [],
   "source": [
    "victimas['Mes'] = victimas['Mes'].map(meses_año)\n",
    "\n",
    "victimas['Mes'] = victimas['Mes'].astype(int)"
   ]
  },
  {
   "cell_type": "code",
   "execution_count": 31,
   "metadata": {},
   "outputs": [],
   "source": [
    "victimas['Trimestre'] = victimas['Mes'].apply(trimestre)\n"
   ]
  },
  {
   "cell_type": "code",
   "execution_count": 32,
   "metadata": {},
   "outputs": [],
   "source": [
    "victimas.rename(columns={'Número de mujeres víctimas mortales': 'Num_victimas_mortales'}, inplace=True)\n",
    "victimas['Num_victimas_mortales'] = victimas['Num_victimas_mortales'].astype(int)"
   ]
  },
  {
   "cell_type": "code",
   "execution_count": 33,
   "metadata": {},
   "outputs": [],
   "source": [
    "victimas = victimas [['Provincia', 'Año', 'Trimestre', 'Mes', 'Num_victimas_mortales']]"
   ]
  },
  {
   "cell_type": "code",
   "execution_count": 34,
   "metadata": {},
   "outputs": [
    {
     "data": {
      "text/plain": [
       "Provincia                0\n",
       "Año                      0\n",
       "Trimestre                0\n",
       "Mes                      0\n",
       "Num_victimas_mortales    0\n",
       "dtype: int64"
      ]
     },
     "execution_count": 34,
     "metadata": {},
     "output_type": "execute_result"
    }
   ],
   "source": [
    "victimas.isna().sum()"
   ]
  },
  {
   "cell_type": "code",
   "execution_count": 35,
   "metadata": {},
   "outputs": [
    {
     "data": {
      "text/plain": [
       "0"
      ]
     },
     "execution_count": 35,
     "metadata": {},
     "output_type": "execute_result"
    }
   ],
   "source": [
    "victimas.duplicated().sum()"
   ]
  },
  {
   "cell_type": "code",
   "execution_count": 36,
   "metadata": {},
   "outputs": [
    {
     "name": "stdout",
     "output_type": "stream",
     "text": [
      "<class 'pandas.core.frame.DataFrame'>\n",
      "Index: 188 entries, 944 to 1131\n",
      "Data columns (total 5 columns):\n",
      " #   Column                 Non-Null Count  Dtype \n",
      "---  ------                 --------------  ----- \n",
      " 0   Provincia              188 non-null    object\n",
      " 1   Año                    188 non-null    int32 \n",
      " 2   Trimestre              188 non-null    int64 \n",
      " 3   Mes                    188 non-null    int64 \n",
      " 4   Num_victimas_mortales  188 non-null    int64 \n",
      "dtypes: int32(1), int64(3), object(1)\n",
      "memory usage: 20.2 KB\n"
     ]
    }
   ],
   "source": [
    "victimas.info(memory_usage='deep')"
   ]
  },
  {
   "cell_type": "code",
   "execution_count": 37,
   "metadata": {},
   "outputs": [
    {
     "data": {
      "text/html": [
       "<div>\n",
       "<style scoped>\n",
       "    .dataframe tbody tr th:only-of-type {\n",
       "        vertical-align: middle;\n",
       "    }\n",
       "\n",
       "    .dataframe tbody tr th {\n",
       "        vertical-align: top;\n",
       "    }\n",
       "\n",
       "    .dataframe thead th {\n",
       "        text-align: right;\n",
       "    }\n",
       "</style>\n",
       "<table border=\"1\" class=\"dataframe\">\n",
       "  <thead>\n",
       "    <tr style=\"text-align: right;\">\n",
       "      <th></th>\n",
       "      <th>Provincia</th>\n",
       "      <th>Año</th>\n",
       "      <th>Trimestre</th>\n",
       "      <th>Mes</th>\n",
       "      <th>Num_victimas_mortales</th>\n",
       "    </tr>\n",
       "  </thead>\n",
       "  <tbody>\n",
       "    <tr>\n",
       "      <th>0</th>\n",
       "      <td>Granada</td>\n",
       "      <td>2020</td>\n",
       "      <td>1</td>\n",
       "      <td>1</td>\n",
       "      <td>1</td>\n",
       "    </tr>\n",
       "    <tr>\n",
       "      <th>1</th>\n",
       "      <td>Ciudad Real</td>\n",
       "      <td>2020</td>\n",
       "      <td>1</td>\n",
       "      <td>1</td>\n",
       "      <td>1</td>\n",
       "    </tr>\n",
       "    <tr>\n",
       "      <th>2</th>\n",
       "      <td>Toledo</td>\n",
       "      <td>2020</td>\n",
       "      <td>1</td>\n",
       "      <td>1</td>\n",
       "      <td>1</td>\n",
       "    </tr>\n",
       "    <tr>\n",
       "      <th>3</th>\n",
       "      <td>Barcelona</td>\n",
       "      <td>2020</td>\n",
       "      <td>1</td>\n",
       "      <td>1</td>\n",
       "      <td>3</td>\n",
       "    </tr>\n",
       "    <tr>\n",
       "      <th>4</th>\n",
       "      <td>Lugo</td>\n",
       "      <td>2020</td>\n",
       "      <td>1</td>\n",
       "      <td>1</td>\n",
       "      <td>1</td>\n",
       "    </tr>\n",
       "  </tbody>\n",
       "</table>\n",
       "</div>"
      ],
      "text/plain": [
       "     Provincia   Año  Trimestre  Mes  Num_victimas_mortales\n",
       "0      Granada  2020          1    1                      1\n",
       "1  Ciudad Real  2020          1    1                      1\n",
       "2       Toledo  2020          1    1                      1\n",
       "3    Barcelona  2020          1    1                      3\n",
       "4         Lugo  2020          1    1                      1"
      ]
     },
     "execution_count": 37,
     "metadata": {},
     "output_type": "execute_result"
    }
   ],
   "source": [
    "victimas = victimas.reset_index(drop=True)\n",
    "victimas.head()"
   ]
  },
  {
   "cell_type": "code",
   "execution_count": 38,
   "metadata": {},
   "outputs": [],
   "source": [
    "# EXPORTAR CSV\n",
    "victimas.to_csv('../data/data_clean/victimas_mortales_vg.csv', index=False)"
   ]
  }
 ],
 "metadata": {
  "kernelspec": {
   "display_name": "clase",
   "language": "python",
   "name": "clase"
  },
  "language_info": {
   "codemirror_mode": {
    "name": "ipython",
    "version": 3
   },
   "file_extension": ".py",
   "mimetype": "text/x-python",
   "name": "python",
   "nbconvert_exporter": "python",
   "pygments_lexer": "ipython3",
   "version": "3.10.13"
  }
 },
 "nbformat": 4,
 "nbformat_minor": 2
}
