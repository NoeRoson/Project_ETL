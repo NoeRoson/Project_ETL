{
 "cells": [
  {
   "cell_type": "code",
   "execution_count": 116,
   "id": "0de64ef7",
   "metadata": {},
   "outputs": [],
   "source": [
    "import pandas as pd\n",
    "from selenium.webdriver.chrome.options import Options\n",
    "from webdriver_manager.chrome import ChromeDriverManager\n",
    "from selenium.webdriver.support.ui import WebDriverWait\n",
    "import time\n",
    "from datetime import datetime"
   ]
  },
  {
   "cell_type": "code",
   "execution_count": 2,
   "id": "6a62a103",
   "metadata": {},
   "outputs": [],
   "source": [
    "opciones=Options()\n",
    "\n",
    "opciones.add_experimental_option('excludeSwitches', ['enable-automation'])\n",
    "opciones.add_experimental_option('useAutomationExtension', False)\n",
    "opciones.headless=False    # si True, no aperece la ventana (headless=no visible)\n",
    "opciones.add_argument('--start-maximized')         # comienza maximizado\n",
    "#opciones.add_argument('user-data-dir=selenium')    # mantiene las cookies\n",
    "#opciones.add_extension('driver_folder/adblock.crx')       # adblocker\n",
    "opciones.add_argument('--incognito')\n"
   ]
  },
  {
   "cell_type": "code",
   "execution_count": 3,
   "id": "09cca141",
   "metadata": {},
   "outputs": [],
   "source": [
    "from selenium import webdriver\n",
    "PATH = \"/driver/chromedriver\"\n",
    "from selenium.webdriver.common.by import By\n",
    "driver = webdriver.Chrome(opciones)"
   ]
  },
  {
   "cell_type": "code",
   "execution_count": 4,
   "id": "aceb8ee8",
   "metadata": {},
   "outputs": [],
   "source": [
    "url = 'https://violenciagenero.igualdad.gob.es/sensibilizacionConcienciacion/campannas/violenciaGobierno/home.htm'"
   ]
  },
  {
   "cell_type": "code",
   "execution_count": 5,
   "id": "411baa93",
   "metadata": {},
   "outputs": [],
   "source": [
    "driver.get(url)"
   ]
  },
  {
   "cell_type": "code",
   "execution_count": 6,
   "id": "17064314",
   "metadata": {},
   "outputs": [],
   "source": [
    "# Clickamos sobre el mensaje de inicio para entrar en la web\n",
    "\n",
    "\n",
    "driver.find_element(By.XPATH, '//*[@id=\"mensaje\"]/div[1]/a').click()"
   ]
  },
  {
   "cell_type": "code",
   "execution_count": 7,
   "id": "945eec39",
   "metadata": {},
   "outputs": [],
   "source": [
    "# Clickamos en cada campaña disponible --> hasta llegar a la fecha de publicación en Youtube\n",
    "\n",
    "# Campaña 1 Ser Libres, clickamos en ella:\n",
    "\n",
    "driver.find_element(By.XPATH, '//*[@id=\"contenido\"]/div[3]/div/ul/li[1]/a').click()"
   ]
  },
  {
   "cell_type": "code",
   "execution_count": 8,
   "id": "356e8557",
   "metadata": {},
   "outputs": [],
   "source": [
    "# Le damos al play en la miniatura, para ello hay que entrar con el driver en el propio frame del vídeo\n",
    "\n",
    "frame = driver.find_element(By.CSS_SELECTOR, 'iframe.player')\n",
    "\n",
    "driver.switch_to.frame(frame)"
   ]
  },
  {
   "cell_type": "code",
   "execution_count": 9,
   "id": "a9a1cbe0",
   "metadata": {},
   "outputs": [],
   "source": [
    "# Ahora sí, le damos al play\n",
    "\n",
    "driver.find_element(By.XPATH, '//*[@id=\"movie_player\"]/div[4]/button').click()"
   ]
  },
  {
   "cell_type": "code",
   "execution_count": 10,
   "id": "c62354b4",
   "metadata": {},
   "outputs": [],
   "source": [
    "# Nos redirige a Youtube\n",
    "\n",
    "driver.find_element(By.XPATH, '//*[@id=\"movie_player\"]/div[28]/div[2]/div[2]/a').click()"
   ]
  },
  {
   "cell_type": "code",
   "execution_count": 11,
   "id": "0931ed59",
   "metadata": {},
   "outputs": [],
   "source": [
    "driver.switch_to.window(driver.window_handles[1])"
   ]
  },
  {
   "cell_type": "code",
   "execution_count": 12,
   "id": "18b7d371",
   "metadata": {},
   "outputs": [],
   "source": [
    "# Aceptamos cookies\n",
    "\n",
    "driver.find_element(By.XPATH, '//*[@id=\"content\"]/div[2]/div[6]/div[1]/ytd-button-renderer[2]/yt-button-shape').click()"
   ]
  },
  {
   "cell_type": "code",
   "execution_count": 13,
   "id": "a213eae8",
   "metadata": {},
   "outputs": [],
   "source": [
    "# Desplegamos para ver la fecha\n",
    "\n",
    "driver.find_element(By.XPATH, '//*[@id=\"expand\"]').click()"
   ]
  },
  {
   "cell_type": "code",
   "execution_count": 14,
   "id": "b28f8f3c",
   "metadata": {},
   "outputs": [
    {
     "data": {
      "text/plain": [
       "'13 Jul 2023'"
      ]
     },
     "execution_count": 14,
     "metadata": {},
     "output_type": "execute_result"
    }
   ],
   "source": [
    "#Obtenemos la fecha\n",
    "\n",
    "fecha1 = driver.find_element(By.XPATH, '//*[@id=\"info\"]/span[3]').text\n",
    "fecha1"
   ]
  },
  {
   "cell_type": "code",
   "execution_count": 15,
   "id": "947db350",
   "metadata": {},
   "outputs": [],
   "source": [
    "driver.quit()"
   ]
  },
  {
   "cell_type": "code",
   "execution_count": 16,
   "id": "3cef769f",
   "metadata": {},
   "outputs": [],
   "source": [
    "driver = webdriver.Chrome(opciones)\n",
    "driver.get(url)"
   ]
  },
  {
   "cell_type": "code",
   "execution_count": 17,
   "id": "f7318163",
   "metadata": {},
   "outputs": [],
   "source": [
    "# Clickamos sobre el mensaje de inicio para entrar en la web\n",
    "\n",
    "\n",
    "driver.find_element(By.XPATH, '//*[@id=\"mensaje\"]/div[1]/a').click()"
   ]
  },
  {
   "cell_type": "code",
   "execution_count": 18,
   "id": "80c63be4",
   "metadata": {},
   "outputs": [],
   "source": [
    "# Campaña 2 ¿Entonces quién?, clickamos en ella:\n",
    "\n",
    "\n",
    "driver.find_element(By.XPATH, '//*[@id=\"contenido\"]/div[3]/div/ul/li[2]/a').click()"
   ]
  },
  {
   "cell_type": "code",
   "execution_count": 19,
   "id": "ffac536c",
   "metadata": {},
   "outputs": [],
   "source": [
    "# Le damos al play en la miniatura, para ello hay que entrar con el driver en el propio frame del vídeo\n",
    "\n",
    "frame = driver.find_element(By.CSS_SELECTOR, 'iframe.player')\n",
    "\n",
    "driver.switch_to.frame(frame)"
   ]
  },
  {
   "cell_type": "code",
   "execution_count": 20,
   "id": "63fec9a4",
   "metadata": {},
   "outputs": [],
   "source": [
    "# Ahora sí, le damos al play\n",
    "\n",
    "driver.find_element(By.XPATH, '//*[@id=\"movie_player\"]/div[4]/button').click()"
   ]
  },
  {
   "cell_type": "code",
   "execution_count": 21,
   "id": "6afbd1b5",
   "metadata": {},
   "outputs": [],
   "source": [
    "# Nos redirige a Youtube\n",
    "\n",
    "driver.find_element(By.XPATH, '//*[@id=\"movie_player\"]/div[28]/div[2]/div[2]/a').click()\n"
   ]
  },
  {
   "cell_type": "code",
   "execution_count": 22,
   "id": "fc0465a0",
   "metadata": {},
   "outputs": [],
   "source": [
    "driver.switch_to.window(driver.window_handles[1])"
   ]
  },
  {
   "cell_type": "code",
   "execution_count": 23,
   "id": "a01cb1b3",
   "metadata": {},
   "outputs": [],
   "source": [
    "# Aceptamos cookies\n",
    "\n",
    "driver.find_element(By.XPATH, '//*[@id=\"content\"]/div[2]/div[6]/div[1]/ytd-button-renderer[2]/yt-button-shape').click()"
   ]
  },
  {
   "cell_type": "code",
   "execution_count": 24,
   "id": "39277c86",
   "metadata": {},
   "outputs": [],
   "source": [
    "# Desplegamos para ver la fecha\n",
    "\n",
    "driver.find_element(By.XPATH, '//*[@id=\"expand\"]').click()"
   ]
  },
  {
   "cell_type": "code",
   "execution_count": 25,
   "id": "2eb3c224",
   "metadata": {},
   "outputs": [
    {
     "data": {
      "text/plain": [
       "'21 Nov 2022'"
      ]
     },
     "execution_count": 25,
     "metadata": {},
     "output_type": "execute_result"
    }
   ],
   "source": [
    "#Obtenemos la fecha\n",
    "\n",
    "fecha2 = driver.find_element(By.XPATH, '//*[@id=\"info\"]/span[3]').text\n",
    "fecha2"
   ]
  },
  {
   "cell_type": "code",
   "execution_count": 26,
   "id": "0b2d584d",
   "metadata": {},
   "outputs": [],
   "source": [
    "driver.quit()"
   ]
  },
  {
   "cell_type": "code",
   "execution_count": 27,
   "id": "02cda644",
   "metadata": {},
   "outputs": [],
   "source": [
    "driver = webdriver.Chrome(opciones)\n",
    "driver.get(url)"
   ]
  },
  {
   "cell_type": "code",
   "execution_count": 28,
   "id": "e0ed29c6",
   "metadata": {},
   "outputs": [],
   "source": [
    "# Clickamos sobre el mensaje de inicio para entrar en la web\n",
    "\n",
    "\n",
    "driver.find_element(By.XPATH, '//*[@id=\"mensaje\"]/div[1]/a').click()"
   ]
  },
  {
   "cell_type": "code",
   "execution_count": 29,
   "id": "f141090f",
   "metadata": {},
   "outputs": [],
   "source": [
    "# Campaña 3 Querernos vivas, clickamos en ella:\n",
    "\n",
    "\n",
    "driver.find_element(By.XPATH, '//*[@id=\"contenido\"]/div[3]/div/ul/li[3]/a').click()"
   ]
  },
  {
   "cell_type": "code",
   "execution_count": 30,
   "id": "2dc18fe1",
   "metadata": {},
   "outputs": [],
   "source": [
    "# Le damos al play en la miniatura, para ello hay que entrar con el driver en el propio frame del vídeo\n",
    "\n",
    "frame = driver.find_element(By.CSS_SELECTOR, 'iframe.player')\n",
    "\n",
    "driver.switch_to.frame(frame)"
   ]
  },
  {
   "cell_type": "code",
   "execution_count": 31,
   "id": "8c79721f",
   "metadata": {},
   "outputs": [],
   "source": [
    "# Ahora sí, le damos al play\n",
    "\n",
    "driver.find_element(By.XPATH, '//*[@id=\"movie_player\"]/div[4]/button').click()"
   ]
  },
  {
   "cell_type": "code",
   "execution_count": 32,
   "id": "19a650da",
   "metadata": {},
   "outputs": [],
   "source": [
    "# Nos redirige a Youtube\n",
    "\n",
    "driver.find_element(By.XPATH, '//*[@id=\"movie_player\"]/div[27]/div[2]/div[2]/a').click()"
   ]
  },
  {
   "cell_type": "code",
   "execution_count": 33,
   "id": "9212ed36",
   "metadata": {},
   "outputs": [],
   "source": [
    "driver.switch_to.window(driver.window_handles[1])"
   ]
  },
  {
   "cell_type": "code",
   "execution_count": 34,
   "id": "7de4294e",
   "metadata": {},
   "outputs": [],
   "source": [
    "# Aceptamos cookies\n",
    "\n",
    "driver.find_element(By.XPATH, '//*[@id=\"content\"]/div[2]/div[6]/div[1]/ytd-button-renderer[2]/yt-button-shape').click()"
   ]
  },
  {
   "cell_type": "code",
   "execution_count": 35,
   "id": "0c3e8831",
   "metadata": {},
   "outputs": [],
   "source": [
    "# Desplegamos para ver la fecha\n",
    "\n",
    "driver.find_element(By.XPATH, '//*[@id=\"expand\"]').click()"
   ]
  },
  {
   "cell_type": "code",
   "execution_count": 36,
   "id": "3634bf39",
   "metadata": {},
   "outputs": [
    {
     "data": {
      "text/plain": [
       "'8 Aug 2022'"
      ]
     },
     "execution_count": 36,
     "metadata": {},
     "output_type": "execute_result"
    }
   ],
   "source": [
    "#Obtenemos la fecha\n",
    "\n",
    "fecha3 = driver.find_element(By.XPATH, '//*[@id=\"info\"]/span[3]').text\n",
    "fecha3"
   ]
  },
  {
   "cell_type": "code",
   "execution_count": 37,
   "id": "76410ce0",
   "metadata": {},
   "outputs": [],
   "source": [
    "driver.quit()"
   ]
  },
  {
   "cell_type": "code",
   "execution_count": 38,
   "id": "1a31a53a",
   "metadata": {},
   "outputs": [],
   "source": [
    "driver = webdriver.Chrome(opciones)\n",
    "driver.get(url)"
   ]
  },
  {
   "cell_type": "code",
   "execution_count": 39,
   "id": "5471af50",
   "metadata": {},
   "outputs": [],
   "source": [
    "# Clickamos sobre el mensaje de inicio para entrar en la web\n",
    "\n",
    "driver.find_element(By.XPATH, '//*[@id=\"mensaje\"]/div[1]/a').click()"
   ]
  },
  {
   "cell_type": "code",
   "execution_count": 40,
   "id": "98e361b9",
   "metadata": {},
   "outputs": [],
   "source": [
    "# Campaña 4 Juntas, clickamos en ella:\n",
    "\n",
    "driver.find_element(By.XPATH, '//*[@id=\"contenido\"]/div[3]/div/ul/li[4]/a').click()"
   ]
  },
  {
   "cell_type": "code",
   "execution_count": 41,
   "id": "56381b11",
   "metadata": {},
   "outputs": [],
   "source": [
    "# Le damos al play en la miniatura, para ello hay que entrar con el driver en el propio frame del vídeo\n",
    "\n",
    "frame = driver.find_element(By.CSS_SELECTOR, 'iframe.player')\n",
    "\n",
    "driver.switch_to.frame(frame)"
   ]
  },
  {
   "cell_type": "code",
   "execution_count": 42,
   "id": "7de838c8",
   "metadata": {},
   "outputs": [],
   "source": [
    "# Ahora sí, le damos al play\n",
    "\n",
    "driver.find_element(By.XPATH, '//*[@id=\"movie_player\"]/div[4]/button').click()"
   ]
  },
  {
   "cell_type": "code",
   "execution_count": 43,
   "id": "92c6fed2",
   "metadata": {},
   "outputs": [],
   "source": [
    "# Nos redirige a Youtube\n",
    "\n",
    "driver.find_element(By.XPATH, '//*[@id=\"movie_player\"]/div[28]/div[2]/div[2]/a').click()"
   ]
  },
  {
   "cell_type": "code",
   "execution_count": 44,
   "id": "96e342f0",
   "metadata": {},
   "outputs": [],
   "source": [
    "driver.switch_to.window(driver.window_handles[1])"
   ]
  },
  {
   "cell_type": "code",
   "execution_count": 45,
   "id": "f46196a5",
   "metadata": {},
   "outputs": [],
   "source": [
    "# Aceptamos cookies\n",
    "\n",
    "driver.find_element(By.XPATH, '//*[@id=\"content\"]/div[2]/div[6]/div[1]/ytd-button-renderer[2]/yt-button-shape').click()"
   ]
  },
  {
   "cell_type": "code",
   "execution_count": 47,
   "id": "a7a5f905",
   "metadata": {},
   "outputs": [],
   "source": [
    "# Desplegamos para ver la fecha\n",
    "\n",
    "driver.find_element(By.XPATH, '//*[@id=\"expand\"]').click()"
   ]
  },
  {
   "cell_type": "code",
   "execution_count": 48,
   "id": "ea6bec1f",
   "metadata": {},
   "outputs": [
    {
     "data": {
      "text/plain": [
       "'26 Nov 2021'"
      ]
     },
     "execution_count": 48,
     "metadata": {},
     "output_type": "execute_result"
    }
   ],
   "source": [
    "#Obtenemos la fecha\n",
    "\n",
    "fecha4 = driver.find_element(By.XPATH, '//*[@id=\"info\"]/span[3]').text\n",
    "fecha4"
   ]
  },
  {
   "cell_type": "code",
   "execution_count": 49,
   "id": "07c67d7b",
   "metadata": {},
   "outputs": [],
   "source": [
    "driver.quit()"
   ]
  },
  {
   "cell_type": "code",
   "execution_count": 50,
   "id": "fcea39ff",
   "metadata": {},
   "outputs": [],
   "source": [
    "driver = webdriver.Chrome(opciones)\n",
    "driver.get(url)"
   ]
  },
  {
   "cell_type": "code",
   "execution_count": 51,
   "id": "def5f637",
   "metadata": {},
   "outputs": [],
   "source": [
    "# Clickamos sobre el mensaje de inicio para entrar en la web\n",
    "\n",
    "x_path = '//*[@id=\"mensaje\"]/div[1]/a'\n",
    "\n",
    "driver.find_element(By.XPATH, x_path).click()"
   ]
  },
  {
   "cell_type": "code",
   "execution_count": 52,
   "id": "f9d672f4",
   "metadata": {},
   "outputs": [],
   "source": [
    "# Campaña 5 Practica buenos tratos, clickamos en ella:\n",
    "\n",
    "driver.find_element(By.XPATH, '//*[@id=\"contenido\"]/div[3]/div/ul/li[5]/a').click()"
   ]
  },
  {
   "cell_type": "code",
   "execution_count": 53,
   "id": "1801877b",
   "metadata": {},
   "outputs": [],
   "source": [
    "# Le damos al play en la miniatura, para ello hay que entrar con el driver en el propio frame del vídeo\n",
    "\n",
    "frame = driver.find_element(By.CSS_SELECTOR, 'iframe.player')\n",
    "\n",
    "driver.switch_to.frame(frame)"
   ]
  },
  {
   "cell_type": "code",
   "execution_count": 54,
   "id": "02aaea66",
   "metadata": {},
   "outputs": [],
   "source": [
    "# Ahora sí, le damos al play\n",
    "\n",
    "driver.find_element(By.XPATH, '//*[@id=\"movie_player\"]/div[4]/button').click()"
   ]
  },
  {
   "cell_type": "code",
   "execution_count": 55,
   "id": "0fa23a50",
   "metadata": {},
   "outputs": [],
   "source": [
    "# Nos redirige a Youtube\n",
    "\n",
    "driver.find_element(By.XPATH, '//*[@id=\"movie_player\"]/div[28]/div[2]/div[2]/a').click()"
   ]
  },
  {
   "cell_type": "code",
   "execution_count": 56,
   "id": "b8c45671",
   "metadata": {},
   "outputs": [],
   "source": [
    "driver.switch_to.window(driver.window_handles[1])"
   ]
  },
  {
   "cell_type": "code",
   "execution_count": 57,
   "id": "9938f8bd",
   "metadata": {},
   "outputs": [],
   "source": [
    "# Aceptamos cookies\n",
    "\n",
    "driver.find_element(By.XPATH, '//*[@id=\"content\"]/div[2]/div[6]/div[1]/ytd-button-renderer[2]/yt-button-shape').click()"
   ]
  },
  {
   "cell_type": "code",
   "execution_count": 59,
   "id": "c2f406fb",
   "metadata": {},
   "outputs": [],
   "source": [
    "# Desplegamos para ver la fecha\n",
    "\n",
    "driver.find_element(By.XPATH, '//*[@id=\"expand\"]').click()"
   ]
  },
  {
   "cell_type": "code",
   "execution_count": 60,
   "id": "0343214c",
   "metadata": {},
   "outputs": [
    {
     "data": {
      "text/plain": [
       "'25 Nov 2021'"
      ]
     },
     "execution_count": 60,
     "metadata": {},
     "output_type": "execute_result"
    }
   ],
   "source": [
    "#Obtenemos la fecha\n",
    "\n",
    "fecha5 = driver.find_element(By.XPATH, '//*[@id=\"info\"]/span[3]').text\n",
    "fecha5"
   ]
  },
  {
   "cell_type": "code",
   "execution_count": 61,
   "id": "20a30c36",
   "metadata": {},
   "outputs": [],
   "source": [
    "driver.quit()"
   ]
  },
  {
   "cell_type": "code",
   "execution_count": 62,
   "id": "92f1168c",
   "metadata": {},
   "outputs": [],
   "source": [
    "driver = webdriver.Chrome(opciones)\n",
    "driver.get(url)"
   ]
  },
  {
   "cell_type": "code",
   "execution_count": 63,
   "id": "247a9ce4",
   "metadata": {},
   "outputs": [],
   "source": [
    "# Clickamos sobre el mensaje de inicio para entrar en la web\n",
    "\n",
    "x_path = '//*[@id=\"mensaje\"]/div[1]/a'\n",
    "\n",
    "driver.find_element(By.XPATH, x_path).click()"
   ]
  },
  {
   "cell_type": "code",
   "execution_count": 64,
   "id": "ddd79295",
   "metadata": {},
   "outputs": [],
   "source": [
    "# Campaña 6 Cerodieciseis, clickamos en ella:\n",
    "\n",
    "driver.find_element(By.XPATH, '//*[@id=\"contenido\"]/div[3]/div/ul/li[6]/a').click()"
   ]
  },
  {
   "cell_type": "code",
   "execution_count": 65,
   "id": "2b553027",
   "metadata": {},
   "outputs": [],
   "source": [
    "# Le damos al play en la miniatura, para ello hay que entrar con el driver en el propio frame del vídeo\n",
    "\n",
    "frame = driver.find_element(By.CSS_SELECTOR, 'iframe.player')\n",
    "\n",
    "driver.switch_to.frame(frame)"
   ]
  },
  {
   "cell_type": "code",
   "execution_count": 66,
   "id": "297c8215",
   "metadata": {},
   "outputs": [],
   "source": [
    "# Ahora sí, le damos al play\n",
    "\n",
    "driver.find_element(By.XPATH, '//*[@id=\"movie_player\"]/div[4]/button').click()"
   ]
  },
  {
   "cell_type": "code",
   "execution_count": 67,
   "id": "2b202ba2",
   "metadata": {},
   "outputs": [],
   "source": [
    "# Nos redirige a Youtube\n",
    "\n",
    "driver.find_element(By.XPATH, '//*[@id=\"movie_player\"]/div[28]/div[2]/div[2]/a').click()"
   ]
  },
  {
   "cell_type": "code",
   "execution_count": 68,
   "id": "fbb1843a",
   "metadata": {},
   "outputs": [],
   "source": [
    "driver.switch_to.window(driver.window_handles[1])"
   ]
  },
  {
   "cell_type": "code",
   "execution_count": 69,
   "id": "20bd9968",
   "metadata": {},
   "outputs": [],
   "source": [
    "# Aceptamos cookies\n",
    "\n",
    "driver.find_element(By.XPATH, '//*[@id=\"content\"]/div[2]/div[6]/div[1]/ytd-button-renderer[2]/yt-button-shape').click()"
   ]
  },
  {
   "cell_type": "code",
   "execution_count": 70,
   "id": "1160a98b",
   "metadata": {},
   "outputs": [],
   "source": [
    "# Desplegamos para ver la fecha\n",
    "\n",
    "driver.find_element(By.XPATH, '//*[@id=\"expand\"]').click()"
   ]
  },
  {
   "cell_type": "code",
   "execution_count": 71,
   "id": "e7daedbf",
   "metadata": {},
   "outputs": [
    {
     "data": {
      "text/plain": [
       "'13 Oct 2021'"
      ]
     },
     "execution_count": 71,
     "metadata": {},
     "output_type": "execute_result"
    }
   ],
   "source": [
    "#Obtenemos la fecha\n",
    "\n",
    "fecha6 = driver.find_element(By.XPATH, '//*[@id=\"info\"]/span[3]').text\n",
    "fecha6"
   ]
  },
  {
   "cell_type": "code",
   "execution_count": 72,
   "id": "2569fe4c",
   "metadata": {},
   "outputs": [],
   "source": [
    "driver.quit()"
   ]
  },
  {
   "cell_type": "code",
   "execution_count": 73,
   "id": "53181f60",
   "metadata": {},
   "outputs": [],
   "source": [
    "driver = webdriver.Chrome(opciones)\n",
    "driver.get(url)"
   ]
  },
  {
   "cell_type": "code",
   "execution_count": 74,
   "id": "e79a6adb",
   "metadata": {},
   "outputs": [],
   "source": [
    "# Clickamos sobre el mensaje de inicio para entrar en la web\n",
    "\n",
    "x_path = '//*[@id=\"mensaje\"]/div[1]/a'\n",
    "\n",
    "driver.find_element(By.XPATH, x_path).click()"
   ]
  },
  {
   "cell_type": "code",
   "execution_count": 75,
   "id": "9eab7ea2",
   "metadata": {},
   "outputs": [],
   "source": [
    "# Campaña 7 Esunsí, clickamos en ella:\n",
    "\n",
    "driver.find_element(By.XPATH, '//*[@id=\"contenido\"]/div[3]/div/ul/li[7]/a').click()"
   ]
  },
  {
   "cell_type": "code",
   "execution_count": 76,
   "id": "8ddbe868",
   "metadata": {},
   "outputs": [],
   "source": [
    "# Le damos al play en la miniatura, para ello hay que entrar con el driver en el propio frame del vídeo\n",
    "\n",
    "frame = driver.find_element(By.CSS_SELECTOR, 'iframe.player')\n",
    "\n",
    "driver.switch_to.frame(frame)"
   ]
  },
  {
   "cell_type": "code",
   "execution_count": 77,
   "id": "55b16eac",
   "metadata": {},
   "outputs": [],
   "source": [
    "# Ahora sí, le damos al play\n",
    "\n",
    "driver.find_element(By.XPATH, '//*[@id=\"movie_player\"]/div[4]/button').click()"
   ]
  },
  {
   "cell_type": "code",
   "execution_count": 78,
   "id": "c4baa5be",
   "metadata": {},
   "outputs": [],
   "source": [
    "# Nos redirige a Youtube\n",
    "\n",
    "driver.find_element(By.XPATH, '//*[@id=\"movie_player\"]/div[27]/div[2]/div[2]/a').click()"
   ]
  },
  {
   "cell_type": "code",
   "execution_count": 79,
   "id": "cc5e4320",
   "metadata": {},
   "outputs": [],
   "source": [
    "driver.switch_to.window(driver.window_handles[1])"
   ]
  },
  {
   "cell_type": "code",
   "execution_count": 80,
   "id": "a4f2f5fa",
   "metadata": {},
   "outputs": [],
   "source": [
    "# Aceptamos cookies\n",
    "\n",
    "driver.find_element(By.XPATH, '//*[@id=\"content\"]/div[2]/div[6]/div[1]/ytd-button-renderer[2]/yt-button-shape').click()"
   ]
  },
  {
   "cell_type": "code",
   "execution_count": 81,
   "id": "09cb35b3",
   "metadata": {},
   "outputs": [],
   "source": [
    "# Desplegamos para ver la fecha\n",
    "\n",
    "driver.find_element(By.XPATH, '//*[@id=\"expand\"]').click()"
   ]
  },
  {
   "cell_type": "code",
   "execution_count": 82,
   "id": "17a96d5e",
   "metadata": {},
   "outputs": [
    {
     "data": {
      "text/plain": [
       "'25 May 2021'"
      ]
     },
     "execution_count": 82,
     "metadata": {},
     "output_type": "execute_result"
    }
   ],
   "source": [
    "#Obtenemos la fecha\n",
    "\n",
    "fecha7 = driver.find_element(By.XPATH, '//*[@id=\"info\"]/span[3]').text\n",
    "fecha7"
   ]
  },
  {
   "cell_type": "code",
   "execution_count": 83,
   "id": "88fabd97",
   "metadata": {},
   "outputs": [],
   "source": [
    "driver.quit()"
   ]
  },
  {
   "cell_type": "code",
   "execution_count": 84,
   "id": "1e9f1348",
   "metadata": {},
   "outputs": [],
   "source": [
    "driver = webdriver.Chrome(opciones)\n",
    "driver.get(url)"
   ]
  },
  {
   "cell_type": "code",
   "execution_count": 85,
   "id": "2492ee46",
   "metadata": {},
   "outputs": [],
   "source": [
    "# Clickamos sobre el mensaje de inicio para entrar en la web\n",
    "\n",
    "x_path = '//*[@id=\"mensaje\"]/div[1]/a'\n",
    "\n",
    "driver.find_element(By.XPATH, x_path).click()"
   ]
  },
  {
   "cell_type": "code",
   "execution_count": 86,
   "id": "db7802ae",
   "metadata": {},
   "outputs": [],
   "source": [
    "# Campaña 8 Machismo, clickamos en ella:\n",
    "\n",
    "driver.find_element(By.XPATH, '//*[@id=\"contenido\"]/div[3]/div/ul/li[8]/a').click()"
   ]
  },
  {
   "cell_type": "code",
   "execution_count": 87,
   "id": "f8c5eca1",
   "metadata": {},
   "outputs": [],
   "source": [
    "# Le damos al play en la miniatura, para ello hay que entrar con el driver en el propio frame del vídeo\n",
    "\n",
    "frame = driver.find_element(By.CSS_SELECTOR, 'iframe.player')\n",
    "\n",
    "driver.switch_to.frame(frame)"
   ]
  },
  {
   "cell_type": "code",
   "execution_count": 88,
   "id": "b25d4b69",
   "metadata": {},
   "outputs": [],
   "source": [
    "# Ahora sí, le damos al play\n",
    "\n",
    "driver.find_element(By.XPATH, '//*[@id=\"movie_player\"]/div[4]/button').click()"
   ]
  },
  {
   "cell_type": "code",
   "execution_count": 89,
   "id": "d48cf010",
   "metadata": {},
   "outputs": [],
   "source": [
    "# Nos redirige a Youtube\n",
    "\n",
    "driver.find_element(By.XPATH, '//*[@id=\"movie_player\"]/div[28]/div[2]/div[2]/a').click()"
   ]
  },
  {
   "cell_type": "code",
   "execution_count": 90,
   "id": "73e943a4",
   "metadata": {},
   "outputs": [],
   "source": [
    "driver.switch_to.window(driver.window_handles[1])"
   ]
  },
  {
   "cell_type": "code",
   "execution_count": 91,
   "id": "04aa71c8",
   "metadata": {},
   "outputs": [],
   "source": [
    "# Aceptamos cookies\n",
    "\n",
    "driver.find_element(By.XPATH, '//*[@id=\"content\"]/div[2]/div[6]/div[1]/ytd-button-renderer[2]/yt-button-shape').click()"
   ]
  },
  {
   "cell_type": "code",
   "execution_count": 93,
   "id": "69100357",
   "metadata": {},
   "outputs": [],
   "source": [
    "# Desplegamos para ver la fecha\n",
    "\n",
    "driver.find_element(By.XPATH, '//*[@id=\"expand\"]').click()"
   ]
  },
  {
   "cell_type": "code",
   "execution_count": 94,
   "id": "f44211bb",
   "metadata": {},
   "outputs": [
    {
     "data": {
      "text/plain": [
       "'14 Apr 2021'"
      ]
     },
     "execution_count": 94,
     "metadata": {},
     "output_type": "execute_result"
    }
   ],
   "source": [
    "#Obtenemos la fecha\n",
    "\n",
    "fecha8 = driver.find_element(By.XPATH, '//*[@id=\"info\"]/span[3]').text\n",
    "fecha8"
   ]
  },
  {
   "cell_type": "code",
   "execution_count": 95,
   "id": "4b6ad07f",
   "metadata": {},
   "outputs": [],
   "source": [
    "driver.quit()"
   ]
  },
  {
   "cell_type": "code",
   "execution_count": 96,
   "id": "cf6819a5",
   "metadata": {},
   "outputs": [],
   "source": [
    "driver = webdriver.Chrome(opciones)\n",
    "driver.get(url)"
   ]
  },
  {
   "cell_type": "code",
   "execution_count": 97,
   "id": "d5ffe5b5",
   "metadata": {},
   "outputs": [],
   "source": [
    "# Clickamos sobre el mensaje de inicio para entrar en la web\n",
    "\n",
    "x_path = '//*[@id=\"mensaje\"]/div[1]/a'\n",
    "\n",
    "driver.find_element(By.XPATH, x_path).click()"
   ]
  },
  {
   "cell_type": "code",
   "execution_count": 98,
   "id": "0347523a",
   "metadata": {},
   "outputs": [],
   "source": [
    "# Campaña 9 Laviolencia, clickamos en ella:\n",
    "\n",
    "driver.find_element(By.XPATH, '//*[@id=\"contenido\"]/div[3]/div/ul/li[9]/a').click()"
   ]
  },
  {
   "cell_type": "code",
   "execution_count": 99,
   "id": "076a0c31",
   "metadata": {},
   "outputs": [],
   "source": [
    "# Le damos al play en la miniatura, para ello hay que entrar con el driver en el propio frame del vídeo\n",
    "\n",
    "frame = driver.find_element(By.CSS_SELECTOR, 'iframe.player')\n",
    "\n",
    "driver.switch_to.frame(frame)"
   ]
  },
  {
   "cell_type": "code",
   "execution_count": 100,
   "id": "0a7ca879",
   "metadata": {},
   "outputs": [],
   "source": [
    "# Ahora sí, le damos al play\n",
    "\n",
    "driver.find_element(By.XPATH, '//*[@id=\"movie_player\"]/div[4]/button').click()"
   ]
  },
  {
   "cell_type": "code",
   "execution_count": 101,
   "id": "f8288eaa",
   "metadata": {},
   "outputs": [],
   "source": [
    "# Nos redirige a Youtube\n",
    "\n",
    "driver.find_element(By.XPATH, '//*[@id=\"movie_player\"]/div[28]/div[2]/div[2]/a').click()"
   ]
  },
  {
   "cell_type": "code",
   "execution_count": 102,
   "id": "0e2b9bd3",
   "metadata": {},
   "outputs": [],
   "source": [
    "driver.switch_to.window(driver.window_handles[1])"
   ]
  },
  {
   "cell_type": "code",
   "execution_count": 103,
   "id": "82f5a93a",
   "metadata": {},
   "outputs": [],
   "source": [
    "# Aceptamos cookies\n",
    "\n",
    "driver.find_element(By.XPATH, '//*[@id=\"content\"]/div[2]/div[6]/div[1]/ytd-button-renderer[2]/yt-button-shape').click()"
   ]
  },
  {
   "cell_type": "code",
   "execution_count": 105,
   "id": "6d99626d",
   "metadata": {},
   "outputs": [],
   "source": [
    "# Desplegamos para ver la fecha\n",
    "\n",
    "driver.find_element(By.XPATH, '//*[@id=\"expand\"]').click()"
   ]
  },
  {
   "cell_type": "code",
   "execution_count": 106,
   "id": "922a411e",
   "metadata": {},
   "outputs": [
    {
     "data": {
      "text/plain": [
       "'25 Nov 2020'"
      ]
     },
     "execution_count": 106,
     "metadata": {},
     "output_type": "execute_result"
    }
   ],
   "source": [
    "#Obtenemos la fecha\n",
    "\n",
    "fecha9 = driver.find_element(By.XPATH, '//*[@id=\"info\"]/span[3]').text\n",
    "fecha9"
   ]
  },
  {
   "cell_type": "code",
   "execution_count": 107,
   "id": "16462a39",
   "metadata": {},
   "outputs": [],
   "source": [
    "driver.quit()"
   ]
  },
  {
   "cell_type": "code",
   "execution_count": 145,
   "id": "1da86549",
   "metadata": {},
   "outputs": [],
   "source": [
    "Fechas = (fecha1 + ',' + fecha2 + ',' + fecha3 + ',' + fecha4 + ',' + fecha5 + ',' + fecha6 + ',' + fecha7 + ',' + fecha8 + ',' + fecha9)"
   ]
  },
  {
   "cell_type": "code",
   "execution_count": 146,
   "id": "56133425",
   "metadata": {},
   "outputs": [
    {
     "data": {
      "text/plain": [
       "'13 Jul 2023,21 Nov 2022,8 Aug 2022,26 Nov 2021,25 Nov 2021,13 Oct 2021,25 May 2021,14 Apr 2021,25 Nov 2020'"
      ]
     },
     "execution_count": 146,
     "metadata": {},
     "output_type": "execute_result"
    }
   ],
   "source": [
    "Fechas"
   ]
  },
  {
   "cell_type": "code",
   "execution_count": 158,
   "id": "ea5e1049",
   "metadata": {},
   "outputs": [
    {
     "data": {
      "text/plain": [
       "[datetime.date(2023, 7, 13),\n",
       " datetime.date(2022, 11, 21),\n",
       " datetime.date(2022, 8, 8),\n",
       " datetime.date(2021, 11, 26),\n",
       " datetime.date(2021, 11, 25),\n",
       " datetime.date(2021, 10, 13),\n",
       " datetime.date(2021, 5, 25),\n",
       " datetime.date(2021, 4, 14),\n",
       " datetime.date(2020, 11, 25)]"
      ]
     },
     "execution_count": 158,
     "metadata": {},
     "output_type": "execute_result"
    }
   ],
   "source": [
    "\n",
    "\n",
    "fechas = []\n",
    "\n",
    "meses = {'Jul': 7,\n",
    "  'Nov': 11,\n",
    "  'Aug': 8,\n",
    "  'Oct': 10,\n",
    "  'May': 5,\n",
    "  'Apr': 4}\n",
    "    \n",
    "    \n",
    "for i in Fechas:\n",
    "    string = i.split(' ')\n",
    "    dia = int(string[0])\n",
    "    nombre_mes = string[1]\n",
    "    año = int(string[2])\n",
    "    mes = meses[nombre_mes]\n",
    "    fecha = datetime(año, mes, dia).date()\n",
    "\n",
    "    fechas.append(fecha)\n",
    "\n",
    "fechas"
   ]
  },
  {
   "cell_type": "code",
   "execution_count": null,
   "id": "684e4876",
   "metadata": {},
   "outputs": [],
   "source": []
  },
  {
   "cell_type": "code",
   "execution_count": 144,
   "id": "44fb132b",
   "metadata": {},
   "outputs": [
    {
     "data": {
      "text/plain": [
       "[]"
      ]
     },
     "execution_count": 144,
     "metadata": {},
     "output_type": "execute_result"
    }
   ],
   "source": [
    "fechas"
   ]
  },
  {
   "cell_type": "code",
   "execution_count": null,
   "id": "47249085",
   "metadata": {},
   "outputs": [],
   "source": []
  },
  {
   "cell_type": "code",
   "execution_count": null,
   "id": "a446b085",
   "metadata": {},
   "outputs": [],
   "source": []
  },
  {
   "cell_type": "code",
   "execution_count": null,
   "id": "a401f6d2",
   "metadata": {},
   "outputs": [],
   "source": []
  }
 ],
 "metadata": {
  "kernelspec": {
   "display_name": "Python 3 (ipykernel)",
   "language": "python",
   "name": "python3"
  },
  "language_info": {
   "codemirror_mode": {
    "name": "ipython",
    "version": 3
   },
   "file_extension": ".py",
   "mimetype": "text/x-python",
   "name": "python",
   "nbconvert_exporter": "python",
   "pygments_lexer": "ipython3",
   "version": "3.11.4"
  }
 },
 "nbformat": 4,
 "nbformat_minor": 5
}
