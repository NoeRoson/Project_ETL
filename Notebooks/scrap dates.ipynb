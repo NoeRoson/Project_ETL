{
 "cells": [
  {
   "cell_type": "code",
   "execution_count": 86,
   "id": "0de64ef7",
   "metadata": {},
   "outputs": [],
   "source": [
    "import pandas as pd\n",
    "from selenium.webdriver.chrome.options import Options\n",
    "from webdriver_manager.chrome import ChromeDriverManager\n",
    "from selenium.webdriver.support.ui import WebDriverWait\n",
    "from selenium.common.exceptions import NoSuchElementException\n",
    "import time\n",
    "from datetime import datetime\n"
   ]
  },
  {
   "cell_type": "code",
   "execution_count": 87,
   "id": "6a62a103",
   "metadata": {},
   "outputs": [],
   "source": [
    "opciones=Options()\n",
    "\n",
    "opciones.add_experimental_option('excludeSwitches', ['enable-automation'])\n",
    "opciones.add_experimental_option('useAutomationExtension', False)\n",
    "opciones.headless=False    # si True, no aperece la ventana (headless=no visible)\n",
    "opciones.add_argument('--start-maximized')         # comienza maximizado\n",
    "opciones.add_argument('--incognito')\n"
   ]
  },
  {
   "cell_type": "code",
   "execution_count": 88,
   "id": "09cca141",
   "metadata": {},
   "outputs": [],
   "source": [
    "from selenium import webdriver\n",
    "PATH = \"/driver/chromedriver\"\n",
    "from selenium.webdriver.common.by import By\n",
    "driver = webdriver.Chrome(opciones)"
   ]
  },
  {
   "cell_type": "code",
   "execution_count": 89,
   "id": "aceb8ee8",
   "metadata": {},
   "outputs": [],
   "source": [
    "url = 'https://violenciagenero.igualdad.gob.es/sensibilizacionConcienciacion/campannas/violenciaGobierno/home.htm'\n",
    "\n",
    "driver.get(url)"
   ]
  },
  {
   "cell_type": "code",
   "execution_count": 90,
   "id": "464fbe6a",
   "metadata": {},
   "outputs": [
    {
     "data": {
      "text/plain": [
       "['https://violenciagenero.igualdad.gob.es/sensibilizacionConcienciacion/campannas/violenciaGobierno/ESTARVIVAESPA/vgeneroImg.htm',\n",
       " 'https://violenciagenero.igualdad.gob.es/sensibilizacionConcienciacion/campannas/violenciaGobierno/entoncesqui/vgenero.htm',\n",
       " 'https://violenciagenero.igualdad.gob.es/sensibilizacionConcienciacion/campannas/violenciaGobierno/vivas_libres/vgenero.htm',\n",
       " 'https://violenciagenero.igualdad.gob.es/sensibilizacionConcienciacion/campannas/violenciaGobierno/Juntas/vgenero.htm',\n",
       " 'https://violenciagenero.igualdad.gob.es/sensibilizacionConcienciacion/campannas/violenciaGobierno/BuenosTratos/vgenero.htm',\n",
       " 'https://violenciagenero.igualdad.gob.es/sensibilizacionConcienciacion/campannas/violenciaGobierno/CeroDieciseis/vgenero.htm',\n",
       " 'https://violenciagenero.igualdad.gob.es/sensibilizacionConcienciacion/campannas/violenciaGobierno/ElSexoEsunSi/home.htm',\n",
       " 'https://violenciagenero.igualdad.gob.es/sensibilizacionConcienciacion/campannas/violenciaGobierno/MachismoEsViolencia/home.htm',\n",
       " 'https://violenciagenero.igualdad.gob.es/sensibilizacionConcienciacion/campannas/violenciaGobierno/LaViolenciaQueNoVes/home.htm']"
      ]
     },
     "execution_count": 90,
     "metadata": {},
     "output_type": "execute_result"
    }
   ],
   "source": [
    "urls = driver.find_elements(By.XPATH, '//*[@id=\"contenido\"]/div[3]/div/ul/li/a')\n",
    "\n",
    "urlss = [i.get_attribute('href') for i in urls]\n",
    "\n",
    "urlss = urlss[:9]\n",
    "\n",
    "urlss"
   ]
  },
  {
   "cell_type": "code",
   "execution_count": 91,
   "id": "3384665f",
   "metadata": {},
   "outputs": [],
   "source": [
    "def extraer_fecha(url):\n",
    "    driver = webdriver.Chrome()\n",
    "    driver.get(url)\n",
    "    time.sleep(3)\n",
    "    driver.find_element(By.XPATH, '//*[@id=\"mensaje\"]/div[1]/a').click() # Clickamos sobre el mensaje de inicio para entrar en la web\n",
    "    time.sleep(3)\n",
    "    frame = driver.find_element(By.CSS_SELECTOR, 'iframe.player') # El siguiente paso es darle al play en la miniatura\n",
    "    driver.switch_to.frame(frame)    # Para ello hay que entrar con el driver en el propio frame del vídeo\n",
    "    time.sleep(3)\n",
    "    driver.find_element(By.XPATH, '//*[@id=\"movie_player\"]/div[4]/button').click() # Ahora sí le damos al play\n",
    "    driver.find_element(By.CSS_SELECTOR, '#movie_player > div.ytp-chrome-bottom > div.ytp-chrome-controls > div.ytp-right-controls > a').click() # Nos redirige a Youtube\n",
    "    driver.switch_to.window(driver.window_handles[1])  # Para cambiar de ventana, ya que hemos abierto una nueva\n",
    "    time.sleep(3)\n",
    "    driver.find_element(By.XPATH, '//*[@id=\"content\"]/div[2]/div[6]/div[1]/ytd-button-renderer[2]/yt-button-shape').click()  # Aceptamos cookies\n",
    "    time.sleep(2)\n",
    "    driver.find_element(By.CSS_SELECTOR, '#movie_player > div.ytp-chrome-bottom > div.ytp-chrome-controls > div.ytp-left-controls > button').click()   # Pausamos el vídeo\n",
    "    time.sleep(3)\n",
    "    driver.find_element(By.XPATH, '//*[@id=\"expand\"]').click()    # Desplegamos para ver la fecha\n",
    "    fecha = [driver.find_element(By.XPATH, '//*[@id=\"info\"]/span[3]').text]   # Extraemos la fecha\n",
    "    driver.quit()\n",
    "    return fecha"
   ]
  },
  {
   "cell_type": "code",
   "execution_count": 92,
   "id": "b2033caa",
   "metadata": {},
   "outputs": [
    {
     "data": {
      "text/plain": [
       "{'campaña1': 'https://violenciagenero.igualdad.gob.es/sensibilizacionConcienciacion/campannas/violenciaGobierno/ESTARVIVAESPA/vgeneroImg.htm',\n",
       " 'campaña2': 'https://violenciagenero.igualdad.gob.es/sensibilizacionConcienciacion/campannas/violenciaGobierno/entoncesqui/vgenero.htm',\n",
       " 'campaña3': 'https://violenciagenero.igualdad.gob.es/sensibilizacionConcienciacion/campannas/violenciaGobierno/vivas_libres/vgenero.htm',\n",
       " 'campaña4': 'https://violenciagenero.igualdad.gob.es/sensibilizacionConcienciacion/campannas/violenciaGobierno/Juntas/vgenero.htm',\n",
       " 'campaña5': 'https://violenciagenero.igualdad.gob.es/sensibilizacionConcienciacion/campannas/violenciaGobierno/BuenosTratos/vgenero.htm',\n",
       " 'campaña6': 'https://violenciagenero.igualdad.gob.es/sensibilizacionConcienciacion/campannas/violenciaGobierno/CeroDieciseis/vgenero.htm',\n",
       " 'campaña7': 'https://violenciagenero.igualdad.gob.es/sensibilizacionConcienciacion/campannas/violenciaGobierno/ElSexoEsunSi/home.htm',\n",
       " 'campaña8': 'https://violenciagenero.igualdad.gob.es/sensibilizacionConcienciacion/campannas/violenciaGobierno/MachismoEsViolencia/home.htm',\n",
       " 'campaña9': 'https://violenciagenero.igualdad.gob.es/sensibilizacionConcienciacion/campannas/violenciaGobierno/LaViolenciaQueNoVes/home.htm'}"
      ]
     },
     "execution_count": 92,
     "metadata": {},
     "output_type": "execute_result"
    }
   ],
   "source": [
    "campañas = {}\n",
    "\n",
    "for i in range(len(urlss)):\n",
    "    campañas[f\"campaña{i + 1}\"] = urlss[i]\n",
    "campañas"
   ]
  },
  {
   "cell_type": "code",
   "execution_count": 93,
   "id": "684e4876",
   "metadata": {},
   "outputs": [],
   "source": [
    "fechas = []\n",
    "for campaña, url in campañas.items():\n",
    "    fechas.append(extraer_fecha(url))"
   ]
  },
  {
   "cell_type": "code",
   "execution_count": 94,
   "id": "44fb132b",
   "metadata": {},
   "outputs": [
    {
     "data": {
      "text/plain": [
       "[['13 Jul 2023'],\n",
       " ['21 Nov 2022'],\n",
       " ['8 Aug 2022'],\n",
       " ['26 Nov 2021'],\n",
       " ['25 Nov 2021'],\n",
       " ['13 Oct 2021'],\n",
       " ['25 May 2021'],\n",
       " ['14 Apr 2021'],\n",
       " ['25 Nov 2020']]"
      ]
     },
     "execution_count": 94,
     "metadata": {},
     "output_type": "execute_result"
    }
   ],
   "source": [
    "fechas"
   ]
  },
  {
   "cell_type": "code",
   "execution_count": 95,
   "id": "47249085",
   "metadata": {},
   "outputs": [
    {
     "data": {
      "text/plain": [
       "[datetime.date(2023, 7, 13),\n",
       " datetime.date(2022, 11, 21),\n",
       " datetime.date(2022, 8, 8),\n",
       " datetime.date(2021, 11, 26),\n",
       " datetime.date(2021, 11, 25),\n",
       " datetime.date(2021, 10, 13),\n",
       " datetime.date(2021, 5, 25),\n",
       " datetime.date(2021, 4, 14),\n",
       " datetime.date(2020, 11, 25)]"
      ]
     },
     "execution_count": 95,
     "metadata": {},
     "output_type": "execute_result"
    }
   ],
   "source": [
    "fecha_campaña = [datetime.strptime(fecha[0], '%d %b %Y').date() for fecha in fechas]\n",
    "\n",
    "fecha_campaña\n",
    "\n",
    "    "
   ]
  },
  {
   "cell_type": "code",
   "execution_count": null,
   "id": "a446b085",
   "metadata": {},
   "outputs": [],
   "source": []
  },
  {
   "cell_type": "code",
   "execution_count": null,
   "id": "a401f6d2",
   "metadata": {},
   "outputs": [],
   "source": []
  }
 ],
 "metadata": {
  "kernelspec": {
   "display_name": "clase",
   "language": "python",
   "name": "clase"
  },
  "language_info": {
   "codemirror_mode": {
    "name": "ipython",
    "version": 3
   },
   "file_extension": ".py",
   "mimetype": "text/x-python",
   "name": "python",
   "nbconvert_exporter": "python",
   "pygments_lexer": "ipython3",
   "version": "3.10.13"
  }
 },
 "nbformat": 4,
 "nbformat_minor": 5
}
