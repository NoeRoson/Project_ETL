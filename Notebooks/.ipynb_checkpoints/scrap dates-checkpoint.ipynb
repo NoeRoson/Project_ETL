{
 "cells": [
  {
   "cell_type": "code",
   "execution_count": 1,
   "id": "0de64ef7",
   "metadata": {},
   "outputs": [],
   "source": [
    "import pandas as pd\n",
    "from selenium.webdriver.chrome.options import Options\n",
    "from webdriver_manager.chrome import ChromeDriverManager\n",
    "from selenium.webdriver.support.ui import WebDriverWait\n",
    "import time\n",
    "from datetime import datetime"
   ]
  },
  {
   "cell_type": "code",
   "execution_count": 2,
   "id": "6a62a103",
   "metadata": {},
   "outputs": [],
   "source": [
    "opciones=Options()\n",
    "\n",
    "opciones.add_experimental_option('excludeSwitches', ['enable-automation'])\n",
    "opciones.add_experimental_option('useAutomationExtension', False)\n",
    "opciones.headless=False    # si True, no aperece la ventana (headless=no visible)\n",
    "opciones.add_argument('--start-maximized')         # comienza maximizado\n",
    "#opciones.add_argument('user-data-dir=selenium')    # mantiene las cookies\n",
    "#opciones.add_extension('driver_folder/adblock.crx')       # adblocker\n",
    "opciones.add_argument('--incognito')\n"
   ]
  },
  {
   "cell_type": "code",
   "execution_count": 3,
   "id": "09cca141",
   "metadata": {},
   "outputs": [],
   "source": [
    "from selenium import webdriver\n",
    "PATH = \"/driver/chromedriver\"\n",
    "from selenium.webdriver.common.by import By\n",
    "driver = webdriver.Chrome(opciones)"
   ]
  },
  {
   "cell_type": "code",
   "execution_count": 4,
   "id": "aceb8ee8",
   "metadata": {},
   "outputs": [],
   "source": [
    "url = 'https://violenciagenero.igualdad.gob.es/sensibilizacionConcienciacion/campannas/violenciaGobierno/home.htm'"
   ]
  },
  {
   "cell_type": "code",
   "execution_count": 5,
   "id": "411baa93",
   "metadata": {},
   "outputs": [],
   "source": [
    "driver.get(url)"
   ]
  },
  {
   "cell_type": "code",
   "execution_count": 6,
   "id": "464fbe6a",
   "metadata": {},
   "outputs": [
    {
     "data": {
      "text/plain": [
       "['https://violenciagenero.igualdad.gob.es/sensibilizacionConcienciacion/campannas/violenciaGobierno/ESTARVIVAESPA/vgeneroImg.htm',\n",
       " 'https://violenciagenero.igualdad.gob.es/sensibilizacionConcienciacion/campannas/violenciaGobierno/entoncesqui/vgenero.htm',\n",
       " 'https://violenciagenero.igualdad.gob.es/sensibilizacionConcienciacion/campannas/violenciaGobierno/vivas_libres/vgenero.htm',\n",
       " 'https://violenciagenero.igualdad.gob.es/sensibilizacionConcienciacion/campannas/violenciaGobierno/Juntas/vgenero.htm',\n",
       " 'https://violenciagenero.igualdad.gob.es/sensibilizacionConcienciacion/campannas/violenciaGobierno/BuenosTratos/vgenero.htm',\n",
       " 'https://violenciagenero.igualdad.gob.es/sensibilizacionConcienciacion/campannas/violenciaGobierno/CeroDieciseis/vgenero.htm',\n",
       " 'https://violenciagenero.igualdad.gob.es/sensibilizacionConcienciacion/campannas/violenciaGobierno/ElSexoEsunSi/home.htm',\n",
       " 'https://violenciagenero.igualdad.gob.es/sensibilizacionConcienciacion/campannas/violenciaGobierno/MachismoEsViolencia/home.htm',\n",
       " 'https://violenciagenero.igualdad.gob.es/sensibilizacionConcienciacion/campannas/violenciaGobierno/LaViolenciaQueNoVes/home.htm']"
      ]
     },
     "execution_count": 6,
     "metadata": {},
     "output_type": "execute_result"
    }
   ],
   "source": [
    "urls = driver.find_elements(By.XPATH, '//*[@id=\"contenido\"]/div[3]/div/ul/li/a')\n",
    "\n",
    "urlss = [i.get_attribute('href') for i in urls]\n",
    "\n",
    "urlss = urlss[:9]\n",
    "\n",
    "urlss"
   ]
  },
  {
   "cell_type": "code",
   "execution_count": 11,
   "id": "3384665f",
   "metadata": {},
   "outputs": [],
   "source": [
    "def extraer_fecha(url):\n",
    "    driver.get(url)\n",
    "    time.sleep(5)\n",
    "    driver.find_element(By.XPATH, '//*[@id=\"mensaje\"]/div[1]/a').click()\n",
    "    time.sleep(5)\n",
    "    frame = driver.find_element(By.CSS_SELECTOR, 'iframe.player')\n",
    "    driver.switch_to.frame(frame)\n",
    "    time.sleep(5)\n",
    "    driver.find_element(By.XPATH, '//*[@id=\"movie_player\"]/div[4]/button').click()\n",
    "    time.sleep(5)\n",
    "    driver.find_element(By.XPATH, '//*[@id=\"movie_player\"]/div[28]/div[2]/div[2]/a').click()\n",
    "    driver.switch_to.window(driver.window_handles[1])\n",
    "    time.sleep(5)\n",
    "    driver.find_element(By.XPATH, '//*[@id=\"content\"]/div[2]/div[6]/div[1]/ytd-button-renderer[2]/yt-button-shape').click()\n",
    "    time.sleep(5)\n",
    "    driver.find_element(By.XPATH, '//*[@id=\"movie_player\"]/div[29]/div[2]/div[1]/button').click()\n",
    "    time.sleep(5)\n",
    "    driver.find_element(By.XPATH, '//*[@id=\"expand\"]').click()\n",
    "    fecha = [driver.find_element(By.XPATH, '//*[@id=\"info\"]/span[3]').text]\n",
    "    driver.quit()\n",
    "    return fecha"
   ]
  },
  {
   "cell_type": "code",
   "execution_count": null,
   "id": "b2033caa",
   "metadata": {},
   "outputs": [],
   "source": [
    "def extraer_fecha(url):\n",
    "    driver.get(url)\n",
    "    time.sleep(5)\n",
    "    frame = driver.find_element(By.CSS_SELECTOR, 'iframe.player')\n",
    "    driver.switch_to.frame(frame)\n",
    "    time.sleep(5)\n",
    "    driver.find_element(By.XPATH, '//*[@id=\"movie_player\"]/div[4]/button').click()\n",
    "    time.sleep(5)\n",
    "    driver.find_element(By.XPATH, '//*[@id=\"movie_player\"]/div[28]/div[2]/div[2]/a').click()\n",
    "    driver.switch_to.window(driver.window_handles[1])\n",
    "    time.sleep(5)\n",
    "    driver.find_element(By.XPATH, '//*[@id=\"content\"]/div[2]/div[6]/div[1]/ytd-button-renderer[2]/yt-button-shape').click()\n",
    "    time.sleep(5)\n",
    "    driver.find_element(By.XPATH, '//*[@id=\"movie_player\"]/div[29]/div[2]/div[1]/button').click()\n",
    "    time.sleep(5)\n",
    "    driver.find_element(By.XPATH, '//*[@id=\"expand\"]').click()\n",
    "    fecha = [driver.find_element(By.XPATH, '//*[@id=\"info\"]/span[3]').text]\n",
    "    driver.quit()\n",
    "    return fecha"
   ]
  },
  {
   "cell_type": "code",
   "execution_count": 12,
   "id": "8f042466",
   "metadata": {},
   "outputs": [
    {
     "ename": "NoSuchElementException",
     "evalue": "Message: no such element: Unable to locate element: {\"method\":\"xpath\",\"selector\":\"//*[@id=\"mensaje\"]/div[1]/a\"}\n  (Session info: chrome=119.0.6045.105); For documentation on this error, please visit: https://www.selenium.dev/documentation/webdriver/troubleshooting/errors#no-such-element-exception\nStacktrace:\n0   chromedriver                        0x0000000104c56004 chromedriver + 4169732\n1   chromedriver                        0x0000000104c4dff8 chromedriver + 4136952\n2   chromedriver                        0x00000001048a3500 chromedriver + 292096\n3   chromedriver                        0x00000001048e87a0 chromedriver + 575392\n4   chromedriver                        0x0000000104923818 chromedriver + 817176\n5   chromedriver                        0x00000001048dc5e8 chromedriver + 525800\n6   chromedriver                        0x00000001048dd4b8 chromedriver + 529592\n7   chromedriver                        0x0000000104c1c334 chromedriver + 3932980\n8   chromedriver                        0x0000000104c20970 chromedriver + 3950960\n9   chromedriver                        0x0000000104c04774 chromedriver + 3835764\n10  chromedriver                        0x0000000104c21478 chromedriver + 3953784\n11  chromedriver                        0x0000000104bf6ab4 chromedriver + 3779252\n12  chromedriver                        0x0000000104c3d914 chromedriver + 4069652\n13  chromedriver                        0x0000000104c3da90 chromedriver + 4070032\n14  chromedriver                        0x0000000104c4dc70 chromedriver + 4136048\n15  libsystem_pthread.dylib             0x0000000199a3206c _pthread_start + 148\n16  libsystem_pthread.dylib             0x0000000199a2ce2c thread_start + 8\n",
     "output_type": "error",
     "traceback": [
      "\u001b[0;31m---------------------------------------------------------------------------\u001b[0m",
      "\u001b[0;31mNoSuchElementException\u001b[0m                    Traceback (most recent call last)",
      "Cell \u001b[0;32mIn[12], line 3\u001b[0m\n\u001b[1;32m      1\u001b[0m url \u001b[38;5;241m=\u001b[39m \u001b[38;5;124m'\u001b[39m\u001b[38;5;124mhttps://violenciagenero.igualdad.gob.es/sensibilizacionConcienciacion/campannas/violenciaGobierno/LaViolenciaQueNoVes/home.htm\u001b[39m\u001b[38;5;124m'\u001b[39m\n\u001b[0;32m----> 3\u001b[0m extraer_fecha(url)\n",
      "Cell \u001b[0;32mIn[11], line 4\u001b[0m, in \u001b[0;36mextraer_fecha\u001b[0;34m(url)\u001b[0m\n\u001b[1;32m      2\u001b[0m driver\u001b[38;5;241m.\u001b[39mget(url)\n\u001b[1;32m      3\u001b[0m time\u001b[38;5;241m.\u001b[39msleep(\u001b[38;5;241m5\u001b[39m)\n\u001b[0;32m----> 4\u001b[0m driver\u001b[38;5;241m.\u001b[39mfind_element(By\u001b[38;5;241m.\u001b[39mXPATH, \u001b[38;5;124m'\u001b[39m\u001b[38;5;124m//*[@id=\u001b[39m\u001b[38;5;124m\"\u001b[39m\u001b[38;5;124mmensaje\u001b[39m\u001b[38;5;124m\"\u001b[39m\u001b[38;5;124m]/div[1]/a\u001b[39m\u001b[38;5;124m'\u001b[39m)\u001b[38;5;241m.\u001b[39mclick()\n\u001b[1;32m      5\u001b[0m time\u001b[38;5;241m.\u001b[39msleep(\u001b[38;5;241m5\u001b[39m)\n\u001b[1;32m      6\u001b[0m frame \u001b[38;5;241m=\u001b[39m driver\u001b[38;5;241m.\u001b[39mfind_element(By\u001b[38;5;241m.\u001b[39mCSS_SELECTOR, \u001b[38;5;124m'\u001b[39m\u001b[38;5;124miframe.player\u001b[39m\u001b[38;5;124m'\u001b[39m)\n",
      "File \u001b[0;32m~/anaconda3/lib/python3.11/site-packages/selenium/webdriver/remote/webdriver.py:738\u001b[0m, in \u001b[0;36mWebDriver.find_element\u001b[0;34m(self, by, value)\u001b[0m\n\u001b[1;32m    735\u001b[0m     by \u001b[38;5;241m=\u001b[39m By\u001b[38;5;241m.\u001b[39mCSS_SELECTOR\n\u001b[1;32m    736\u001b[0m     value \u001b[38;5;241m=\u001b[39m \u001b[38;5;124mf\u001b[39m\u001b[38;5;124m'\u001b[39m\u001b[38;5;124m[name=\u001b[39m\u001b[38;5;124m\"\u001b[39m\u001b[38;5;132;01m{\u001b[39;00mvalue\u001b[38;5;132;01m}\u001b[39;00m\u001b[38;5;124m\"\u001b[39m\u001b[38;5;124m]\u001b[39m\u001b[38;5;124m'\u001b[39m\n\u001b[0;32m--> 738\u001b[0m \u001b[38;5;28;01mreturn\u001b[39;00m \u001b[38;5;28mself\u001b[39m\u001b[38;5;241m.\u001b[39mexecute(Command\u001b[38;5;241m.\u001b[39mFIND_ELEMENT, {\u001b[38;5;124m\"\u001b[39m\u001b[38;5;124musing\u001b[39m\u001b[38;5;124m\"\u001b[39m: by, \u001b[38;5;124m\"\u001b[39m\u001b[38;5;124mvalue\u001b[39m\u001b[38;5;124m\"\u001b[39m: value})[\u001b[38;5;124m\"\u001b[39m\u001b[38;5;124mvalue\u001b[39m\u001b[38;5;124m\"\u001b[39m]\n",
      "File \u001b[0;32m~/anaconda3/lib/python3.11/site-packages/selenium/webdriver/remote/webdriver.py:344\u001b[0m, in \u001b[0;36mWebDriver.execute\u001b[0;34m(self, driver_command, params)\u001b[0m\n\u001b[1;32m    342\u001b[0m response \u001b[38;5;241m=\u001b[39m \u001b[38;5;28mself\u001b[39m\u001b[38;5;241m.\u001b[39mcommand_executor\u001b[38;5;241m.\u001b[39mexecute(driver_command, params)\n\u001b[1;32m    343\u001b[0m \u001b[38;5;28;01mif\u001b[39;00m response:\n\u001b[0;32m--> 344\u001b[0m     \u001b[38;5;28mself\u001b[39m\u001b[38;5;241m.\u001b[39merror_handler\u001b[38;5;241m.\u001b[39mcheck_response(response)\n\u001b[1;32m    345\u001b[0m     response[\u001b[38;5;124m\"\u001b[39m\u001b[38;5;124mvalue\u001b[39m\u001b[38;5;124m\"\u001b[39m] \u001b[38;5;241m=\u001b[39m \u001b[38;5;28mself\u001b[39m\u001b[38;5;241m.\u001b[39m_unwrap_value(response\u001b[38;5;241m.\u001b[39mget(\u001b[38;5;124m\"\u001b[39m\u001b[38;5;124mvalue\u001b[39m\u001b[38;5;124m\"\u001b[39m, \u001b[38;5;28;01mNone\u001b[39;00m))\n\u001b[1;32m    346\u001b[0m     \u001b[38;5;28;01mreturn\u001b[39;00m response\n",
      "File \u001b[0;32m~/anaconda3/lib/python3.11/site-packages/selenium/webdriver/remote/errorhandler.py:229\u001b[0m, in \u001b[0;36mErrorHandler.check_response\u001b[0;34m(self, response)\u001b[0m\n\u001b[1;32m    227\u001b[0m         alert_text \u001b[38;5;241m=\u001b[39m value[\u001b[38;5;124m\"\u001b[39m\u001b[38;5;124malert\u001b[39m\u001b[38;5;124m\"\u001b[39m]\u001b[38;5;241m.\u001b[39mget(\u001b[38;5;124m\"\u001b[39m\u001b[38;5;124mtext\u001b[39m\u001b[38;5;124m\"\u001b[39m)\n\u001b[1;32m    228\u001b[0m     \u001b[38;5;28;01mraise\u001b[39;00m exception_class(message, screen, stacktrace, alert_text)  \u001b[38;5;66;03m# type: ignore[call-arg]  # mypy is not smart enough here\u001b[39;00m\n\u001b[0;32m--> 229\u001b[0m \u001b[38;5;28;01mraise\u001b[39;00m exception_class(message, screen, stacktrace)\n",
      "\u001b[0;31mNoSuchElementException\u001b[0m: Message: no such element: Unable to locate element: {\"method\":\"xpath\",\"selector\":\"//*[@id=\"mensaje\"]/div[1]/a\"}\n  (Session info: chrome=119.0.6045.105); For documentation on this error, please visit: https://www.selenium.dev/documentation/webdriver/troubleshooting/errors#no-such-element-exception\nStacktrace:\n0   chromedriver                        0x0000000104c56004 chromedriver + 4169732\n1   chromedriver                        0x0000000104c4dff8 chromedriver + 4136952\n2   chromedriver                        0x00000001048a3500 chromedriver + 292096\n3   chromedriver                        0x00000001048e87a0 chromedriver + 575392\n4   chromedriver                        0x0000000104923818 chromedriver + 817176\n5   chromedriver                        0x00000001048dc5e8 chromedriver + 525800\n6   chromedriver                        0x00000001048dd4b8 chromedriver + 529592\n7   chromedriver                        0x0000000104c1c334 chromedriver + 3932980\n8   chromedriver                        0x0000000104c20970 chromedriver + 3950960\n9   chromedriver                        0x0000000104c04774 chromedriver + 3835764\n10  chromedriver                        0x0000000104c21478 chromedriver + 3953784\n11  chromedriver                        0x0000000104bf6ab4 chromedriver + 3779252\n12  chromedriver                        0x0000000104c3d914 chromedriver + 4069652\n13  chromedriver                        0x0000000104c3da90 chromedriver + 4070032\n14  chromedriver                        0x0000000104c4dc70 chromedriver + 4136048\n15  libsystem_pthread.dylib             0x0000000199a3206c _pthread_start + 148\n16  libsystem_pthread.dylib             0x0000000199a2ce2c thread_start + 8\n"
     ]
    }
   ],
   "source": [
    "url = 'https://violenciagenero.igualdad.gob.es/sensibilizacionConcienciacion/campannas/violenciaGobierno/LaViolenciaQueNoVes/home.htm'\n",
    "\n",
    "extraer_fecha(url)"
   ]
  },
  {
   "cell_type": "code",
   "execution_count": null,
   "id": "9767e96e",
   "metadata": {},
   "outputs": [],
   "source": [
    "fechas= []\n",
    "\n",
    "for i in urlss:\n",
    "    fechas.append(extraer_fecha(i))"
   ]
  },
  {
   "cell_type": "code",
   "execution_count": null,
   "id": "17064314",
   "metadata": {},
   "outputs": [],
   "source": [
    "# Clickamos sobre el mensaje de inicio para entrar en la web\n",
    "\n",
    "\n",
    "driver.find_element(By.XPATH, '//*[@id=\"mensaje\"]/div[1]/a').click()"
   ]
  },
  {
   "cell_type": "code",
   "execution_count": null,
   "id": "043500a4",
   "metadata": {},
   "outputs": [],
   "source": [
    "# Campaña 1 Ser libres\n",
    "\n",
    "driver.find_element(By.XPATH, '//*[@id=\"contenido\"]/div[3]/div/ul/li[1]/a').click()"
   ]
  },
  {
   "cell_type": "code",
   "execution_count": null,
   "id": "356e8557",
   "metadata": {},
   "outputs": [],
   "source": [
    "# Le damos al play en la miniatura, para ello hay que entrar con el driver en el propio frame del vídeo\n",
    "\n",
    "frame = driver.find_element(By.CSS_SELECTOR, 'iframe.player')\n",
    "\n",
    "driver.switch_to.frame(frame)"
   ]
  },
  {
   "cell_type": "code",
   "execution_count": null,
   "id": "a9a1cbe0",
   "metadata": {},
   "outputs": [],
   "source": [
    "# Ahora sí, le damos al play\n",
    "\n",
    "driver.find_element(By.XPATH, '//*[@id=\"movie_player\"]/div[4]/button').click()\n",
    "\n",
    "time.sleep(2)"
   ]
  },
  {
   "cell_type": "code",
   "execution_count": null,
   "id": "c62354b4",
   "metadata": {},
   "outputs": [],
   "source": [
    "# Nos redirige a Youtube\n",
    "\n",
    "driver.find_element(By.XPATH, '//*[@id=\"movie_player\"]/div[28]/div[2]/div[2]/a').click()"
   ]
  },
  {
   "cell_type": "code",
   "execution_count": null,
   "id": "0931ed59",
   "metadata": {},
   "outputs": [],
   "source": [
    "driver.switch_to.window(driver.window_handles[1])"
   ]
  },
  {
   "cell_type": "code",
   "execution_count": null,
   "id": "18b7d371",
   "metadata": {},
   "outputs": [],
   "source": [
    "# Aceptamos cookies\n",
    "\n",
    "driver.find_element(By.XPATH, '//*[@id=\"content\"]/div[2]/div[6]/div[1]/ytd-button-renderer[2]/yt-button-shape').click()"
   ]
  },
  {
   "cell_type": "code",
   "execution_count": null,
   "id": "3ba13acb",
   "metadata": {},
   "outputs": [],
   "source": [
    "# Pausamos el vídeo\n",
    "\n",
    "driver.find_element(By.XPATH, '//*[@id=\"movie_player\"]/div[29]/div[2]/div[1]/button').click()"
   ]
  },
  {
   "cell_type": "code",
   "execution_count": null,
   "id": "a213eae8",
   "metadata": {},
   "outputs": [],
   "source": [
    "# Desplegamos para ver la fecha\n",
    "\n",
    "driver.find_element(By.XPATH, '//*[@id=\"expand\"]').click()"
   ]
  },
  {
   "cell_type": "code",
   "execution_count": null,
   "id": "b28f8f3c",
   "metadata": {},
   "outputs": [],
   "source": [
    "#Obtenemos la fecha\n",
    "\n",
    "fecha1 = driver.find_element(By.XPATH, '//*[@id=\"info\"]/span[3]').text\n",
    "fecha1"
   ]
  },
  {
   "cell_type": "code",
   "execution_count": null,
   "id": "947db350",
   "metadata": {},
   "outputs": [],
   "source": [
    "driver.quit()"
   ]
  },
  {
   "cell_type": "code",
   "execution_count": null,
   "id": "3cef769f",
   "metadata": {},
   "outputs": [],
   "source": [
    "driver = webdriver.Chrome(opciones)\n",
    "driver.get(url)"
   ]
  },
  {
   "cell_type": "code",
   "execution_count": null,
   "id": "f7318163",
   "metadata": {},
   "outputs": [],
   "source": [
    "# Clickamos sobre el mensaje de inicio para entrar en la web\n",
    "\n",
    "\n",
    "driver.find_element(By.XPATH, '//*[@id=\"mensaje\"]/div[1]/a').click()"
   ]
  },
  {
   "cell_type": "code",
   "execution_count": null,
   "id": "80c63be4",
   "metadata": {},
   "outputs": [],
   "source": [
    "# Campaña 2 ¿Entonces quién?, clickamos en ella:\n",
    "\n",
    "\n",
    "driver.find_element(By.XPATH, '//*[@id=\"contenido\"]/div[3]/div/ul/li[2]/a').click()"
   ]
  },
  {
   "cell_type": "code",
   "execution_count": null,
   "id": "ffac536c",
   "metadata": {},
   "outputs": [],
   "source": [
    "# Le damos al play en la miniatura, para ello hay que entrar con el driver en el propio frame del vídeo\n",
    "\n",
    "frame = driver.find_element(By.CSS_SELECTOR, 'iframe.player')\n",
    "\n",
    "driver.switch_to.frame(frame)"
   ]
  },
  {
   "cell_type": "code",
   "execution_count": null,
   "id": "63fec9a4",
   "metadata": {},
   "outputs": [],
   "source": [
    "# Ahora sí, le damos al play\n",
    "\n",
    "driver.find_element(By.XPATH, '//*[@id=\"movie_player\"]/div[4]/button').click()"
   ]
  },
  {
   "cell_type": "code",
   "execution_count": null,
   "id": "6afbd1b5",
   "metadata": {},
   "outputs": [],
   "source": [
    "# Nos redirige a Youtube\n",
    "\n",
    "driver.find_element(By.XPATH, '//*[@id=\"movie_player\"]/div[28]/div[2]/div[2]/a').click()\n"
   ]
  },
  {
   "cell_type": "code",
   "execution_count": null,
   "id": "fc0465a0",
   "metadata": {},
   "outputs": [],
   "source": [
    "driver.switch_to.window(driver.window_handles[1])"
   ]
  },
  {
   "cell_type": "code",
   "execution_count": null,
   "id": "a01cb1b3",
   "metadata": {},
   "outputs": [],
   "source": [
    "# Aceptamos cookies\n",
    "\n",
    "driver.find_element(By.XPATH, '//*[@id=\"content\"]/div[2]/div[6]/div[1]/ytd-button-renderer[2]/yt-button-shape').click()"
   ]
  },
  {
   "cell_type": "code",
   "execution_count": null,
   "id": "39277c86",
   "metadata": {},
   "outputs": [],
   "source": [
    "# Desplegamos para ver la fecha\n",
    "\n",
    "driver.find_element(By.XPATH, '//*[@id=\"expand\"]').click()"
   ]
  },
  {
   "cell_type": "code",
   "execution_count": null,
   "id": "2eb3c224",
   "metadata": {},
   "outputs": [],
   "source": [
    "#Obtenemos la fecha\n",
    "\n",
    "fecha2 = driver.find_element(By.XPATH, '//*[@id=\"info\"]/span[3]').text\n",
    "fecha2"
   ]
  },
  {
   "cell_type": "code",
   "execution_count": null,
   "id": "0b2d584d",
   "metadata": {},
   "outputs": [],
   "source": [
    "driver.quit()"
   ]
  },
  {
   "cell_type": "code",
   "execution_count": null,
   "id": "02cda644",
   "metadata": {},
   "outputs": [],
   "source": [
    "driver = webdriver.Chrome(opciones)\n",
    "driver.get(url)"
   ]
  },
  {
   "cell_type": "code",
   "execution_count": null,
   "id": "e0ed29c6",
   "metadata": {},
   "outputs": [],
   "source": [
    "# Clickamos sobre el mensaje de inicio para entrar en la web\n",
    "\n",
    "\n",
    "driver.find_element(By.XPATH, '//*[@id=\"mensaje\"]/div[1]/a').click()"
   ]
  },
  {
   "cell_type": "code",
   "execution_count": null,
   "id": "f141090f",
   "metadata": {},
   "outputs": [],
   "source": [
    "# Campaña 3 Querernos vivas, clickamos en ella:\n",
    "\n",
    "\n",
    "driver.find_element(By.XPATH, '//*[@id=\"contenido\"]/div[3]/div/ul/li[3]/a').click()"
   ]
  },
  {
   "cell_type": "code",
   "execution_count": null,
   "id": "2dc18fe1",
   "metadata": {},
   "outputs": [],
   "source": [
    "# Le damos al play en la miniatura, para ello hay que entrar con el driver en el propio frame del vídeo\n",
    "\n",
    "frame = driver.find_element(By.CSS_SELECTOR, 'iframe.player')\n",
    "\n",
    "driver.switch_to.frame(frame)"
   ]
  },
  {
   "cell_type": "code",
   "execution_count": null,
   "id": "8c79721f",
   "metadata": {},
   "outputs": [],
   "source": [
    "# Ahora sí, le damos al play\n",
    "\n",
    "driver.find_element(By.XPATH, '//*[@id=\"movie_player\"]/div[4]/button').click()"
   ]
  },
  {
   "cell_type": "code",
   "execution_count": null,
   "id": "19a650da",
   "metadata": {},
   "outputs": [],
   "source": [
    "# Nos redirige a Youtube\n",
    "\n",
    "driver.find_element(By.XPATH, '//*[@id=\"movie_player\"]/div[27]/div[2]/div[2]/a').click()"
   ]
  },
  {
   "cell_type": "code",
   "execution_count": null,
   "id": "9212ed36",
   "metadata": {},
   "outputs": [],
   "source": [
    "driver.switch_to.window(driver.window_handles[1])"
   ]
  },
  {
   "cell_type": "code",
   "execution_count": null,
   "id": "7de4294e",
   "metadata": {},
   "outputs": [],
   "source": [
    "# Aceptamos cookies\n",
    "\n",
    "driver.find_element(By.XPATH, '//*[@id=\"content\"]/div[2]/div[6]/div[1]/ytd-button-renderer[2]/yt-button-shape').click()"
   ]
  },
  {
   "cell_type": "code",
   "execution_count": null,
   "id": "0c3e8831",
   "metadata": {},
   "outputs": [],
   "source": [
    "# Desplegamos para ver la fecha\n",
    "\n",
    "driver.find_element(By.XPATH, '//*[@id=\"expand\"]').click()"
   ]
  },
  {
   "cell_type": "code",
   "execution_count": null,
   "id": "3634bf39",
   "metadata": {},
   "outputs": [],
   "source": [
    "#Obtenemos la fecha\n",
    "\n",
    "fecha3 = driver.find_element(By.XPATH, '//*[@id=\"info\"]/span[3]').text\n",
    "fecha3"
   ]
  },
  {
   "cell_type": "code",
   "execution_count": null,
   "id": "76410ce0",
   "metadata": {},
   "outputs": [],
   "source": [
    "driver.quit()"
   ]
  },
  {
   "cell_type": "code",
   "execution_count": null,
   "id": "1a31a53a",
   "metadata": {},
   "outputs": [],
   "source": [
    "driver = webdriver.Chrome(opciones)\n",
    "driver.get(url)"
   ]
  },
  {
   "cell_type": "code",
   "execution_count": null,
   "id": "5471af50",
   "metadata": {},
   "outputs": [],
   "source": [
    "# Clickamos sobre el mensaje de inicio para entrar en la web\n",
    "\n",
    "driver.find_element(By.XPATH, '//*[@id=\"mensaje\"]/div[1]/a').click()"
   ]
  },
  {
   "cell_type": "code",
   "execution_count": null,
   "id": "98e361b9",
   "metadata": {},
   "outputs": [],
   "source": [
    "# Campaña 4 Juntas, clickamos en ella:\n",
    "\n",
    "driver.find_element(By.XPATH, '//*[@id=\"contenido\"]/div[3]/div/ul/li[4]/a').click()"
   ]
  },
  {
   "cell_type": "code",
   "execution_count": null,
   "id": "56381b11",
   "metadata": {},
   "outputs": [],
   "source": [
    "# Le damos al play en la miniatura, para ello hay que entrar con el driver en el propio frame del vídeo\n",
    "\n",
    "frame = driver.find_element(By.CSS_SELECTOR, 'iframe.player')\n",
    "\n",
    "driver.switch_to.frame(frame)"
   ]
  },
  {
   "cell_type": "code",
   "execution_count": null,
   "id": "7de838c8",
   "metadata": {},
   "outputs": [],
   "source": [
    "# Ahora sí, le damos al play\n",
    "\n",
    "driver.find_element(By.XPATH, '//*[@id=\"movie_player\"]/div[4]/button').click()"
   ]
  },
  {
   "cell_type": "code",
   "execution_count": null,
   "id": "92c6fed2",
   "metadata": {},
   "outputs": [],
   "source": [
    "# Nos redirige a Youtube\n",
    "\n",
    "driver.find_element(By.XPATH, '//*[@id=\"movie_player\"]/div[28]/div[2]/div[2]/a').click()"
   ]
  },
  {
   "cell_type": "code",
   "execution_count": null,
   "id": "96e342f0",
   "metadata": {},
   "outputs": [],
   "source": [
    "driver.switch_to.window(driver.window_handles[1])"
   ]
  },
  {
   "cell_type": "code",
   "execution_count": null,
   "id": "f46196a5",
   "metadata": {},
   "outputs": [],
   "source": [
    "# Aceptamos cookies\n",
    "\n",
    "driver.find_element(By.XPATH, '//*[@id=\"content\"]/div[2]/div[6]/div[1]/ytd-button-renderer[2]/yt-button-shape').click()"
   ]
  },
  {
   "cell_type": "code",
   "execution_count": null,
   "id": "a7a5f905",
   "metadata": {},
   "outputs": [],
   "source": [
    "# Desplegamos para ver la fecha\n",
    "\n",
    "driver.find_element(By.XPATH, '//*[@id=\"expand\"]').click()"
   ]
  },
  {
   "cell_type": "code",
   "execution_count": null,
   "id": "ea6bec1f",
   "metadata": {},
   "outputs": [],
   "source": [
    "#Obtenemos la fecha\n",
    "\n",
    "fecha4 = driver.find_element(By.XPATH, '//*[@id=\"info\"]/span[3]').text\n",
    "fecha4"
   ]
  },
  {
   "cell_type": "code",
   "execution_count": null,
   "id": "07c67d7b",
   "metadata": {},
   "outputs": [],
   "source": [
    "driver.quit()"
   ]
  },
  {
   "cell_type": "code",
   "execution_count": null,
   "id": "fcea39ff",
   "metadata": {},
   "outputs": [],
   "source": [
    "driver = webdriver.Chrome(opciones)\n",
    "driver.get(url)"
   ]
  },
  {
   "cell_type": "code",
   "execution_count": null,
   "id": "def5f637",
   "metadata": {},
   "outputs": [],
   "source": [
    "# Clickamos sobre el mensaje de inicio para entrar en la web\n",
    "\n",
    "x_path = '//*[@id=\"mensaje\"]/div[1]/a'\n",
    "\n",
    "driver.find_element(By.XPATH, x_path).click()"
   ]
  },
  {
   "cell_type": "code",
   "execution_count": null,
   "id": "f9d672f4",
   "metadata": {},
   "outputs": [],
   "source": [
    "# Campaña 5 Practica buenos tratos, clickamos en ella:\n",
    "\n",
    "driver.find_element(By.XPATH, '//*[@id=\"contenido\"]/div[3]/div/ul/li[5]/a').click()"
   ]
  },
  {
   "cell_type": "code",
   "execution_count": null,
   "id": "1801877b",
   "metadata": {},
   "outputs": [],
   "source": [
    "# Le damos al play en la miniatura, para ello hay que entrar con el driver en el propio frame del vídeo\n",
    "\n",
    "frame = driver.find_element(By.CSS_SELECTOR, 'iframe.player')\n",
    "\n",
    "driver.switch_to.frame(frame)"
   ]
  },
  {
   "cell_type": "code",
   "execution_count": null,
   "id": "02aaea66",
   "metadata": {},
   "outputs": [],
   "source": [
    "# Ahora sí, le damos al play\n",
    "\n",
    "driver.find_element(By.XPATH, '//*[@id=\"movie_player\"]/div[4]/button').click()"
   ]
  },
  {
   "cell_type": "code",
   "execution_count": null,
   "id": "0fa23a50",
   "metadata": {},
   "outputs": [],
   "source": [
    "# Nos redirige a Youtube\n",
    "\n",
    "driver.find_element(By.XPATH, '//*[@id=\"movie_player\"]/div[28]/div[2]/div[2]/a').click()"
   ]
  },
  {
   "cell_type": "code",
   "execution_count": null,
   "id": "b8c45671",
   "metadata": {},
   "outputs": [],
   "source": [
    "driver.switch_to.window(driver.window_handles[1])"
   ]
  },
  {
   "cell_type": "code",
   "execution_count": null,
   "id": "9938f8bd",
   "metadata": {},
   "outputs": [],
   "source": [
    "# Aceptamos cookies\n",
    "\n",
    "driver.find_element(By.XPATH, '//*[@id=\"content\"]/div[2]/div[6]/div[1]/ytd-button-renderer[2]/yt-button-shape').click()"
   ]
  },
  {
   "cell_type": "code",
   "execution_count": null,
   "id": "c2f406fb",
   "metadata": {},
   "outputs": [],
   "source": [
    "# Desplegamos para ver la fecha\n",
    "\n",
    "driver.find_element(By.XPATH, '//*[@id=\"expand\"]').click()"
   ]
  },
  {
   "cell_type": "code",
   "execution_count": null,
   "id": "0343214c",
   "metadata": {},
   "outputs": [],
   "source": [
    "#Obtenemos la fecha\n",
    "\n",
    "fecha5 = driver.find_element(By.XPATH, '//*[@id=\"info\"]/span[3]').text\n",
    "fecha5"
   ]
  },
  {
   "cell_type": "code",
   "execution_count": null,
   "id": "20a30c36",
   "metadata": {},
   "outputs": [],
   "source": [
    "driver.quit()"
   ]
  },
  {
   "cell_type": "code",
   "execution_count": null,
   "id": "92f1168c",
   "metadata": {},
   "outputs": [],
   "source": [
    "driver = webdriver.Chrome(opciones)\n",
    "driver.get(url)"
   ]
  },
  {
   "cell_type": "code",
   "execution_count": null,
   "id": "247a9ce4",
   "metadata": {},
   "outputs": [],
   "source": [
    "# Clickamos sobre el mensaje de inicio para entrar en la web\n",
    "\n",
    "x_path = '//*[@id=\"mensaje\"]/div[1]/a'\n",
    "\n",
    "driver.find_element(By.XPATH, x_path).click()"
   ]
  },
  {
   "cell_type": "code",
   "execution_count": null,
   "id": "ddd79295",
   "metadata": {},
   "outputs": [],
   "source": [
    "# Campaña 6 Cerodieciseis, clickamos en ella:\n",
    "\n",
    "driver.find_element(By.XPATH, '//*[@id=\"contenido\"]/div[3]/div/ul/li[6]/a').click()"
   ]
  },
  {
   "cell_type": "code",
   "execution_count": null,
   "id": "2b553027",
   "metadata": {},
   "outputs": [],
   "source": [
    "# Le damos al play en la miniatura, para ello hay que entrar con el driver en el propio frame del vídeo\n",
    "\n",
    "frame = driver.find_element(By.CSS_SELECTOR, 'iframe.player')\n",
    "\n",
    "driver.switch_to.frame(frame)"
   ]
  },
  {
   "cell_type": "code",
   "execution_count": null,
   "id": "297c8215",
   "metadata": {},
   "outputs": [],
   "source": [
    "# Ahora sí, le damos al play\n",
    "\n",
    "driver.find_element(By.XPATH, '//*[@id=\"movie_player\"]/div[4]/button').click()"
   ]
  },
  {
   "cell_type": "code",
   "execution_count": null,
   "id": "2b202ba2",
   "metadata": {},
   "outputs": [],
   "source": [
    "# Nos redirige a Youtube\n",
    "\n",
    "driver.find_element(By.XPATH, '//*[@id=\"movie_player\"]/div[28]/div[2]/div[2]/a').click()"
   ]
  },
  {
   "cell_type": "code",
   "execution_count": null,
   "id": "fbb1843a",
   "metadata": {},
   "outputs": [],
   "source": [
    "driver.switch_to.window(driver.window_handles[1])"
   ]
  },
  {
   "cell_type": "code",
   "execution_count": null,
   "id": "20bd9968",
   "metadata": {},
   "outputs": [],
   "source": [
    "# Aceptamos cookies\n",
    "\n",
    "driver.find_element(By.XPATH, '//*[@id=\"content\"]/div[2]/div[6]/div[1]/ytd-button-renderer[2]/yt-button-shape').click()"
   ]
  },
  {
   "cell_type": "code",
   "execution_count": null,
   "id": "1160a98b",
   "metadata": {},
   "outputs": [],
   "source": [
    "# Desplegamos para ver la fecha\n",
    "\n",
    "driver.find_element(By.XPATH, '//*[@id=\"expand\"]').click()"
   ]
  },
  {
   "cell_type": "code",
   "execution_count": null,
   "id": "e7daedbf",
   "metadata": {},
   "outputs": [],
   "source": [
    "#Obtenemos la fecha\n",
    "\n",
    "fecha6 = driver.find_element(By.XPATH, '//*[@id=\"info\"]/span[3]').text\n",
    "fecha6"
   ]
  },
  {
   "cell_type": "code",
   "execution_count": null,
   "id": "2569fe4c",
   "metadata": {},
   "outputs": [],
   "source": [
    "driver.quit()"
   ]
  },
  {
   "cell_type": "code",
   "execution_count": null,
   "id": "53181f60",
   "metadata": {},
   "outputs": [],
   "source": [
    "driver = webdriver.Chrome(opciones)\n",
    "driver.get(url)"
   ]
  },
  {
   "cell_type": "code",
   "execution_count": null,
   "id": "e79a6adb",
   "metadata": {},
   "outputs": [],
   "source": [
    "# Clickamos sobre el mensaje de inicio para entrar en la web\n",
    "\n",
    "x_path = '//*[@id=\"mensaje\"]/div[1]/a'\n",
    "\n",
    "driver.find_element(By.XPATH, x_path).click()"
   ]
  },
  {
   "cell_type": "code",
   "execution_count": null,
   "id": "9eab7ea2",
   "metadata": {},
   "outputs": [],
   "source": [
    "# Campaña 7 Esunsí, clickamos en ella:\n",
    "\n",
    "driver.find_element(By.XPATH, '//*[@id=\"contenido\"]/div[3]/div/ul/li[7]/a').click()"
   ]
  },
  {
   "cell_type": "code",
   "execution_count": null,
   "id": "8ddbe868",
   "metadata": {},
   "outputs": [],
   "source": [
    "# Le damos al play en la miniatura, para ello hay que entrar con el driver en el propio frame del vídeo\n",
    "\n",
    "frame = driver.find_element(By.CSS_SELECTOR, 'iframe.player')\n",
    "\n",
    "driver.switch_to.frame(frame)"
   ]
  },
  {
   "cell_type": "code",
   "execution_count": null,
   "id": "55b16eac",
   "metadata": {},
   "outputs": [],
   "source": [
    "# Ahora sí, le damos al play\n",
    "\n",
    "driver.find_element(By.XPATH, '//*[@id=\"movie_player\"]/div[4]/button').click()"
   ]
  },
  {
   "cell_type": "code",
   "execution_count": null,
   "id": "c4baa5be",
   "metadata": {},
   "outputs": [],
   "source": [
    "# Nos redirige a Youtube\n",
    "\n",
    "driver.find_element(By.XPATH, '//*[@id=\"movie_player\"]/div[27]/div[2]/div[2]/a').click()"
   ]
  },
  {
   "cell_type": "code",
   "execution_count": null,
   "id": "cc5e4320",
   "metadata": {},
   "outputs": [],
   "source": [
    "driver.switch_to.window(driver.window_handles[1])"
   ]
  },
  {
   "cell_type": "code",
   "execution_count": null,
   "id": "a4f2f5fa",
   "metadata": {},
   "outputs": [],
   "source": [
    "# Aceptamos cookies\n",
    "\n",
    "driver.find_element(By.XPATH, '//*[@id=\"content\"]/div[2]/div[6]/div[1]/ytd-button-renderer[2]/yt-button-shape').click()"
   ]
  },
  {
   "cell_type": "code",
   "execution_count": null,
   "id": "09cb35b3",
   "metadata": {},
   "outputs": [],
   "source": [
    "# Desplegamos para ver la fecha\n",
    "\n",
    "driver.find_element(By.XPATH, '//*[@id=\"expand\"]').click()"
   ]
  },
  {
   "cell_type": "code",
   "execution_count": null,
   "id": "17a96d5e",
   "metadata": {},
   "outputs": [],
   "source": [
    "#Obtenemos la fecha\n",
    "\n",
    "fecha7 = driver.find_element(By.XPATH, '//*[@id=\"info\"]/span[3]').text\n",
    "fecha7"
   ]
  },
  {
   "cell_type": "code",
   "execution_count": null,
   "id": "88fabd97",
   "metadata": {},
   "outputs": [],
   "source": [
    "driver.quit()"
   ]
  },
  {
   "cell_type": "code",
   "execution_count": null,
   "id": "1e9f1348",
   "metadata": {},
   "outputs": [],
   "source": [
    "driver = webdriver.Chrome(opciones)\n",
    "driver.get(url)"
   ]
  },
  {
   "cell_type": "code",
   "execution_count": null,
   "id": "2492ee46",
   "metadata": {},
   "outputs": [],
   "source": [
    "# Clickamos sobre el mensaje de inicio para entrar en la web\n",
    "\n",
    "x_path = '//*[@id=\"mensaje\"]/div[1]/a'\n",
    "\n",
    "driver.find_element(By.XPATH, x_path).click()"
   ]
  },
  {
   "cell_type": "code",
   "execution_count": null,
   "id": "db7802ae",
   "metadata": {},
   "outputs": [],
   "source": [
    "# Campaña 8 Machismo, clickamos en ella:\n",
    "\n",
    "driver.find_element(By.XPATH, '//*[@id=\"contenido\"]/div[3]/div/ul/li[8]/a').click()"
   ]
  },
  {
   "cell_type": "code",
   "execution_count": null,
   "id": "f8c5eca1",
   "metadata": {},
   "outputs": [],
   "source": [
    "# Le damos al play en la miniatura, para ello hay que entrar con el driver en el propio frame del vídeo\n",
    "\n",
    "frame = driver.find_element(By.CSS_SELECTOR, 'iframe.player')\n",
    "\n",
    "driver.switch_to.frame(frame)"
   ]
  },
  {
   "cell_type": "code",
   "execution_count": null,
   "id": "b25d4b69",
   "metadata": {},
   "outputs": [],
   "source": [
    "# Ahora sí, le damos al play\n",
    "\n",
    "driver.find_element(By.XPATH, '//*[@id=\"movie_player\"]/div[4]/button').click()"
   ]
  },
  {
   "cell_type": "code",
   "execution_count": null,
   "id": "d48cf010",
   "metadata": {},
   "outputs": [],
   "source": [
    "# Nos redirige a Youtube\n",
    "\n",
    "driver.find_element(By.XPATH, '//*[@id=\"movie_player\"]/div[28]/div[2]/div[2]/a').click()"
   ]
  },
  {
   "cell_type": "code",
   "execution_count": null,
   "id": "73e943a4",
   "metadata": {},
   "outputs": [],
   "source": [
    "driver.switch_to.window(driver.window_handles[1])"
   ]
  },
  {
   "cell_type": "code",
   "execution_count": null,
   "id": "04aa71c8",
   "metadata": {},
   "outputs": [],
   "source": [
    "# Aceptamos cookies\n",
    "\n",
    "driver.find_element(By.XPATH, '//*[@id=\"content\"]/div[2]/div[6]/div[1]/ytd-button-renderer[2]/yt-button-shape').click()"
   ]
  },
  {
   "cell_type": "code",
   "execution_count": null,
   "id": "69100357",
   "metadata": {},
   "outputs": [],
   "source": [
    "# Desplegamos para ver la fecha\n",
    "\n",
    "driver.find_element(By.XPATH, '//*[@id=\"expand\"]').click()"
   ]
  },
  {
   "cell_type": "code",
   "execution_count": null,
   "id": "f44211bb",
   "metadata": {},
   "outputs": [],
   "source": [
    "#Obtenemos la fecha\n",
    "\n",
    "fecha8 = driver.find_element(By.XPATH, '//*[@id=\"info\"]/span[3]').text\n",
    "fecha8"
   ]
  },
  {
   "cell_type": "code",
   "execution_count": null,
   "id": "4b6ad07f",
   "metadata": {},
   "outputs": [],
   "source": [
    "driver.quit()"
   ]
  },
  {
   "cell_type": "code",
   "execution_count": null,
   "id": "cf6819a5",
   "metadata": {},
   "outputs": [],
   "source": [
    "driver = webdriver.Chrome(opciones)\n",
    "driver.get(url)"
   ]
  },
  {
   "cell_type": "code",
   "execution_count": null,
   "id": "d5ffe5b5",
   "metadata": {},
   "outputs": [],
   "source": [
    "# Clickamos sobre el mensaje de inicio para entrar en la web\n",
    "\n",
    "x_path = '//*[@id=\"mensaje\"]/div[1]/a'\n",
    "\n",
    "driver.find_element(By.XPATH, x_path).click()"
   ]
  },
  {
   "cell_type": "code",
   "execution_count": null,
   "id": "0347523a",
   "metadata": {},
   "outputs": [],
   "source": [
    "# Campaña 9 Laviolencia, clickamos en ella:\n",
    "\n",
    "driver.find_element(By.XPATH, '//*[@id=\"contenido\"]/div[3]/div/ul/li[9]/a').click()"
   ]
  },
  {
   "cell_type": "code",
   "execution_count": null,
   "id": "076a0c31",
   "metadata": {},
   "outputs": [],
   "source": [
    "# Le damos al play en la miniatura, para ello hay que entrar con el driver en el propio frame del vídeo\n",
    "\n",
    "frame = driver.find_element(By.CSS_SELECTOR, 'iframe.player')\n",
    "\n",
    "driver.switch_to.frame(frame)"
   ]
  },
  {
   "cell_type": "code",
   "execution_count": null,
   "id": "0a7ca879",
   "metadata": {},
   "outputs": [],
   "source": [
    "# Ahora sí, le damos al play\n",
    "\n",
    "driver.find_element(By.XPATH, '//*[@id=\"movie_player\"]/div[4]/button').click()"
   ]
  },
  {
   "cell_type": "code",
   "execution_count": null,
   "id": "f8288eaa",
   "metadata": {},
   "outputs": [],
   "source": [
    "# Nos redirige a Youtube\n",
    "\n",
    "driver.find_element(By.XPATH, '//*[@id=\"movie_player\"]/div[28]/div[2]/div[2]/a').click()"
   ]
  },
  {
   "cell_type": "code",
   "execution_count": null,
   "id": "0e2b9bd3",
   "metadata": {},
   "outputs": [],
   "source": [
    "driver.switch_to.window(driver.window_handles[1])"
   ]
  },
  {
   "cell_type": "code",
   "execution_count": null,
   "id": "82f5a93a",
   "metadata": {},
   "outputs": [],
   "source": [
    "# Aceptamos cookies\n",
    "\n",
    "driver.find_element(By.XPATH, '//*[@id=\"content\"]/div[2]/div[6]/div[1]/ytd-button-renderer[2]/yt-button-shape').click()"
   ]
  },
  {
   "cell_type": "code",
   "execution_count": null,
   "id": "6d99626d",
   "metadata": {},
   "outputs": [],
   "source": [
    "# Desplegamos para ver la fecha\n",
    "\n",
    "driver.find_element(By.XPATH, '//*[@id=\"expand\"]').click()"
   ]
  },
  {
   "cell_type": "code",
   "execution_count": null,
   "id": "922a411e",
   "metadata": {},
   "outputs": [],
   "source": [
    "#Obtenemos la fecha\n",
    "\n",
    "fecha9 = driver.find_element(By.XPATH, '//*[@id=\"info\"]/span[3]').text\n",
    "fecha9"
   ]
  },
  {
   "cell_type": "code",
   "execution_count": null,
   "id": "16462a39",
   "metadata": {},
   "outputs": [],
   "source": [
    "driver.quit()"
   ]
  },
  {
   "cell_type": "code",
   "execution_count": null,
   "id": "1da86549",
   "metadata": {},
   "outputs": [],
   "source": [
    "Fechas = (fecha1 + ',' + fecha2 + ',' + fecha3 + ',' + fecha4 + ',' + fecha5 + ',' + fecha6 + ',' + fecha7 + ',' + fecha8 + ',' + fecha9)"
   ]
  },
  {
   "cell_type": "code",
   "execution_count": null,
   "id": "56133425",
   "metadata": {},
   "outputs": [],
   "source": [
    "Fechas"
   ]
  },
  {
   "cell_type": "code",
   "execution_count": null,
   "id": "ea5e1049",
   "metadata": {},
   "outputs": [],
   "source": [
    "\n",
    "\n",
    "fechas = []\n",
    "\n",
    "meses = {'Jul': 7,\n",
    "  'Nov': 11,\n",
    "  'Aug': 8,\n",
    "  'Oct': 10,\n",
    "  'May': 5,\n",
    "  'Apr': 4}\n",
    "    \n",
    "    \n",
    "for i in Fechas:\n",
    "    string = i.split(' ')\n",
    "    dia = int(string[0])\n",
    "    nombre_mes = string[1]\n",
    "    año = int(string[2])\n",
    "    mes = meses[nombre_mes]\n",
    "    fecha = (año, mes, dia).date()\n",
    "\n",
    "    fechas.append(fecha)\n",
    "\n",
    "fechas"
   ]
  },
  {
   "cell_type": "code",
   "execution_count": null,
   "id": "684e4876",
   "metadata": {},
   "outputs": [],
   "source": []
  },
  {
   "cell_type": "code",
   "execution_count": null,
   "id": "44fb132b",
   "metadata": {},
   "outputs": [],
   "source": [
    "fechas"
   ]
  },
  {
   "cell_type": "code",
   "execution_count": null,
   "id": "47249085",
   "metadata": {},
   "outputs": [],
   "source": []
  },
  {
   "cell_type": "code",
   "execution_count": null,
   "id": "a446b085",
   "metadata": {},
   "outputs": [],
   "source": []
  },
  {
   "cell_type": "code",
   "execution_count": null,
   "id": "a401f6d2",
   "metadata": {},
   "outputs": [],
   "source": []
  }
 ],
 "metadata": {
  "kernelspec": {
   "display_name": "Python 3 (ipykernel)",
   "language": "python",
   "name": "python3"
  },
  "language_info": {
   "codemirror_mode": {
    "name": "ipython",
    "version": 3
   },
   "file_extension": ".py",
   "mimetype": "text/x-python",
   "name": "python",
   "nbconvert_exporter": "python",
   "pygments_lexer": "ipython3",
   "version": "3.11.4"
  }
 },
 "nbformat": 4,
 "nbformat_minor": 5
}
