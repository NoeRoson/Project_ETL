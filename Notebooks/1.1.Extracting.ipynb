{
 "cells": [
  {
   "cell_type": "code",
   "execution_count": 1,
   "id": "0de64ef7",
   "metadata": {},
   "outputs": [],
   "source": [
    "import pandas as pd\n",
    "from selenium.webdriver.chrome.options import Options\n",
    "from webdriver_manager.chrome import ChromeDriverManager\n",
    "from selenium.webdriver.support.ui import WebDriverWait\n",
    "from selenium.common.exceptions import NoSuchElementException\n",
    "import time\n",
    "from datetime import datetime\n",
    "import re"
   ]
  },
  {
   "cell_type": "code",
   "execution_count": 2,
   "id": "6a62a103",
   "metadata": {},
   "outputs": [],
   "source": [
    "opciones=Options()\n",
    "\n",
    "opciones.add_experimental_option('excludeSwitches', ['enable-automation'])\n",
    "opciones.add_experimental_option('useAutomationExtension', False)\n",
    "opciones.headless=False    # si True, no aperece la ventana (headless=no visible)\n",
    "opciones.add_argument('--start-maximized')         # comienza maximizado\n",
    "opciones.add_argument('--incognito')\n"
   ]
  },
  {
   "cell_type": "code",
   "execution_count": 3,
   "id": "09cca141",
   "metadata": {},
   "outputs": [],
   "source": [
    "from selenium import webdriver\n",
    "PATH = \"/driver/chromedriver\"\n",
    "from selenium.webdriver.common.by import By\n",
    "driver = webdriver.Chrome(opciones)"
   ]
  },
  {
   "cell_type": "code",
   "execution_count": 4,
   "id": "aceb8ee8",
   "metadata": {},
   "outputs": [],
   "source": [
    "url = 'https://violenciagenero.igualdad.gob.es/sensibilizacionConcienciacion/campannas/violenciaGobierno/home.htm'\n",
    "\n",
    "driver.get(url)"
   ]
  },
  {
   "cell_type": "code",
   "execution_count": 5,
   "id": "464fbe6a",
   "metadata": {},
   "outputs": [
    {
     "data": {
      "text/plain": [
       "['https://violenciagenero.igualdad.gob.es/sensibilizacionConcienciacion/campannas/violenciaGobierno/ESTARVIVAESPA/vgeneroImg.htm',\n",
       " 'https://violenciagenero.igualdad.gob.es/sensibilizacionConcienciacion/campannas/violenciaGobierno/entoncesqui/vgenero.htm',\n",
       " 'https://violenciagenero.igualdad.gob.es/sensibilizacionConcienciacion/campannas/violenciaGobierno/vivas_libres/vgenero.htm',\n",
       " 'https://violenciagenero.igualdad.gob.es/sensibilizacionConcienciacion/campannas/violenciaGobierno/Juntas/vgenero.htm',\n",
       " 'https://violenciagenero.igualdad.gob.es/sensibilizacionConcienciacion/campannas/violenciaGobierno/BuenosTratos/vgenero.htm',\n",
       " 'https://violenciagenero.igualdad.gob.es/sensibilizacionConcienciacion/campannas/violenciaGobierno/CeroDieciseis/vgenero.htm',\n",
       " 'https://violenciagenero.igualdad.gob.es/sensibilizacionConcienciacion/campannas/violenciaGobierno/ElSexoEsunSi/home.htm',\n",
       " 'https://violenciagenero.igualdad.gob.es/sensibilizacionConcienciacion/campannas/violenciaGobierno/MachismoEsViolencia/home.htm',\n",
       " 'https://violenciagenero.igualdad.gob.es/sensibilizacionConcienciacion/campannas/violenciaGobierno/LaViolenciaQueNoVes/home.htm']"
      ]
     },
     "execution_count": 5,
     "metadata": {},
     "output_type": "execute_result"
    }
   ],
   "source": [
    "urls = driver.find_elements(By.XPATH, '//*[@id=\"contenido\"]/div[3]/div/ul/li/a')\n",
    "\n",
    "urlss = [i.get_attribute('href') for i in urls]\n",
    "\n",
    "urlss = urlss[:9]\n",
    "\n",
    "urlss"
   ]
  },
  {
   "cell_type": "code",
   "execution_count": 6,
   "id": "3384665f",
   "metadata": {},
   "outputs": [],
   "source": [
    "def extraer_fecha(url):\n",
    "    driver = webdriver.Chrome()\n",
    "    driver.get(url)\n",
    "    time.sleep(3)\n",
    "    driver.find_element(By.XPATH, '//*[@id=\"mensaje\"]/div[1]/a').click() # Clickamos sobre el mensaje de inicio para entrar en la web\n",
    "    time.sleep(3)\n",
    "    frame = driver.find_element(By.CSS_SELECTOR, 'iframe.player') # El siguiente paso es darle al play en la miniatura\n",
    "    driver.switch_to.frame(frame)    # Para ello hay que entrar con el driver en el propio frame del vídeo\n",
    "    time.sleep(3)\n",
    "    driver.find_element(By.XPATH, '//*[@id=\"movie_player\"]/div[4]/button').click() # Ahora sí le damos al play\n",
    "    driver.find_element(By.CSS_SELECTOR, '#movie_player > div.ytp-chrome-bottom > div.ytp-chrome-controls > div.ytp-right-controls > a').click() # Nos redirige a Youtube\n",
    "    driver.switch_to.window(driver.window_handles[1])  # Para cambiar de ventana, ya que hemos abierto una nueva\n",
    "    time.sleep(3)\n",
    "    driver.find_element(By.XPATH, '//*[@id=\"content\"]/div[2]/div[6]/div[1]/ytd-button-renderer[2]/yt-button-shape').click()  # Aceptamos cookies\n",
    "    time.sleep(2)\n",
    "    driver.find_element(By.CSS_SELECTOR, '#movie_player > div.ytp-chrome-bottom > div.ytp-chrome-controls > div.ytp-left-controls > button').click()   # Pausamos el vídeo\n",
    "    time.sleep(3)\n",
    "    driver.find_element(By.XPATH, '//*[@id=\"expand\"]').click()    # Desplegamos para ver la fecha\n",
    "    fecha = [driver.find_element(By.XPATH, '//*[@id=\"info\"]/span[3]').text]   # Extraemos la fecha\n",
    "    driver.quit()\n",
    "    return fecha"
   ]
  },
  {
   "cell_type": "code",
   "execution_count": 7,
   "id": "b2033caa",
   "metadata": {},
   "outputs": [
    {
     "data": {
      "text/plain": [
       "{'campaña1': 'https://violenciagenero.igualdad.gob.es/sensibilizacionConcienciacion/campannas/violenciaGobierno/ESTARVIVAESPA/vgeneroImg.htm',\n",
       " 'campaña2': 'https://violenciagenero.igualdad.gob.es/sensibilizacionConcienciacion/campannas/violenciaGobierno/entoncesqui/vgenero.htm',\n",
       " 'campaña3': 'https://violenciagenero.igualdad.gob.es/sensibilizacionConcienciacion/campannas/violenciaGobierno/vivas_libres/vgenero.htm',\n",
       " 'campaña4': 'https://violenciagenero.igualdad.gob.es/sensibilizacionConcienciacion/campannas/violenciaGobierno/Juntas/vgenero.htm',\n",
       " 'campaña5': 'https://violenciagenero.igualdad.gob.es/sensibilizacionConcienciacion/campannas/violenciaGobierno/BuenosTratos/vgenero.htm',\n",
       " 'campaña6': 'https://violenciagenero.igualdad.gob.es/sensibilizacionConcienciacion/campannas/violenciaGobierno/CeroDieciseis/vgenero.htm',\n",
       " 'campaña7': 'https://violenciagenero.igualdad.gob.es/sensibilizacionConcienciacion/campannas/violenciaGobierno/ElSexoEsunSi/home.htm',\n",
       " 'campaña8': 'https://violenciagenero.igualdad.gob.es/sensibilizacionConcienciacion/campannas/violenciaGobierno/MachismoEsViolencia/home.htm',\n",
       " 'campaña9': 'https://violenciagenero.igualdad.gob.es/sensibilizacionConcienciacion/campannas/violenciaGobierno/LaViolenciaQueNoVes/home.htm'}"
      ]
     },
     "execution_count": 7,
     "metadata": {},
     "output_type": "execute_result"
    }
   ],
   "source": [
    "campañas = {}\n",
    "\n",
    "for i in range(len(urlss)):\n",
    "    campañas[f\"campaña{i + 1}\"] = urlss[i]\n",
    "campañas"
   ]
  },
  {
   "cell_type": "code",
   "execution_count": 8,
   "id": "684e4876",
   "metadata": {},
   "outputs": [],
   "source": [
    "fechas = []\n",
    "for campaña, url in campañas.items():\n",
    "    fechas.append(extraer_fecha(url))"
   ]
  },
  {
   "cell_type": "code",
   "execution_count": 9,
   "id": "44fb132b",
   "metadata": {},
   "outputs": [
    {
     "data": {
      "text/plain": [
       "[['13 Jul 2023'],\n",
       " ['21 Nov 2022'],\n",
       " ['8 Aug 2022'],\n",
       " ['26 Nov 2021'],\n",
       " ['25 Nov 2021'],\n",
       " ['13 Oct 2021'],\n",
       " ['25 May 2021'],\n",
       " ['14 Apr 2021'],\n",
       " ['25 Nov 2020']]"
      ]
     },
     "execution_count": 9,
     "metadata": {},
     "output_type": "execute_result"
    }
   ],
   "source": [
    "fechas"
   ]
  },
  {
   "cell_type": "code",
   "execution_count": 10,
   "id": "47249085",
   "metadata": {},
   "outputs": [
    {
     "data": {
      "text/plain": [
       "[datetime.date(2023, 7, 13),\n",
       " datetime.date(2022, 11, 21),\n",
       " datetime.date(2022, 8, 8),\n",
       " datetime.date(2021, 11, 26),\n",
       " datetime.date(2021, 11, 25),\n",
       " datetime.date(2021, 10, 13),\n",
       " datetime.date(2021, 5, 25),\n",
       " datetime.date(2021, 4, 14),\n",
       " datetime.date(2020, 11, 25)]"
      ]
     },
     "execution_count": 10,
     "metadata": {},
     "output_type": "execute_result"
    }
   ],
   "source": [
    "fecha_campaña = [datetime.strptime(fecha[0], '%d %b %Y').date() for fecha in fechas]\n",
    "\n",
    "fecha_campaña\n",
    "\n",
    "    "
   ]
  },
  {
   "cell_type": "code",
   "execution_count": 11,
   "id": "4a624450",
   "metadata": {},
   "outputs": [
    {
     "data": {
      "text/html": [
       "<div>\n",
       "<style scoped>\n",
       "    .dataframe tbody tr th:only-of-type {\n",
       "        vertical-align: middle;\n",
       "    }\n",
       "\n",
       "    .dataframe tbody tr th {\n",
       "        vertical-align: top;\n",
       "    }\n",
       "\n",
       "    .dataframe thead th {\n",
       "        text-align: right;\n",
       "    }\n",
       "</style>\n",
       "<table border=\"1\" class=\"dataframe\">\n",
       "  <thead>\n",
       "    <tr style=\"text-align: right;\">\n",
       "      <th></th>\n",
       "      <th>Año</th>\n",
       "      <th>Mes</th>\n",
       "      <th>URL</th>\n",
       "    </tr>\n",
       "  </thead>\n",
       "  <tbody>\n",
       "    <tr>\n",
       "      <th>0</th>\n",
       "      <td>2023</td>\n",
       "      <td>7</td>\n",
       "      <td>https://violenciagenero.igualdad.gob.es/sensib...</td>\n",
       "    </tr>\n",
       "    <tr>\n",
       "      <th>1</th>\n",
       "      <td>2022</td>\n",
       "      <td>11</td>\n",
       "      <td>https://violenciagenero.igualdad.gob.es/sensib...</td>\n",
       "    </tr>\n",
       "    <tr>\n",
       "      <th>2</th>\n",
       "      <td>2022</td>\n",
       "      <td>8</td>\n",
       "      <td>https://violenciagenero.igualdad.gob.es/sensib...</td>\n",
       "    </tr>\n",
       "    <tr>\n",
       "      <th>3</th>\n",
       "      <td>2021</td>\n",
       "      <td>11</td>\n",
       "      <td>https://violenciagenero.igualdad.gob.es/sensib...</td>\n",
       "    </tr>\n",
       "    <tr>\n",
       "      <th>4</th>\n",
       "      <td>2021</td>\n",
       "      <td>11</td>\n",
       "      <td>https://violenciagenero.igualdad.gob.es/sensib...</td>\n",
       "    </tr>\n",
       "    <tr>\n",
       "      <th>5</th>\n",
       "      <td>2021</td>\n",
       "      <td>10</td>\n",
       "      <td>https://violenciagenero.igualdad.gob.es/sensib...</td>\n",
       "    </tr>\n",
       "    <tr>\n",
       "      <th>6</th>\n",
       "      <td>2021</td>\n",
       "      <td>5</td>\n",
       "      <td>https://violenciagenero.igualdad.gob.es/sensib...</td>\n",
       "    </tr>\n",
       "    <tr>\n",
       "      <th>7</th>\n",
       "      <td>2021</td>\n",
       "      <td>4</td>\n",
       "      <td>https://violenciagenero.igualdad.gob.es/sensib...</td>\n",
       "    </tr>\n",
       "    <tr>\n",
       "      <th>8</th>\n",
       "      <td>2020</td>\n",
       "      <td>11</td>\n",
       "      <td>https://violenciagenero.igualdad.gob.es/sensib...</td>\n",
       "    </tr>\n",
       "  </tbody>\n",
       "</table>\n",
       "</div>"
      ],
      "text/plain": [
       "    Año  Mes                                                URL\n",
       "0  2023    7  https://violenciagenero.igualdad.gob.es/sensib...\n",
       "1  2022   11  https://violenciagenero.igualdad.gob.es/sensib...\n",
       "2  2022    8  https://violenciagenero.igualdad.gob.es/sensib...\n",
       "3  2021   11  https://violenciagenero.igualdad.gob.es/sensib...\n",
       "4  2021   11  https://violenciagenero.igualdad.gob.es/sensib...\n",
       "5  2021   10  https://violenciagenero.igualdad.gob.es/sensib...\n",
       "6  2021    5  https://violenciagenero.igualdad.gob.es/sensib...\n",
       "7  2021    4  https://violenciagenero.igualdad.gob.es/sensib...\n",
       "8  2020   11  https://violenciagenero.igualdad.gob.es/sensib..."
      ]
     },
     "execution_count": 11,
     "metadata": {},
     "output_type": "execute_result"
    }
   ],
   "source": [
    "campañas_vg = pd.DataFrame({'Año': [i.year for i in fecha_campaña], \n",
    "                            'Mes': [i.month for i in fecha_campaña], \n",
    "                            'URL': campañas.values()})\n",
    "campañas_vg"
   ]
  },
  {
   "cell_type": "code",
   "execution_count": 12,
   "id": "06d35e73",
   "metadata": {},
   "outputs": [
    {
     "name": "stdout",
     "output_type": "stream",
     "text": [
      "<class 'pandas.core.frame.DataFrame'>\n",
      "RangeIndex: 9 entries, 0 to 8\n",
      "Data columns (total 3 columns):\n",
      " #   Column  Non-Null Count  Dtype \n",
      "---  ------  --------------  ----- \n",
      " 0   Año     9 non-null      int64 \n",
      " 1   Mes     9 non-null      int64 \n",
      " 2   URL     9 non-null      object\n",
      "dtypes: int64(2), object(1)\n",
      "memory usage: 344.0+ bytes\n"
     ]
    }
   ],
   "source": [
    "campañas_vg.info()"
   ]
  },
  {
   "cell_type": "code",
   "execution_count": null,
   "id": "59e8c690",
   "metadata": {},
   "outputs": [],
   "source": []
  },
  {
   "cell_type": "code",
   "execution_count": 18,
   "id": "4cb37275",
   "metadata": {},
   "outputs": [],
   "source": [
    "# DOCUMENTAL ROCIO\n",
    "\n",
    "url_ori = 'https://maldita.es/malditodato/20210409/llamadas-016-crecieron-marzo-documental-rocio-carrasco/'\n",
    "\n",
    "driver = webdriver.Chrome()\n",
    "driver.get(url_ori)\n",
    "time.sleep(3)\n",
    "driver.find_element(By.XPATH, '//*[@id=\"iuxh\"]/div[1]/div/div[2]/button[1]').click()   # Aceptamos cookies\n",
    "time.sleep(2)\n",
    "driver.find_element(By.XPATH, '//*[@id=\"article-text\"]/p[1]/a[2]').click()  #Pulsamos sobre el hipervínculo 'emisión del primer episodio el 21 de marzo'\n",
    "time.sleep(3)\n",
    "driver.switch_to.window(driver.window_handles[1])  # Cambiamos de ventana, ya que hemos abierto una nueva\n",
    "driver.find_element(By.XPATH, '//*[@id=\"didomi-notice-agree-button\"]').click()  # Aceptamos cookies de nuevo\n",
    "time.sleep(2)\n",
    "titular = driver.find_element(By.XPATH, '//*[@id=\"article_multisite\"]/div/article/header/h1').text  # Clickamos sobre el texto donde se refleja la fecha\n",
    "fecha_docu = titular.split()[-1]   # Dividimos la string por espacios y nos quedamos con el último elemento, que es la fecha\n",
    "driver.quit()"
   ]
  },
  {
   "cell_type": "code",
   "execution_count": 20,
   "id": "66466c8d",
   "metadata": {},
   "outputs": [
    {
     "data": {
      "text/plain": [
       "'(21/03/21)'"
      ]
     },
     "execution_count": 20,
     "metadata": {},
     "output_type": "execute_result"
    }
   ],
   "source": [
    "#mes_docu = int(fecha_docu[1])\n",
    "fecha_docu"
   ]
  },
  {
   "cell_type": "code",
   "execution_count": 25,
   "id": "0abad3e7",
   "metadata": {},
   "outputs": [
    {
     "data": {
      "text/plain": [
       "['(21', '03', '21)']"
      ]
     },
     "execution_count": 25,
     "metadata": {},
     "output_type": "execute_result"
    }
   ],
   "source": [
    "fecha_docu = fecha_docu.split('/')\n",
    "fecha_docu"
   ]
  },
  {
   "cell_type": "code",
   "execution_count": 27,
   "id": "c24486b0",
   "metadata": {},
   "outputs": [
    {
     "data": {
      "text/plain": [
       "3"
      ]
     },
     "execution_count": 27,
     "metadata": {},
     "output_type": "execute_result"
    }
   ],
   "source": [
    "mes_docu = int(fecha_docu[1])\n",
    "mes_docu"
   ]
  },
  {
   "cell_type": "code",
   "execution_count": 28,
   "id": "1f73d0ca",
   "metadata": {},
   "outputs": [
    {
     "data": {
      "text/plain": [
       "'21'"
      ]
     },
     "execution_count": 28,
     "metadata": {},
     "output_type": "execute_result"
    }
   ],
   "source": [
    "año_docu = re.search(r'\\d+', fecha_docu[2]).group()   # Nos quedamos solo con la parte numérica\n",
    "año_docu"
   ]
  },
  {
   "cell_type": "code",
   "execution_count": 35,
   "id": "034290a0",
   "metadata": {},
   "outputs": [
    {
     "data": {
      "text/plain": [
       "2021"
      ]
     },
     "execution_count": 35,
     "metadata": {},
     "output_type": "execute_result"
    }
   ],
   "source": [
    "año_doc = int(datetime.strptime(año_docu, \"%y\").strftime(\"%Y\"))\n",
    "año_doc"
   ]
  },
  {
   "cell_type": "code",
   "execution_count": 34,
   "id": "f9ff344f",
   "metadata": {},
   "outputs": [
    {
     "name": "stdout",
     "output_type": "stream",
     "text": [
      "<class 'pandas.core.frame.DataFrame'>\n",
      "RangeIndex: 10 entries, 0 to 9\n",
      "Data columns (total 3 columns):\n",
      " #   Column  Non-Null Count  Dtype \n",
      "---  ------  --------------  ----- \n",
      " 0   Año     10 non-null     int64 \n",
      " 1   Mes     10 non-null     int64 \n",
      " 2   URL     10 non-null     object\n",
      "dtypes: int64(2), object(1)\n",
      "memory usage: 368.0+ bytes\n"
     ]
    }
   ],
   "source": [
    "nueva_fila = pd.DataFrame({'Año': [año_doc], 'Mes': [mes_docu], 'URL': ['https://www.mitele.es/programas-tv/rocio-contar-la-verdad-para-seguir-viva/']})\n",
    "\n",
    "campañas_vg = pd.concat([campañas_vg, nueva_fila], ignore_index=True)\n",
    "campañas_vg.info()"
   ]
  },
  {
   "cell_type": "code",
   "execution_count": 36,
   "id": "910e49c7",
   "metadata": {},
   "outputs": [
    {
     "data": {
      "text/html": [
       "<div>\n",
       "<style scoped>\n",
       "    .dataframe tbody tr th:only-of-type {\n",
       "        vertical-align: middle;\n",
       "    }\n",
       "\n",
       "    .dataframe tbody tr th {\n",
       "        vertical-align: top;\n",
       "    }\n",
       "\n",
       "    .dataframe thead th {\n",
       "        text-align: right;\n",
       "    }\n",
       "</style>\n",
       "<table border=\"1\" class=\"dataframe\">\n",
       "  <thead>\n",
       "    <tr style=\"text-align: right;\">\n",
       "      <th></th>\n",
       "      <th>Año</th>\n",
       "      <th>Mes</th>\n",
       "      <th>URL</th>\n",
       "    </tr>\n",
       "  </thead>\n",
       "  <tbody>\n",
       "    <tr>\n",
       "      <th>8</th>\n",
       "      <td>2020</td>\n",
       "      <td>11</td>\n",
       "      <td>https://violenciagenero.igualdad.gob.es/sensib...</td>\n",
       "    </tr>\n",
       "    <tr>\n",
       "      <th>3</th>\n",
       "      <td>2021</td>\n",
       "      <td>11</td>\n",
       "      <td>https://violenciagenero.igualdad.gob.es/sensib...</td>\n",
       "    </tr>\n",
       "    <tr>\n",
       "      <th>4</th>\n",
       "      <td>2021</td>\n",
       "      <td>11</td>\n",
       "      <td>https://violenciagenero.igualdad.gob.es/sensib...</td>\n",
       "    </tr>\n",
       "    <tr>\n",
       "      <th>5</th>\n",
       "      <td>2021</td>\n",
       "      <td>10</td>\n",
       "      <td>https://violenciagenero.igualdad.gob.es/sensib...</td>\n",
       "    </tr>\n",
       "    <tr>\n",
       "      <th>6</th>\n",
       "      <td>2021</td>\n",
       "      <td>5</td>\n",
       "      <td>https://violenciagenero.igualdad.gob.es/sensib...</td>\n",
       "    </tr>\n",
       "    <tr>\n",
       "      <th>7</th>\n",
       "      <td>2021</td>\n",
       "      <td>4</td>\n",
       "      <td>https://violenciagenero.igualdad.gob.es/sensib...</td>\n",
       "    </tr>\n",
       "    <tr>\n",
       "      <th>9</th>\n",
       "      <td>2021</td>\n",
       "      <td>3</td>\n",
       "      <td>https://www.mitele.es/programas-tv/rocio-conta...</td>\n",
       "    </tr>\n",
       "    <tr>\n",
       "      <th>1</th>\n",
       "      <td>2022</td>\n",
       "      <td>11</td>\n",
       "      <td>https://violenciagenero.igualdad.gob.es/sensib...</td>\n",
       "    </tr>\n",
       "    <tr>\n",
       "      <th>2</th>\n",
       "      <td>2022</td>\n",
       "      <td>8</td>\n",
       "      <td>https://violenciagenero.igualdad.gob.es/sensib...</td>\n",
       "    </tr>\n",
       "    <tr>\n",
       "      <th>0</th>\n",
       "      <td>2023</td>\n",
       "      <td>7</td>\n",
       "      <td>https://violenciagenero.igualdad.gob.es/sensib...</td>\n",
       "    </tr>\n",
       "  </tbody>\n",
       "</table>\n",
       "</div>"
      ],
      "text/plain": [
       "    Año  Mes                                                URL\n",
       "8  2020   11  https://violenciagenero.igualdad.gob.es/sensib...\n",
       "3  2021   11  https://violenciagenero.igualdad.gob.es/sensib...\n",
       "4  2021   11  https://violenciagenero.igualdad.gob.es/sensib...\n",
       "5  2021   10  https://violenciagenero.igualdad.gob.es/sensib...\n",
       "6  2021    5  https://violenciagenero.igualdad.gob.es/sensib...\n",
       "7  2021    4  https://violenciagenero.igualdad.gob.es/sensib...\n",
       "9  2021    3  https://www.mitele.es/programas-tv/rocio-conta...\n",
       "1  2022   11  https://violenciagenero.igualdad.gob.es/sensib...\n",
       "2  2022    8  https://violenciagenero.igualdad.gob.es/sensib...\n",
       "0  2023    7  https://violenciagenero.igualdad.gob.es/sensib..."
      ]
     },
     "execution_count": 36,
     "metadata": {},
     "output_type": "execute_result"
    }
   ],
   "source": [
    "campañas_vg = campañas_vg.sort_values(by='Año')\n",
    "campañas_vg"
   ]
  },
  {
   "cell_type": "code",
   "execution_count": 37,
   "id": "a63a0df3",
   "metadata": {},
   "outputs": [],
   "source": [
    "# EXPORTAR CSV\n",
    "campañas_vg.to_csv('../data/data_clean/campañas_vg.csv', index=False)\n"
   ]
  }
 ],
 "metadata": {
  "kernelspec": {
   "display_name": "clase",
   "language": "python",
   "name": "clase"
  },
  "language_info": {
   "codemirror_mode": {
    "name": "ipython",
    "version": 3
   },
   "file_extension": ".py",
   "mimetype": "text/x-python",
   "name": "python",
   "nbconvert_exporter": "python",
   "pygments_lexer": "ipython3",
   "version": "3.10.13"
  }
 },
 "nbformat": 4,
 "nbformat_minor": 5
}
