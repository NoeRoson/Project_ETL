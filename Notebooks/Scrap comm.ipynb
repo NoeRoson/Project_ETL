{
 "cells": [
  {
   "cell_type": "code",
   "execution_count": 1,
   "id": "4d57911c",
   "metadata": {},
   "outputs": [],
   "source": [
    "import pandas as pd\n",
    "from selenium.webdriver.chrome.options import Options\n",
    "from webdriver_manager.chrome import ChromeDriverManager\n",
    "from selenium.webdriver.support.ui import WebDriverWait\n",
    "from selenium.webdriver.common.keys import Keys\n",
    "import time\n",
    "from datetime import datetime"
   ]
  },
  {
   "cell_type": "code",
   "execution_count": 2,
   "id": "c749e4f7",
   "metadata": {},
   "outputs": [],
   "source": [
    "opciones=Options()\n",
    "\n",
    "opciones.add_experimental_option('excludeSwitches', ['enable-automation'])\n",
    "opciones.add_experimental_option('useAutomationExtension', False)\n",
    "opciones.headless=False    # si True, no aperece la ventana (headless=no visible)\n",
    "opciones.add_argument('--start-maximized')         # comienza maximizado\n",
    "#opciones.add_argument('user-data-dir=selenium')    # mantiene las cookies\n",
    "#opciones.add_extension('driver_folder/adblock.crx')       # adblocker\n",
    "opciones.add_argument('--incognito')\n"
   ]
  },
  {
   "cell_type": "code",
   "execution_count": 3,
   "id": "12c46600",
   "metadata": {},
   "outputs": [],
   "source": [
    "from selenium import webdriver\n",
    "PATH = \"/driver/chromedriver\"\n",
    "from selenium.webdriver.common.by import By\n",
    "driver = webdriver.Chrome(opciones)"
   ]
  },
  {
   "cell_type": "code",
   "execution_count": 23,
   "id": "51b876a8",
   "metadata": {},
   "outputs": [],
   "source": [
    "url = 'https://www.youtube.com/watch?v=6Qdjfj6VqCQ&t=1s'\n",
    "\n",
    "def extraer_comentario(url):\n",
    "    driver = webdriver.Chrome()\n",
    "    driver.get(url)\n",
    "    time.sleep(3)\n",
    "    #driver.find_element(By.XPATH, '//*[@id=\"mensaje\"]/div[1]/a').click() # Clickamos sobre el mensaje de inicio para entrar en la web\n",
    "    #time.sleep(3)\n",
    "    #frame = driver.find_element(By.CSS_SELECTOR, 'iframe.player') # El siguiente paso es darle al play en la miniatura\n",
    "    #driver.switch_to.frame(frame)    # Para ello hay que entrar con el driver en el propio frame del vídeo\n",
    "    #time.sleep(3)\n",
    "    #driver.find_element(By.XPATH, '//*[@id=\"movie_player\"]/div[4]/button').click() # Ahora sí le damos al play\n",
    "    #driver.find_element(By.CSS_SELECTOR, '#movie_player > div.ytp-chrome-bottom > div.ytp-chrome-controls > div.ytp-right-controls > a').click() # Nos redirige a Youtube\n",
    "    #driver.switch_to.window(driver.window_handles[1])  # Para cambiar de ventana, ya que hemos abierto una nueva\n",
    "    #time.sleep(3)\n",
    "    driver.find_element(By.XPATH, '//*[@id=\"content\"]/div[2]/div[6]/div[1]/ytd-button-renderer[2]/yt-button-shape').click()  # Aceptamos cookies\n",
    "    time.sleep(2)\n",
    "    driver.find_element(By.CSS_SELECTOR, '#movie_player > div.ytp-chrome-bottom > div.ytp-chrome-controls > div.ytp-left-controls > button').click()   # Pausamos el vídeo\n",
    "    time.sleep(3)\n",
    "    driver.execute_script(\"window.scrollTo(0, document.body.scrollHeight)\") # Para hacer scroll hasta abajo\n",
    "    time.sleep(5)\n",
    "    coments = driver.find_elements(By.XPATH, '//*[@id=\"content-text\"]')\n",
    "    comentarios = [i.text for i in coments]\n",
    "    driver.quit()\n",
    "    return comentarios"
   ]
  },
  {
   "cell_type": "code",
   "execution_count": 24,
   "id": "c71f0804",
   "metadata": {},
   "outputs": [
    {
     "data": {
      "text/plain": [
       "[]"
      ]
     },
     "execution_count": 24,
     "metadata": {},
     "output_type": "execute_result"
    }
   ],
   "source": [
    "extraer_comentario(url)"
   ]
  },
  {
   "cell_type": "code",
   "execution_count": 164,
   "id": "a0cb6d36",
   "metadata": {},
   "outputs": [],
   "source": [
    "url = 'https://www.youtube.com/watch?v=6Qdjfj6VqCQ&t=1s'\n",
    "driver = webdriver.Chrome()\n",
    "driver.get(url)\n",
    "time.sleep(2)\n",
    "driver.find_element(By.XPATH, '//*[@id=\"content\"]/div[2]/div[6]/div[1]/ytd-button-renderer[2]/yt-button-shape').click()  # Aceptamos cookies\n",
    "time.sleep(3)\n",
    "driver.find_element(By.CSS_SELECTOR, '#movie_player > div.ytp-chrome-bottom > div.ytp-chrome-controls > div.ytp-left-controls > button').click()   # Pausamos el vídeo\n",
    "time.sleep(3)\n",
    "driver.execute_script('window.scrollTo(0, document.body.scrollHeight)') # Para hacer scroll hasta abajo\n",
    "time.sleep(5)\n",
    "\n",
    "\n"
   ]
  },
  {
   "cell_type": "code",
   "execution_count": 174,
   "id": "50b49ff3",
   "metadata": {},
   "outputs": [
    {
     "data": {
      "text/plain": [
       "[]"
      ]
     },
     "execution_count": 174,
     "metadata": {},
     "output_type": "execute_result"
    }
   ],
   "source": [
    "caja = driver.find_element(By.CLASS_NAME, 'style-scope.ytd-item-section-renderer')    # Para acceder a la caja que contiene todo\n",
    "com = driver.find_elements(By.XPATH, '//*[@id=\"content-text\"]')\n",
    "com"
   ]
  },
  {
   "cell_type": "code",
   "execution_count": 169,
   "id": "f67e1ea7",
   "metadata": {},
   "outputs": [
    {
     "data": {
      "text/plain": [
       "[]"
      ]
     },
     "execution_count": 169,
     "metadata": {},
     "output_type": "execute_result"
    }
   ],
   "source": [
    "\n"
   ]
  },
  {
   "cell_type": "code",
   "execution_count": 171,
   "id": "02a6239d",
   "metadata": {},
   "outputs": [
    {
     "data": {
      "text/plain": [
       "7"
      ]
     },
     "execution_count": 171,
     "metadata": {},
     "output_type": "execute_result"
    }
   ],
   "source": [
    "coments = driver.find_elements(By.XPATH, '//*[@id=\"content\"]')\n",
    "len(coments)"
   ]
  },
  {
   "cell_type": "code",
   "execution_count": 152,
   "id": "aea7ebb2",
   "metadata": {},
   "outputs": [
    {
     "data": {
      "text/plain": [
       "['ES\\nSign in\\n0:03 / 0:37\\nCampaña #LaViolenciaQueNoVes\\nMinisterio de Igualdad\\n8.83K subscribers\\nSubscribe\\n4\\n5\\n 1\\n8\\n9\\nShare\\n    \\n    \\n    \\n   \\n    \\n    \\n    \\n   646K views  2 years ago\\nCampaña de sensibilización de la Delegación del Gobierno contra la Violencia de Género y del Ministerio de Igualdad sobre las violencias machistas \"La violencia que no ves\". \\n...more\\n0:35\\nConstruyamos igualdad en nuestro día a día - Campaña \"Violencia también es\"\\nPCM Perú\\n57K views 4 years ago\\n0:46\\nSPOT IGUALDAD DE GÉNERO\\nArcotel Ecuador\\n7.9K views 5 years ago\\n1:21\\nPablo Motos responde a la campaña de Igualdad que utiliza una frase suya: \"El Ministerio miente\"\\n20minutos\\n57K views 11 months ago\\n1:12\\nSer Libre. Estar Viva. España\\nMinisterio de Igualdad\\n28K views 3 months ago\\n1:04\\nCampaña de prevención de la violencia de género en la juventud.\\nConcilia2\\n1.4K views 1 year ago\\n3:30\\nCampaña argentina sobre violencia contra las mujeres\\nINMUJERES México\\n197K views 4 years ago\\n1:12\\nHe for She - Campaña ONU Mujeres\\nInstituto de la Mujer para el Estado de Morelos\\n97K views 7 years ago\\nDIRECTO| El PP convoca una gran concentración en Valencia contra la amnistía\\nOKDIARIO\\n4.2K watching\\nLIVE\\nPresentación del Informe de Evaluación del Pacto de Estado contra la Violencia de Género 2018-2022\\nMinisterio de Igualdad\\n723 views Streamed 10 days ago\\nEl vídeo danés que nos recuerda lo fácil que es encasillar a las personas\\nverne\\n3.7M views 6 years ago\\nCampaña Ante la violencia de género, mantén los ojos abiertos\\nFad Juventud\\n20K views 1 year ago\\nSpot contra la violencia de género\\nCanalULL\\n191K views 6 years ago\\n#EsViolencia: Experimento Social\\nParece Normal Pero #EsViolencia\\n195K views 4 years ago\\nSpot violencia de género 2016\\nlex molero\\n31K views 7 years ago\\nInspirando al futuro sin estereotipos\\nRealkiddys\\n805K views 6 years ago\\nVIOLENCIA FÍSICA / CAMPAÑA RESPONSABILIDAD SOCIAL CARACOL TV\\nCamilo Gómez P.\\n109K views 9 years ago\\n¿Y tú? ¿Qué vas a decir? - spot contra la violencia machista 2022\\nFademur\\n6.8K views 11 months ago\\n¿Alguna vez viviste o escuchaste sobre una situación de violencia laboral así?\\nMinisterio de las Mujeres, Géneros y Diversidad\\n15K views 1 year ago\\nCaperucita dice NO - #CambiaelCuento - Violencias machistas\\nCambia el cuento\\n838K views 5 years ago\\nCampaña en contra de la Violencia hacia la Mujer #ViolenciaDisfrazadaDeAmor\\nPCM Perú\\n539K views 3 years ago',\n",
       " '',\n",
       " '',\n",
       " '',\n",
       " '',\n",
       " '',\n",
       " '']"
      ]
     },
     "execution_count": 152,
     "metadata": {},
     "output_type": "execute_result"
    }
   ],
   "source": [
    "comentarios = [i.text for i in coments]  # Los convertimos a texto\n",
    "comentarios"
   ]
  },
  {
   "cell_type": "code",
   "execution_count": 154,
   "id": "f5134c92",
   "metadata": {},
   "outputs": [],
   "source": [
    "driver.quit()"
   ]
  },
  {
   "cell_type": "code",
   "execution_count": null,
   "id": "98a0e61d",
   "metadata": {},
   "outputs": [],
   "source": []
  },
  {
   "cell_type": "code",
   "execution_count": null,
   "id": "898e0760",
   "metadata": {},
   "outputs": [],
   "source": []
  },
  {
   "cell_type": "code",
   "execution_count": null,
   "id": "c96d4c47",
   "metadata": {},
   "outputs": [],
   "source": []
  },
  {
   "cell_type": "code",
   "execution_count": null,
   "id": "bf8132d5",
   "metadata": {},
   "outputs": [],
   "source": []
  },
  {
   "cell_type": "code",
   "execution_count": null,
   "id": "fc8b9547",
   "metadata": {},
   "outputs": [],
   "source": []
  },
  {
   "cell_type": "code",
   "execution_count": null,
   "id": "fceb80bb",
   "metadata": {},
   "outputs": [],
   "source": []
  },
  {
   "cell_type": "code",
   "execution_count": 5,
   "id": "6dc7eec4",
   "metadata": {},
   "outputs": [],
   "source": [
    "c6 = 'https://www.youtube.com/watch?v=3HYcXhPY70M&list=PLMXzkNaN1GD0Y0XLyg7PBdZ_VAaUL6zl9'"
   ]
  },
  {
   "cell_type": "code",
   "execution_count": 6,
   "id": "056c973f",
   "metadata": {},
   "outputs": [],
   "source": [
    "driver.get(c1)\n",
    "\n",
    "time.sleep(2)"
   ]
  },
  {
   "cell_type": "code",
   "execution_count": 7,
   "id": "dec48412",
   "metadata": {},
   "outputs": [],
   "source": [
    "# Aceptamos cookies\n",
    "\n",
    "driver.find_element(By.XPATH, '//*[@id=\"content\"]/div[2]/div[6]/div[1]/ytd-button-renderer[2]/yt-button-shape').click()\n",
    "\n",
    "time.sleep(2)"
   ]
  },
  {
   "cell_type": "code",
   "execution_count": 8,
   "id": "94eed9dd",
   "metadata": {},
   "outputs": [],
   "source": [
    "# Pausamos el vídeo\n",
    "\n",
    "driver.find_element(By.XPATH, '//*[@id=\"movie_player\"]/div[29]/div[2]/div[1]/button').click()"
   ]
  },
  {
   "cell_type": "code",
   "execution_count": 9,
   "id": "811e4152",
   "metadata": {},
   "outputs": [],
   "source": [
    "# Realizamos el desplazamiento utilizando teclas de flecha hacia abajo ya que no funciona el scroll\n",
    "body = driver.find_element(By.TAG_NAME, 'body')\n",
    "for _ in range(5):\n",
    "    body.send_keys(Keys.PAGE_DOWN)\n",
    "    time.sleep(2)"
   ]
  },
  {
   "cell_type": "code",
   "execution_count": 10,
   "id": "73152500",
   "metadata": {},
   "outputs": [],
   "source": [
    "caja = driver.find_element(By.XPATH, '//*[@id=\"sections\"]')"
   ]
  },
  {
   "cell_type": "code",
   "execution_count": 11,
   "id": "23e798eb",
   "metadata": {},
   "outputs": [
    {
     "data": {
      "text/plain": [
       "['grandeeee y hermoso, una obra de arte!',\n",
       " 'Educar en igualdad...lo que hay que escuchar...',\n",
       " 'La parte que dice que lo fe la foto privada sea un delito, ya lo es, no se que tanto problema hay ademas de que muchas pqrejas cuelgan sus fotos de en las redes y no tienen que pedir explícitamente tu consentimiento de verdad dejad de adoctrinar',\n",
       " 'En este no me han llamado violador potencial, van mejorando! ',\n",
       " 'Ser, libre, libra y libro ',\n",
       " 'Magnífico. Muchas gracias ',\n",
       " '¿cobrar lo mismo que un tío?... ¿no pueden decir \"cobrar lo mismo que un hombre\"?  Me parece bien que se proteja a la mujer etc etc... Pero este tipo de vídeos no los veo qué vayan a solucionar nada... Creo en el acercamiento de posturas, en buscar una solución juntos entre todos... Habría que analizar muchas cosas entre todos... Por ejemplo si una mujer se siente atraída por chulitos y malotes pues difícil solución tiene... El culpable número uno es el hombre, ok... Pero también hay que modificar la sociedad... Hay películas, series, canciones, redes sociales, etc en que lo atractivo es ser un tipo duro, chulo, malote, altivo, narcisista, etc...',\n",
       " 'Con vostra Ministerio de igualdad, gracias',\n",
       " 'Es gracioso como un comentario del video puede tener más likes que el video en sí.',\n",
       " 'La violencia no tiene género. Es lo mismo si te pega un hombre o una mujer, lo que importa es la persona que te lo hace.',\n",
       " 'maravilloso el video gracias hermanas',\n",
       " 'Educar en igualdad dice...',\n",
       " 'Lo mejor que ha hecho el psoe es crear el ministerio de Igualdad.\\nUna verdadera vanguardia para todas.\\nMe ha encantado.Sobre todo ganar igual o más que cualquier hombre.\\nGracias Sra.Ministra.',\n",
       " '\"Nuestras abuelas\"\\nLas abuelas:',\n",
       " 'Maravilloso y muy Necesario vídeo Gracias al MINISTERIO DE IGUALDAD  VIVA Irene Montero  Se te Quiere  GRACIAS MINISTRA ',\n",
       " 'Ministerio de desigualdad.',\n",
       " 'SRA MINISTRA, IRENE MONTERO,  ES UD, MÁS NECESARIA Q NUNCA ',\n",
       " 'Tiene pinta de que el vídeo lo ha diseñado una mujer feminista... me parece basura. Cuántos miles de euros ha costado? Y cuántos os habéis quedado?',\n",
       " 'Lamentable!',\n",
       " '',\n",
       " 'Muéstrame una sola nómina o convenio donde cobres menos salario bruto/dia por ser mujer.',\n",
       " 'Ministerio de desigualdad',\n",
       " 'Esta claro q se permite la hipnosis en cualquier publicidad. Aunque venga del gobierno? Quizss debería quitar este comentario y hacer autocensura por lo vigilado que nos tienen? Pobre general de la guardia civil.',\n",
       " 'Viendo estos anuncios cualquiera diría que vivimos en Irán',\n",
       " 'Ministerio de propaganda sectaria',\n",
       " 'Fuera ya!',\n",
       " 'Este ministerio es una vergüenza, gastais nuestro dinero en charadas sin sentido.',\n",
       " 'propaganda política pagada por todos',\n",
       " 'Puedes casarte con un perro o un caballo si quieres , ¡claro que si! \\nAsi va España .',\n",
       " 'Pero se les ha olvidado lo de los 1.155 abusadores condenados a los que han reducido las penas, no? O no..',\n",
       " 'Ya no engañáis a nadie.',\n",
       " 'Cobrar lo mismo que un tio solo si haces el mismo esfuerzo y mismo resultado, estais vivas que jo sepa, creo que tanta inmigración las los les confundio ya no se que mas pronombres poner avisame si me dejo alguno VIVA ESPAÑA !',\n",
       " 'Señoros, demasiado señoro escribido',\n",
       " 'Se ha colado un poco de vídeo en la propaganda.',\n",
       " 'educar con igualdad?',\n",
       " 'En esta roña gastan nuestros impuestos??',\n",
       " '',\n",
       " 'Cuanto nos ha costado el anuncio?',\n",
       " 'Globalismo en acción',\n",
       " 'ojo, que los comentarios están abiertos !!\\npero supongo que ultra.censurados']"
      ]
     },
     "execution_count": 11,
     "metadata": {},
     "output_type": "execute_result"
    }
   ],
   "source": [
    "\n",
    "comm = driver.find_elements(By.CSS_SELECTOR, '#content-text')\n",
    "texto = [i.text for i in comm]\n",
    "    \n",
    "\n",
    "texto"
   ]
  },
  {
   "cell_type": "code",
   "execution_count": 12,
   "id": "f7069cc2",
   "metadata": {},
   "outputs": [],
   "source": [
    "driver.quit()"
   ]
  },
  {
   "cell_type": "code",
   "execution_count": null,
   "id": "3f584ec8",
   "metadata": {},
   "outputs": [],
   "source": []
  },
  {
   "cell_type": "code",
   "execution_count": null,
   "id": "800b4dfb",
   "metadata": {},
   "outputs": [],
   "source": []
  }
 ],
 "metadata": {
  "kernelspec": {
   "display_name": "clase",
   "language": "python",
   "name": "clase"
  },
  "language_info": {
   "codemirror_mode": {
    "name": "ipython",
    "version": 3
   },
   "file_extension": ".py",
   "mimetype": "text/x-python",
   "name": "python",
   "nbconvert_exporter": "python",
   "pygments_lexer": "ipython3",
   "version": "3.10.13"
  }
 },
 "nbformat": 4,
 "nbformat_minor": 5
}
